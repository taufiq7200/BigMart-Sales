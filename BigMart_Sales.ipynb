{
  "nbformat": 4,
  "nbformat_minor": 0,
  "metadata": {
    "colab": {
      "name": "BigMart Sales.ipynb",
      "provenance": [],
      "collapsed_sections": []
    },
    "kernelspec": {
      "name": "python3",
      "display_name": "Python 3"
    },
    "language_info": {
      "name": "python"
    }
  },
  "cells": [
    {
      "cell_type": "markdown",
      "source": [
        "## BigMart Sales prediction\n",
        "\n",
        "\n",
        "\n",
        "\n",
        "\n"
      ],
      "metadata": {
        "id": "rLvgQk0HZi6R"
      }
    },
    {
      "cell_type": "markdown",
      "source": [
        "# Problem Statement:\n",
        "Nowadays, shopping malls and Big Marts keep track of individual item sales data in\n",
        "order to forecast future client demand and adjust inventory management. In a data\n",
        "warehouse, these data stores hold a significant amount of consumer information and\n",
        "particular item details. By mining the data store from the data warehouse, more\n",
        "anomalies and common patterns can be discovered."
      ],
      "metadata": {
        "id": "7SgtnqvjZyA2"
      }
    },
    {
      "cell_type": "markdown",
      "source": [
        "#Approach:\n",
        "The classical machine learning tasks like Data Exploration, Data Cleaning,\n",
        "Feature Engineering, Model Building and Model Testing. Try out different machine\n",
        "learning algorithms that’s best fit for the above case."
      ],
      "metadata": {
        "id": "j5IXPKCjZyIG"
      }
    },
    {
      "cell_type": "markdown",
      "metadata": {
        "id": "oHZsPfkOy5qT"
      },
      "source": [
        "# Description:\n",
        "1. Item_Identifier: Unique product ID\n",
        "2. Item_Weight: Weight of product\n",
        "3. Item_Fat_Content: Whether the product is low fat or not\n",
        "4. Item_Visibility: The % of total display area of all products in a store allocated to the particular product\n",
        "5. tem_Type: The category to which the product belongs\n",
        "6. Item_MRP: Maximum Retail Price (list price) of the product\n",
        "7. Outlet_Identifier: Unique store ID\n",
        "8. Outlet_Establishment_Year: The year in which store was established\n",
        "9. Outlet_Size: The size of the store in terms of ground area covered\n",
        "10. Outlet_Location_Type: The type of city in which the store is located\n",
        "11. Outlet_Type: Whether the outlet is just a grocery store or some sort of supermarket\n",
        "12. Item_Outlet_Sales: Sales of the product in the particulat store. This is the outcome variable to be predicted."
      ]
    },
    {
      "cell_type": "markdown",
      "source": [
        ""
      ],
      "metadata": {
        "id": "f5DHJah2LNC5"
      }
    },
    {
      "cell_type": "code",
      "metadata": {
        "id": "Mr7tawra6Lua"
      },
      "source": [
        "import numpy as np\n",
        "import pandas as pd\n",
        "import seaborn as sns\n",
        "import matplotlib.pyplot as plt"
      ],
      "execution_count": 1,
      "outputs": []
    },
    {
      "cell_type": "code",
      "metadata": {
        "colab": {
          "base_uri": "https://localhost:8080/",
          "height": 600
        },
        "id": "BATp35HxXN_W",
        "outputId": "42457bcf-468b-4311-a69d-7c6dbfcf6328"
      },
      "source": [
        "df = pd.read_csv('/content/drive/MyDrive/BigMart_train.csv')\n",
        "df.head(10)"
      ],
      "execution_count": 2,
      "outputs": [
        {
          "output_type": "execute_result",
          "data": {
            "text/plain": [
              "  Item_Identifier  Item_Weight Item_Fat_Content  Item_Visibility  \\\n",
              "0           FDA15        9.300          Low Fat         0.016047   \n",
              "1           DRC01        5.920          Regular         0.019278   \n",
              "2           FDN15       17.500          Low Fat         0.016760   \n",
              "3           FDX07       19.200          Regular         0.000000   \n",
              "4           NCD19        8.930          Low Fat         0.000000   \n",
              "5           FDP36       10.395          Regular         0.000000   \n",
              "6           FDO10       13.650          Regular         0.012741   \n",
              "7           FDP10          NaN          Low Fat         0.127470   \n",
              "8           FDH17       16.200          Regular         0.016687   \n",
              "9           FDU28       19.200          Regular         0.094450   \n",
              "\n",
              "               Item_Type  Item_MRP Outlet_Identifier  \\\n",
              "0                  Dairy  249.8092            OUT049   \n",
              "1            Soft Drinks   48.2692            OUT018   \n",
              "2                   Meat  141.6180            OUT049   \n",
              "3  Fruits and Vegetables  182.0950            OUT010   \n",
              "4              Household   53.8614            OUT013   \n",
              "5           Baking Goods   51.4008            OUT018   \n",
              "6            Snack Foods   57.6588            OUT013   \n",
              "7            Snack Foods  107.7622            OUT027   \n",
              "8           Frozen Foods   96.9726            OUT045   \n",
              "9           Frozen Foods  187.8214            OUT017   \n",
              "\n",
              "   Outlet_Establishment_Year Outlet_Size Outlet_Location_Type  \\\n",
              "0                       1999      Medium               Tier 1   \n",
              "1                       2009      Medium               Tier 3   \n",
              "2                       1999      Medium               Tier 1   \n",
              "3                       1998         NaN               Tier 3   \n",
              "4                       1987        High               Tier 3   \n",
              "5                       2009      Medium               Tier 3   \n",
              "6                       1987        High               Tier 3   \n",
              "7                       1985      Medium               Tier 3   \n",
              "8                       2002         NaN               Tier 2   \n",
              "9                       2007         NaN               Tier 2   \n",
              "\n",
              "         Outlet_Type  Item_Outlet_Sales  \n",
              "0  Supermarket Type1          3735.1380  \n",
              "1  Supermarket Type2           443.4228  \n",
              "2  Supermarket Type1          2097.2700  \n",
              "3      Grocery Store           732.3800  \n",
              "4  Supermarket Type1           994.7052  \n",
              "5  Supermarket Type2           556.6088  \n",
              "6  Supermarket Type1           343.5528  \n",
              "7  Supermarket Type3          4022.7636  \n",
              "8  Supermarket Type1          1076.5986  \n",
              "9  Supermarket Type1          4710.5350  "
            ],
            "text/html": [
              "\n",
              "  <div id=\"df-cb1d89aa-96f8-4338-b1c6-8de29db4f40a\">\n",
              "    <div class=\"colab-df-container\">\n",
              "      <div>\n",
              "<style scoped>\n",
              "    .dataframe tbody tr th:only-of-type {\n",
              "        vertical-align: middle;\n",
              "    }\n",
              "\n",
              "    .dataframe tbody tr th {\n",
              "        vertical-align: top;\n",
              "    }\n",
              "\n",
              "    .dataframe thead th {\n",
              "        text-align: right;\n",
              "    }\n",
              "</style>\n",
              "<table border=\"1\" class=\"dataframe\">\n",
              "  <thead>\n",
              "    <tr style=\"text-align: right;\">\n",
              "      <th></th>\n",
              "      <th>Item_Identifier</th>\n",
              "      <th>Item_Weight</th>\n",
              "      <th>Item_Fat_Content</th>\n",
              "      <th>Item_Visibility</th>\n",
              "      <th>Item_Type</th>\n",
              "      <th>Item_MRP</th>\n",
              "      <th>Outlet_Identifier</th>\n",
              "      <th>Outlet_Establishment_Year</th>\n",
              "      <th>Outlet_Size</th>\n",
              "      <th>Outlet_Location_Type</th>\n",
              "      <th>Outlet_Type</th>\n",
              "      <th>Item_Outlet_Sales</th>\n",
              "    </tr>\n",
              "  </thead>\n",
              "  <tbody>\n",
              "    <tr>\n",
              "      <th>0</th>\n",
              "      <td>FDA15</td>\n",
              "      <td>9.300</td>\n",
              "      <td>Low Fat</td>\n",
              "      <td>0.016047</td>\n",
              "      <td>Dairy</td>\n",
              "      <td>249.8092</td>\n",
              "      <td>OUT049</td>\n",
              "      <td>1999</td>\n",
              "      <td>Medium</td>\n",
              "      <td>Tier 1</td>\n",
              "      <td>Supermarket Type1</td>\n",
              "      <td>3735.1380</td>\n",
              "    </tr>\n",
              "    <tr>\n",
              "      <th>1</th>\n",
              "      <td>DRC01</td>\n",
              "      <td>5.920</td>\n",
              "      <td>Regular</td>\n",
              "      <td>0.019278</td>\n",
              "      <td>Soft Drinks</td>\n",
              "      <td>48.2692</td>\n",
              "      <td>OUT018</td>\n",
              "      <td>2009</td>\n",
              "      <td>Medium</td>\n",
              "      <td>Tier 3</td>\n",
              "      <td>Supermarket Type2</td>\n",
              "      <td>443.4228</td>\n",
              "    </tr>\n",
              "    <tr>\n",
              "      <th>2</th>\n",
              "      <td>FDN15</td>\n",
              "      <td>17.500</td>\n",
              "      <td>Low Fat</td>\n",
              "      <td>0.016760</td>\n",
              "      <td>Meat</td>\n",
              "      <td>141.6180</td>\n",
              "      <td>OUT049</td>\n",
              "      <td>1999</td>\n",
              "      <td>Medium</td>\n",
              "      <td>Tier 1</td>\n",
              "      <td>Supermarket Type1</td>\n",
              "      <td>2097.2700</td>\n",
              "    </tr>\n",
              "    <tr>\n",
              "      <th>3</th>\n",
              "      <td>FDX07</td>\n",
              "      <td>19.200</td>\n",
              "      <td>Regular</td>\n",
              "      <td>0.000000</td>\n",
              "      <td>Fruits and Vegetables</td>\n",
              "      <td>182.0950</td>\n",
              "      <td>OUT010</td>\n",
              "      <td>1998</td>\n",
              "      <td>NaN</td>\n",
              "      <td>Tier 3</td>\n",
              "      <td>Grocery Store</td>\n",
              "      <td>732.3800</td>\n",
              "    </tr>\n",
              "    <tr>\n",
              "      <th>4</th>\n",
              "      <td>NCD19</td>\n",
              "      <td>8.930</td>\n",
              "      <td>Low Fat</td>\n",
              "      <td>0.000000</td>\n",
              "      <td>Household</td>\n",
              "      <td>53.8614</td>\n",
              "      <td>OUT013</td>\n",
              "      <td>1987</td>\n",
              "      <td>High</td>\n",
              "      <td>Tier 3</td>\n",
              "      <td>Supermarket Type1</td>\n",
              "      <td>994.7052</td>\n",
              "    </tr>\n",
              "    <tr>\n",
              "      <th>5</th>\n",
              "      <td>FDP36</td>\n",
              "      <td>10.395</td>\n",
              "      <td>Regular</td>\n",
              "      <td>0.000000</td>\n",
              "      <td>Baking Goods</td>\n",
              "      <td>51.4008</td>\n",
              "      <td>OUT018</td>\n",
              "      <td>2009</td>\n",
              "      <td>Medium</td>\n",
              "      <td>Tier 3</td>\n",
              "      <td>Supermarket Type2</td>\n",
              "      <td>556.6088</td>\n",
              "    </tr>\n",
              "    <tr>\n",
              "      <th>6</th>\n",
              "      <td>FDO10</td>\n",
              "      <td>13.650</td>\n",
              "      <td>Regular</td>\n",
              "      <td>0.012741</td>\n",
              "      <td>Snack Foods</td>\n",
              "      <td>57.6588</td>\n",
              "      <td>OUT013</td>\n",
              "      <td>1987</td>\n",
              "      <td>High</td>\n",
              "      <td>Tier 3</td>\n",
              "      <td>Supermarket Type1</td>\n",
              "      <td>343.5528</td>\n",
              "    </tr>\n",
              "    <tr>\n",
              "      <th>7</th>\n",
              "      <td>FDP10</td>\n",
              "      <td>NaN</td>\n",
              "      <td>Low Fat</td>\n",
              "      <td>0.127470</td>\n",
              "      <td>Snack Foods</td>\n",
              "      <td>107.7622</td>\n",
              "      <td>OUT027</td>\n",
              "      <td>1985</td>\n",
              "      <td>Medium</td>\n",
              "      <td>Tier 3</td>\n",
              "      <td>Supermarket Type3</td>\n",
              "      <td>4022.7636</td>\n",
              "    </tr>\n",
              "    <tr>\n",
              "      <th>8</th>\n",
              "      <td>FDH17</td>\n",
              "      <td>16.200</td>\n",
              "      <td>Regular</td>\n",
              "      <td>0.016687</td>\n",
              "      <td>Frozen Foods</td>\n",
              "      <td>96.9726</td>\n",
              "      <td>OUT045</td>\n",
              "      <td>2002</td>\n",
              "      <td>NaN</td>\n",
              "      <td>Tier 2</td>\n",
              "      <td>Supermarket Type1</td>\n",
              "      <td>1076.5986</td>\n",
              "    </tr>\n",
              "    <tr>\n",
              "      <th>9</th>\n",
              "      <td>FDU28</td>\n",
              "      <td>19.200</td>\n",
              "      <td>Regular</td>\n",
              "      <td>0.094450</td>\n",
              "      <td>Frozen Foods</td>\n",
              "      <td>187.8214</td>\n",
              "      <td>OUT017</td>\n",
              "      <td>2007</td>\n",
              "      <td>NaN</td>\n",
              "      <td>Tier 2</td>\n",
              "      <td>Supermarket Type1</td>\n",
              "      <td>4710.5350</td>\n",
              "    </tr>\n",
              "  </tbody>\n",
              "</table>\n",
              "</div>\n",
              "      <button class=\"colab-df-convert\" onclick=\"convertToInteractive('df-cb1d89aa-96f8-4338-b1c6-8de29db4f40a')\"\n",
              "              title=\"Convert this dataframe to an interactive table.\"\n",
              "              style=\"display:none;\">\n",
              "        \n",
              "  <svg xmlns=\"http://www.w3.org/2000/svg\" height=\"24px\"viewBox=\"0 0 24 24\"\n",
              "       width=\"24px\">\n",
              "    <path d=\"M0 0h24v24H0V0z\" fill=\"none\"/>\n",
              "    <path d=\"M18.56 5.44l.94 2.06.94-2.06 2.06-.94-2.06-.94-.94-2.06-.94 2.06-2.06.94zm-11 1L8.5 8.5l.94-2.06 2.06-.94-2.06-.94L8.5 2.5l-.94 2.06-2.06.94zm10 10l.94 2.06.94-2.06 2.06-.94-2.06-.94-.94-2.06-.94 2.06-2.06.94z\"/><path d=\"M17.41 7.96l-1.37-1.37c-.4-.4-.92-.59-1.43-.59-.52 0-1.04.2-1.43.59L10.3 9.45l-7.72 7.72c-.78.78-.78 2.05 0 2.83L4 21.41c.39.39.9.59 1.41.59.51 0 1.02-.2 1.41-.59l7.78-7.78 2.81-2.81c.8-.78.8-2.07 0-2.86zM5.41 20L4 18.59l7.72-7.72 1.47 1.35L5.41 20z\"/>\n",
              "  </svg>\n",
              "      </button>\n",
              "      \n",
              "  <style>\n",
              "    .colab-df-container {\n",
              "      display:flex;\n",
              "      flex-wrap:wrap;\n",
              "      gap: 12px;\n",
              "    }\n",
              "\n",
              "    .colab-df-convert {\n",
              "      background-color: #E8F0FE;\n",
              "      border: none;\n",
              "      border-radius: 50%;\n",
              "      cursor: pointer;\n",
              "      display: none;\n",
              "      fill: #1967D2;\n",
              "      height: 32px;\n",
              "      padding: 0 0 0 0;\n",
              "      width: 32px;\n",
              "    }\n",
              "\n",
              "    .colab-df-convert:hover {\n",
              "      background-color: #E2EBFA;\n",
              "      box-shadow: 0px 1px 2px rgba(60, 64, 67, 0.3), 0px 1px 3px 1px rgba(60, 64, 67, 0.15);\n",
              "      fill: #174EA6;\n",
              "    }\n",
              "\n",
              "    [theme=dark] .colab-df-convert {\n",
              "      background-color: #3B4455;\n",
              "      fill: #D2E3FC;\n",
              "    }\n",
              "\n",
              "    [theme=dark] .colab-df-convert:hover {\n",
              "      background-color: #434B5C;\n",
              "      box-shadow: 0px 1px 3px 1px rgba(0, 0, 0, 0.15);\n",
              "      filter: drop-shadow(0px 1px 2px rgba(0, 0, 0, 0.3));\n",
              "      fill: #FFFFFF;\n",
              "    }\n",
              "  </style>\n",
              "\n",
              "      <script>\n",
              "        const buttonEl =\n",
              "          document.querySelector('#df-cb1d89aa-96f8-4338-b1c6-8de29db4f40a button.colab-df-convert');\n",
              "        buttonEl.style.display =\n",
              "          google.colab.kernel.accessAllowed ? 'block' : 'none';\n",
              "\n",
              "        async function convertToInteractive(key) {\n",
              "          const element = document.querySelector('#df-cb1d89aa-96f8-4338-b1c6-8de29db4f40a');\n",
              "          const dataTable =\n",
              "            await google.colab.kernel.invokeFunction('convertToInteractive',\n",
              "                                                     [key], {});\n",
              "          if (!dataTable) return;\n",
              "\n",
              "          const docLinkHtml = 'Like what you see? Visit the ' +\n",
              "            '<a target=\"_blank\" href=https://colab.research.google.com/notebooks/data_table.ipynb>data table notebook</a>'\n",
              "            + ' to learn more about interactive tables.';\n",
              "          element.innerHTML = '';\n",
              "          dataTable['output_type'] = 'display_data';\n",
              "          await google.colab.output.renderOutput(dataTable, element);\n",
              "          const docLink = document.createElement('div');\n",
              "          docLink.innerHTML = docLinkHtml;\n",
              "          element.appendChild(docLink);\n",
              "        }\n",
              "      </script>\n",
              "    </div>\n",
              "  </div>\n",
              "  "
            ]
          },
          "metadata": {},
          "execution_count": 2
        }
      ]
    },
    {
      "cell_type": "code",
      "metadata": {
        "colab": {
          "base_uri": "https://localhost:8080/"
        },
        "id": "NH0JpJSAXiMB",
        "outputId": "1c9c1a8f-6888-4b09-b901-2f24826ba215"
      },
      "source": [
        "df.shape"
      ],
      "execution_count": 3,
      "outputs": [
        {
          "output_type": "execute_result",
          "data": {
            "text/plain": [
              "(8523, 12)"
            ]
          },
          "metadata": {},
          "execution_count": 3
        }
      ]
    },
    {
      "cell_type": "code",
      "metadata": {
        "colab": {
          "base_uri": "https://localhost:8080/"
        },
        "id": "_vwHfdMha6_u",
        "outputId": "e7fd6f65-032b-4057-be7c-8c4f32e87186"
      },
      "source": [
        "df.isnull().sum()"
      ],
      "execution_count": 4,
      "outputs": [
        {
          "output_type": "execute_result",
          "data": {
            "text/plain": [
              "Item_Identifier                 0\n",
              "Item_Weight                  1463\n",
              "Item_Fat_Content                0\n",
              "Item_Visibility                 0\n",
              "Item_Type                       0\n",
              "Item_MRP                        0\n",
              "Outlet_Identifier               0\n",
              "Outlet_Establishment_Year       0\n",
              "Outlet_Size                  2410\n",
              "Outlet_Location_Type            0\n",
              "Outlet_Type                     0\n",
              "Item_Outlet_Sales               0\n",
              "dtype: int64"
            ]
          },
          "metadata": {},
          "execution_count": 4
        }
      ]
    },
    {
      "cell_type": "code",
      "metadata": {
        "id": "Duq8JcwFa_1j"
      },
      "source": [
        "df = df.drop_duplicates()"
      ],
      "execution_count": 5,
      "outputs": []
    },
    {
      "cell_type": "code",
      "metadata": {
        "colab": {
          "base_uri": "https://localhost:8080/"
        },
        "id": "9zZXnIfCbq42",
        "outputId": "7dc9b1dd-8eb3-4cdf-ec5f-f745ffa75195"
      },
      "source": [
        "df.shape"
      ],
      "execution_count": 6,
      "outputs": [
        {
          "output_type": "execute_result",
          "data": {
            "text/plain": [
              "(8523, 12)"
            ]
          },
          "metadata": {},
          "execution_count": 6
        }
      ]
    },
    {
      "cell_type": "code",
      "source": [
        ""
      ],
      "metadata": {
        "id": "OWaMVsFp_lhq"
      },
      "execution_count": 6,
      "outputs": []
    },
    {
      "cell_type": "code",
      "metadata": {
        "colab": {
          "base_uri": "https://localhost:8080/"
        },
        "id": "3BOCm9iv_n8R",
        "outputId": "a44b753b-9fcd-4061-b013-74830c56c654"
      },
      "source": [
        "df.dtypes"
      ],
      "execution_count": 7,
      "outputs": [
        {
          "output_type": "execute_result",
          "data": {
            "text/plain": [
              "Item_Identifier               object\n",
              "Item_Weight                  float64\n",
              "Item_Fat_Content              object\n",
              "Item_Visibility              float64\n",
              "Item_Type                     object\n",
              "Item_MRP                     float64\n",
              "Outlet_Identifier             object\n",
              "Outlet_Establishment_Year      int64\n",
              "Outlet_Size                   object\n",
              "Outlet_Location_Type          object\n",
              "Outlet_Type                   object\n",
              "Item_Outlet_Sales            float64\n",
              "dtype: object"
            ]
          },
          "metadata": {},
          "execution_count": 7
        }
      ]
    },
    {
      "cell_type": "code",
      "source": [
        "df['Item_Identifier'].nunique()"
      ],
      "metadata": {
        "colab": {
          "base_uri": "https://localhost:8080/"
        },
        "id": "A4VqBWvPIiFH",
        "outputId": "779a79e3-7f8d-45a0-e840-42aa70a55e20"
      },
      "execution_count": 8,
      "outputs": [
        {
          "output_type": "execute_result",
          "data": {
            "text/plain": [
              "1559"
            ]
          },
          "metadata": {},
          "execution_count": 8
        }
      ]
    },
    {
      "cell_type": "code",
      "metadata": {
        "colab": {
          "base_uri": "https://localhost:8080/"
        },
        "id": "znOos3Mlb2jt",
        "outputId": "ee3e9381-1dea-4b5e-dd3b-5eea4104a3f1"
      },
      "source": [
        "df['Item_Weight'].isnull().sum()/len(df)*100"
      ],
      "execution_count": 9,
      "outputs": [
        {
          "output_type": "execute_result",
          "data": {
            "text/plain": [
              "17.165317376510618"
            ]
          },
          "metadata": {},
          "execution_count": 9
        }
      ]
    },
    {
      "cell_type": "code",
      "source": [
        ""
      ],
      "metadata": {
        "id": "m7ro9qQ1JnX7"
      },
      "execution_count": 9,
      "outputs": []
    },
    {
      "cell_type": "code",
      "metadata": {
        "colab": {
          "base_uri": "https://localhost:8080/"
        },
        "id": "2_jcZGezcYkN",
        "outputId": "ba809b24-d3e3-4170-9b81-8d8fac941f79"
      },
      "source": [
        "feature_na =  [feature for feature in df.columns if df[feature].isnull().sum() > 1]\n",
        "feature_na"
      ],
      "execution_count": 10,
      "outputs": [
        {
          "output_type": "execute_result",
          "data": {
            "text/plain": [
              "['Item_Weight', 'Outlet_Size']"
            ]
          },
          "metadata": {},
          "execution_count": 10
        }
      ]
    },
    {
      "cell_type": "code",
      "metadata": {
        "colab": {
          "base_uri": "https://localhost:8080/"
        },
        "id": "7T1NahpKc0xz",
        "outputId": "3772c09f-a449-4db2-dab1-50a40404b83b"
      },
      "source": [
        "for feature in feature_na:\n",
        "  print(\"{} has {} % missing values\".format(feature ,  np.round(df[feature].isnull().sum()/len(df)*100 , 2)))"
      ],
      "execution_count": 11,
      "outputs": [
        {
          "output_type": "stream",
          "name": "stdout",
          "text": [
            "Item_Weight has 17.17 % missing values\n",
            "Outlet_Size has 28.28 % missing values\n"
          ]
        }
      ]
    },
    {
      "cell_type": "code",
      "source": [
        "df = df.drop(['Item_Identifier' , 'Outlet_Identifier'] , axis = 1)"
      ],
      "metadata": {
        "id": "4x9gpVxSepm4"
      },
      "execution_count": 12,
      "outputs": []
    },
    {
      "cell_type": "code",
      "source": [
        "df.shape"
      ],
      "metadata": {
        "colab": {
          "base_uri": "https://localhost:8080/"
        },
        "id": "I0YBvAebeuIc",
        "outputId": "bc22f36c-e936-497d-af01-0322fbcf29ac"
      },
      "execution_count": 13,
      "outputs": [
        {
          "output_type": "execute_result",
          "data": {
            "text/plain": [
              "(8523, 10)"
            ]
          },
          "metadata": {},
          "execution_count": 13
        }
      ]
    },
    {
      "cell_type": "code",
      "source": [
        "df.dtypes"
      ],
      "metadata": {
        "colab": {
          "base_uri": "https://localhost:8080/"
        },
        "id": "qXuriNXZh-tl",
        "outputId": "039660ca-ae40-4ab1-8fc7-68518f906d5b"
      },
      "execution_count": 14,
      "outputs": [
        {
          "output_type": "execute_result",
          "data": {
            "text/plain": [
              "Item_Weight                  float64\n",
              "Item_Fat_Content              object\n",
              "Item_Visibility              float64\n",
              "Item_Type                     object\n",
              "Item_MRP                     float64\n",
              "Outlet_Establishment_Year      int64\n",
              "Outlet_Size                   object\n",
              "Outlet_Location_Type          object\n",
              "Outlet_Type                   object\n",
              "Item_Outlet_Sales            float64\n",
              "dtype: object"
            ]
          },
          "metadata": {},
          "execution_count": 14
        }
      ]
    },
    {
      "cell_type": "code",
      "metadata": {
        "colab": {
          "base_uri": "https://localhost:8080/"
        },
        "id": "DJSgu7Ukdc-T",
        "outputId": "c589a27b-5273-48d5-c03e-af6bf548d4ab"
      },
      "source": [
        "#Numerical Feature\n",
        "numerical_feature = df.dtypes[df.dtypes!='object'].index\n",
        "print('numerical feature:' , len(numerical_feature))\n",
        "\n",
        "categorical_feature = df.dtypes[df.dtypes=='object'].index\n",
        "print('categorical feature:' , len(categorical_feature))"
      ],
      "execution_count": 15,
      "outputs": [
        {
          "output_type": "stream",
          "name": "stdout",
          "text": [
            "numerical feature: 5\n",
            "categorical feature: 5\n"
          ]
        }
      ]
    },
    {
      "cell_type": "code",
      "metadata": {
        "colab": {
          "base_uri": "https://localhost:8080/",
          "height": 175
        },
        "id": "WduGpjBIerIR",
        "outputId": "d7a83b41-8950-417e-d1db-76d68302a307"
      },
      "source": [
        "df.describe(include='float').T"
      ],
      "execution_count": 16,
      "outputs": [
        {
          "output_type": "execute_result",
          "data": {
            "text/plain": [
              "                    count         mean          std     min         25%  \\\n",
              "Item_Weight        7060.0    12.857645     4.643456   4.555    8.773750   \n",
              "Item_Visibility    8523.0     0.066132     0.051598   0.000    0.026989   \n",
              "Item_MRP           8523.0   140.992782    62.275067  31.290   93.826500   \n",
              "Item_Outlet_Sales  8523.0  2181.288914  1706.499616  33.290  834.247400   \n",
              "\n",
              "                           50%          75%           max  \n",
              "Item_Weight          12.600000    16.850000     21.350000  \n",
              "Item_Visibility       0.053931     0.094585      0.328391  \n",
              "Item_MRP            143.012800   185.643700    266.888400  \n",
              "Item_Outlet_Sales  1794.331000  3101.296400  13086.964800  "
            ],
            "text/html": [
              "\n",
              "  <div id=\"df-5e0a7cef-97ea-445c-a418-5611273746bd\">\n",
              "    <div class=\"colab-df-container\">\n",
              "      <div>\n",
              "<style scoped>\n",
              "    .dataframe tbody tr th:only-of-type {\n",
              "        vertical-align: middle;\n",
              "    }\n",
              "\n",
              "    .dataframe tbody tr th {\n",
              "        vertical-align: top;\n",
              "    }\n",
              "\n",
              "    .dataframe thead th {\n",
              "        text-align: right;\n",
              "    }\n",
              "</style>\n",
              "<table border=\"1\" class=\"dataframe\">\n",
              "  <thead>\n",
              "    <tr style=\"text-align: right;\">\n",
              "      <th></th>\n",
              "      <th>count</th>\n",
              "      <th>mean</th>\n",
              "      <th>std</th>\n",
              "      <th>min</th>\n",
              "      <th>25%</th>\n",
              "      <th>50%</th>\n",
              "      <th>75%</th>\n",
              "      <th>max</th>\n",
              "    </tr>\n",
              "  </thead>\n",
              "  <tbody>\n",
              "    <tr>\n",
              "      <th>Item_Weight</th>\n",
              "      <td>7060.0</td>\n",
              "      <td>12.857645</td>\n",
              "      <td>4.643456</td>\n",
              "      <td>4.555</td>\n",
              "      <td>8.773750</td>\n",
              "      <td>12.600000</td>\n",
              "      <td>16.850000</td>\n",
              "      <td>21.350000</td>\n",
              "    </tr>\n",
              "    <tr>\n",
              "      <th>Item_Visibility</th>\n",
              "      <td>8523.0</td>\n",
              "      <td>0.066132</td>\n",
              "      <td>0.051598</td>\n",
              "      <td>0.000</td>\n",
              "      <td>0.026989</td>\n",
              "      <td>0.053931</td>\n",
              "      <td>0.094585</td>\n",
              "      <td>0.328391</td>\n",
              "    </tr>\n",
              "    <tr>\n",
              "      <th>Item_MRP</th>\n",
              "      <td>8523.0</td>\n",
              "      <td>140.992782</td>\n",
              "      <td>62.275067</td>\n",
              "      <td>31.290</td>\n",
              "      <td>93.826500</td>\n",
              "      <td>143.012800</td>\n",
              "      <td>185.643700</td>\n",
              "      <td>266.888400</td>\n",
              "    </tr>\n",
              "    <tr>\n",
              "      <th>Item_Outlet_Sales</th>\n",
              "      <td>8523.0</td>\n",
              "      <td>2181.288914</td>\n",
              "      <td>1706.499616</td>\n",
              "      <td>33.290</td>\n",
              "      <td>834.247400</td>\n",
              "      <td>1794.331000</td>\n",
              "      <td>3101.296400</td>\n",
              "      <td>13086.964800</td>\n",
              "    </tr>\n",
              "  </tbody>\n",
              "</table>\n",
              "</div>\n",
              "      <button class=\"colab-df-convert\" onclick=\"convertToInteractive('df-5e0a7cef-97ea-445c-a418-5611273746bd')\"\n",
              "              title=\"Convert this dataframe to an interactive table.\"\n",
              "              style=\"display:none;\">\n",
              "        \n",
              "  <svg xmlns=\"http://www.w3.org/2000/svg\" height=\"24px\"viewBox=\"0 0 24 24\"\n",
              "       width=\"24px\">\n",
              "    <path d=\"M0 0h24v24H0V0z\" fill=\"none\"/>\n",
              "    <path d=\"M18.56 5.44l.94 2.06.94-2.06 2.06-.94-2.06-.94-.94-2.06-.94 2.06-2.06.94zm-11 1L8.5 8.5l.94-2.06 2.06-.94-2.06-.94L8.5 2.5l-.94 2.06-2.06.94zm10 10l.94 2.06.94-2.06 2.06-.94-2.06-.94-.94-2.06-.94 2.06-2.06.94z\"/><path d=\"M17.41 7.96l-1.37-1.37c-.4-.4-.92-.59-1.43-.59-.52 0-1.04.2-1.43.59L10.3 9.45l-7.72 7.72c-.78.78-.78 2.05 0 2.83L4 21.41c.39.39.9.59 1.41.59.51 0 1.02-.2 1.41-.59l7.78-7.78 2.81-2.81c.8-.78.8-2.07 0-2.86zM5.41 20L4 18.59l7.72-7.72 1.47 1.35L5.41 20z\"/>\n",
              "  </svg>\n",
              "      </button>\n",
              "      \n",
              "  <style>\n",
              "    .colab-df-container {\n",
              "      display:flex;\n",
              "      flex-wrap:wrap;\n",
              "      gap: 12px;\n",
              "    }\n",
              "\n",
              "    .colab-df-convert {\n",
              "      background-color: #E8F0FE;\n",
              "      border: none;\n",
              "      border-radius: 50%;\n",
              "      cursor: pointer;\n",
              "      display: none;\n",
              "      fill: #1967D2;\n",
              "      height: 32px;\n",
              "      padding: 0 0 0 0;\n",
              "      width: 32px;\n",
              "    }\n",
              "\n",
              "    .colab-df-convert:hover {\n",
              "      background-color: #E2EBFA;\n",
              "      box-shadow: 0px 1px 2px rgba(60, 64, 67, 0.3), 0px 1px 3px 1px rgba(60, 64, 67, 0.15);\n",
              "      fill: #174EA6;\n",
              "    }\n",
              "\n",
              "    [theme=dark] .colab-df-convert {\n",
              "      background-color: #3B4455;\n",
              "      fill: #D2E3FC;\n",
              "    }\n",
              "\n",
              "    [theme=dark] .colab-df-convert:hover {\n",
              "      background-color: #434B5C;\n",
              "      box-shadow: 0px 1px 3px 1px rgba(0, 0, 0, 0.15);\n",
              "      filter: drop-shadow(0px 1px 2px rgba(0, 0, 0, 0.3));\n",
              "      fill: #FFFFFF;\n",
              "    }\n",
              "  </style>\n",
              "\n",
              "      <script>\n",
              "        const buttonEl =\n",
              "          document.querySelector('#df-5e0a7cef-97ea-445c-a418-5611273746bd button.colab-df-convert');\n",
              "        buttonEl.style.display =\n",
              "          google.colab.kernel.accessAllowed ? 'block' : 'none';\n",
              "\n",
              "        async function convertToInteractive(key) {\n",
              "          const element = document.querySelector('#df-5e0a7cef-97ea-445c-a418-5611273746bd');\n",
              "          const dataTable =\n",
              "            await google.colab.kernel.invokeFunction('convertToInteractive',\n",
              "                                                     [key], {});\n",
              "          if (!dataTable) return;\n",
              "\n",
              "          const docLinkHtml = 'Like what you see? Visit the ' +\n",
              "            '<a target=\"_blank\" href=https://colab.research.google.com/notebooks/data_table.ipynb>data table notebook</a>'\n",
              "            + ' to learn more about interactive tables.';\n",
              "          element.innerHTML = '';\n",
              "          dataTable['output_type'] = 'display_data';\n",
              "          await google.colab.output.renderOutput(dataTable, element);\n",
              "          const docLink = document.createElement('div');\n",
              "          docLink.innerHTML = docLinkHtml;\n",
              "          element.appendChild(docLink);\n",
              "        }\n",
              "      </script>\n",
              "    </div>\n",
              "  </div>\n",
              "  "
            ]
          },
          "metadata": {},
          "execution_count": 16
        }
      ]
    },
    {
      "cell_type": "code",
      "metadata": {
        "colab": {
          "base_uri": "https://localhost:8080/",
          "height": 206
        },
        "id": "k-rul6vneyq1",
        "outputId": "a40b7824-2150-41b0-8291-afa14a034d32"
      },
      "source": [
        "df.describe(include='object').T"
      ],
      "execution_count": 17,
      "outputs": [
        {
          "output_type": "execute_result",
          "data": {
            "text/plain": [
              "                     count unique                    top  freq\n",
              "Item_Fat_Content      8523      5                Low Fat  5089\n",
              "Item_Type             8523     16  Fruits and Vegetables  1232\n",
              "Outlet_Size           6113      3                 Medium  2793\n",
              "Outlet_Location_Type  8523      3                 Tier 3  3350\n",
              "Outlet_Type           8523      4      Supermarket Type1  5577"
            ],
            "text/html": [
              "\n",
              "  <div id=\"df-f0dd8f63-6219-4834-bbd8-3ade08727289\">\n",
              "    <div class=\"colab-df-container\">\n",
              "      <div>\n",
              "<style scoped>\n",
              "    .dataframe tbody tr th:only-of-type {\n",
              "        vertical-align: middle;\n",
              "    }\n",
              "\n",
              "    .dataframe tbody tr th {\n",
              "        vertical-align: top;\n",
              "    }\n",
              "\n",
              "    .dataframe thead th {\n",
              "        text-align: right;\n",
              "    }\n",
              "</style>\n",
              "<table border=\"1\" class=\"dataframe\">\n",
              "  <thead>\n",
              "    <tr style=\"text-align: right;\">\n",
              "      <th></th>\n",
              "      <th>count</th>\n",
              "      <th>unique</th>\n",
              "      <th>top</th>\n",
              "      <th>freq</th>\n",
              "    </tr>\n",
              "  </thead>\n",
              "  <tbody>\n",
              "    <tr>\n",
              "      <th>Item_Fat_Content</th>\n",
              "      <td>8523</td>\n",
              "      <td>5</td>\n",
              "      <td>Low Fat</td>\n",
              "      <td>5089</td>\n",
              "    </tr>\n",
              "    <tr>\n",
              "      <th>Item_Type</th>\n",
              "      <td>8523</td>\n",
              "      <td>16</td>\n",
              "      <td>Fruits and Vegetables</td>\n",
              "      <td>1232</td>\n",
              "    </tr>\n",
              "    <tr>\n",
              "      <th>Outlet_Size</th>\n",
              "      <td>6113</td>\n",
              "      <td>3</td>\n",
              "      <td>Medium</td>\n",
              "      <td>2793</td>\n",
              "    </tr>\n",
              "    <tr>\n",
              "      <th>Outlet_Location_Type</th>\n",
              "      <td>8523</td>\n",
              "      <td>3</td>\n",
              "      <td>Tier 3</td>\n",
              "      <td>3350</td>\n",
              "    </tr>\n",
              "    <tr>\n",
              "      <th>Outlet_Type</th>\n",
              "      <td>8523</td>\n",
              "      <td>4</td>\n",
              "      <td>Supermarket Type1</td>\n",
              "      <td>5577</td>\n",
              "    </tr>\n",
              "  </tbody>\n",
              "</table>\n",
              "</div>\n",
              "      <button class=\"colab-df-convert\" onclick=\"convertToInteractive('df-f0dd8f63-6219-4834-bbd8-3ade08727289')\"\n",
              "              title=\"Convert this dataframe to an interactive table.\"\n",
              "              style=\"display:none;\">\n",
              "        \n",
              "  <svg xmlns=\"http://www.w3.org/2000/svg\" height=\"24px\"viewBox=\"0 0 24 24\"\n",
              "       width=\"24px\">\n",
              "    <path d=\"M0 0h24v24H0V0z\" fill=\"none\"/>\n",
              "    <path d=\"M18.56 5.44l.94 2.06.94-2.06 2.06-.94-2.06-.94-.94-2.06-.94 2.06-2.06.94zm-11 1L8.5 8.5l.94-2.06 2.06-.94-2.06-.94L8.5 2.5l-.94 2.06-2.06.94zm10 10l.94 2.06.94-2.06 2.06-.94-2.06-.94-.94-2.06-.94 2.06-2.06.94z\"/><path d=\"M17.41 7.96l-1.37-1.37c-.4-.4-.92-.59-1.43-.59-.52 0-1.04.2-1.43.59L10.3 9.45l-7.72 7.72c-.78.78-.78 2.05 0 2.83L4 21.41c.39.39.9.59 1.41.59.51 0 1.02-.2 1.41-.59l7.78-7.78 2.81-2.81c.8-.78.8-2.07 0-2.86zM5.41 20L4 18.59l7.72-7.72 1.47 1.35L5.41 20z\"/>\n",
              "  </svg>\n",
              "      </button>\n",
              "      \n",
              "  <style>\n",
              "    .colab-df-container {\n",
              "      display:flex;\n",
              "      flex-wrap:wrap;\n",
              "      gap: 12px;\n",
              "    }\n",
              "\n",
              "    .colab-df-convert {\n",
              "      background-color: #E8F0FE;\n",
              "      border: none;\n",
              "      border-radius: 50%;\n",
              "      cursor: pointer;\n",
              "      display: none;\n",
              "      fill: #1967D2;\n",
              "      height: 32px;\n",
              "      padding: 0 0 0 0;\n",
              "      width: 32px;\n",
              "    }\n",
              "\n",
              "    .colab-df-convert:hover {\n",
              "      background-color: #E2EBFA;\n",
              "      box-shadow: 0px 1px 2px rgba(60, 64, 67, 0.3), 0px 1px 3px 1px rgba(60, 64, 67, 0.15);\n",
              "      fill: #174EA6;\n",
              "    }\n",
              "\n",
              "    [theme=dark] .colab-df-convert {\n",
              "      background-color: #3B4455;\n",
              "      fill: #D2E3FC;\n",
              "    }\n",
              "\n",
              "    [theme=dark] .colab-df-convert:hover {\n",
              "      background-color: #434B5C;\n",
              "      box-shadow: 0px 1px 3px 1px rgba(0, 0, 0, 0.15);\n",
              "      filter: drop-shadow(0px 1px 2px rgba(0, 0, 0, 0.3));\n",
              "      fill: #FFFFFF;\n",
              "    }\n",
              "  </style>\n",
              "\n",
              "      <script>\n",
              "        const buttonEl =\n",
              "          document.querySelector('#df-f0dd8f63-6219-4834-bbd8-3ade08727289 button.colab-df-convert');\n",
              "        buttonEl.style.display =\n",
              "          google.colab.kernel.accessAllowed ? 'block' : 'none';\n",
              "\n",
              "        async function convertToInteractive(key) {\n",
              "          const element = document.querySelector('#df-f0dd8f63-6219-4834-bbd8-3ade08727289');\n",
              "          const dataTable =\n",
              "            await google.colab.kernel.invokeFunction('convertToInteractive',\n",
              "                                                     [key], {});\n",
              "          if (!dataTable) return;\n",
              "\n",
              "          const docLinkHtml = 'Like what you see? Visit the ' +\n",
              "            '<a target=\"_blank\" href=https://colab.research.google.com/notebooks/data_table.ipynb>data table notebook</a>'\n",
              "            + ' to learn more about interactive tables.';\n",
              "          element.innerHTML = '';\n",
              "          dataTable['output_type'] = 'display_data';\n",
              "          await google.colab.output.renderOutput(dataTable, element);\n",
              "          const docLink = document.createElement('div');\n",
              "          docLink.innerHTML = docLinkHtml;\n",
              "          element.appendChild(docLink);\n",
              "        }\n",
              "      </script>\n",
              "    </div>\n",
              "  </div>\n",
              "  "
            ]
          },
          "metadata": {},
          "execution_count": 17
        }
      ]
    },
    {
      "cell_type": "code",
      "metadata": {
        "colab": {
          "base_uri": "https://localhost:8080/"
        },
        "id": "En5MIU44ltsS",
        "outputId": "4685ae0b-b2de-45d8-8fd7-4f68710e90a9"
      },
      "source": [
        "df.columns"
      ],
      "execution_count": 18,
      "outputs": [
        {
          "output_type": "execute_result",
          "data": {
            "text/plain": [
              "Index(['Item_Weight', 'Item_Fat_Content', 'Item_Visibility', 'Item_Type',\n",
              "       'Item_MRP', 'Outlet_Establishment_Year', 'Outlet_Size',\n",
              "       'Outlet_Location_Type', 'Outlet_Type', 'Item_Outlet_Sales'],\n",
              "      dtype='object')"
            ]
          },
          "metadata": {},
          "execution_count": 18
        }
      ]
    },
    {
      "cell_type": "code",
      "metadata": {
        "colab": {
          "base_uri": "https://localhost:8080/",
          "height": 373
        },
        "id": "0mOppSh0e-o2",
        "outputId": "fcda9428-c8f4-497e-9cbf-9b2dc33d57ee"
      },
      "source": [
        "#Skewness and kurtosis for target variable\n",
        "sns.distplot(df['Item_Outlet_Sales'])\n",
        "print('skewness %f' % df['Item_Outlet_Sales'].skew())\n",
        "print('kurtosis %f' % df['Item_Outlet_Sales'].kurt())"
      ],
      "execution_count": 19,
      "outputs": [
        {
          "output_type": "stream",
          "name": "stderr",
          "text": [
            "/usr/local/lib/python3.7/dist-packages/seaborn/distributions.py:2619: FutureWarning: `distplot` is a deprecated function and will be removed in a future version. Please adapt your code to use either `displot` (a figure-level function with similar flexibility) or `histplot` (an axes-level function for histograms).\n",
            "  warnings.warn(msg, FutureWarning)\n"
          ]
        },
        {
          "output_type": "stream",
          "name": "stdout",
          "text": [
            "skewness 1.177531\n",
            "kurtosis 1.615877\n"
          ]
        },
        {
          "output_type": "display_data",
          "data": {
            "text/plain": [
              "<Figure size 432x288 with 1 Axes>"
            ],
            "image/png": "[encoded data removed]"
          },
          "metadata": {
            "needs_background": "light"
          }
        }
      ]
    },
    {
      "cell_type": "code",
      "source": [
        ""
      ],
      "metadata": {
        "id": "8nsebDv6LBNW"
      },
      "execution_count": 58,
      "outputs": []
    },
    {
      "cell_type": "markdown",
      "metadata": {
        "id": "cyS1samKmkkU"
      },
      "source": [
        "##Univariate Analysis\n"
      ]
    },
    {
      "cell_type": "code",
      "metadata": {
        "colab": {
          "base_uri": "https://localhost:8080/",
          "height": 709
        },
        "id": "wBVTlwN5moZV",
        "outputId": "ef3d4670-63f5-4354-eb64-12ea98bc82c1"
      },
      "source": [
        "plt.figure(figsize=(20,30))\n",
        "for i in range(len(numerical_feature)):\n",
        "  plt.subplot(7 , 3 , i+1)\n",
        "  sns.distplot(df[numerical_feature[i]])\n",
        "  plt.title('skewnes='+str(round(df[numerical_feature[i]].skew() , 2)) +'\\n Kurtosis='+str(round(df[numerical_feature[i]].kurt() , 2)) , \n",
        "            fontweight = 'bold')\n",
        "  plt.tight_layout()"
      ],
      "execution_count": 20,
      "outputs": [
        {
          "output_type": "stream",
          "name": "stderr",
          "text": [
            "/usr/local/lib/python3.7/dist-packages/seaborn/distributions.py:2619: FutureWarning: `distplot` is a deprecated function and will be removed in a future version. Please adapt your code to use either `displot` (a figure-level function with similar flexibility) or `histplot` (an axes-level function for histograms).\n",
            "  warnings.warn(msg, FutureWarning)\n",
            "/usr/local/lib/python3.7/dist-packages/seaborn/distributions.py:2619: FutureWarning: `distplot` is a deprecated function and will be removed in a future version. Please adapt your code to use either `displot` (a figure-level function with similar flexibility) or `histplot` (an axes-level function for histograms).\n",
            "  warnings.warn(msg, FutureWarning)\n",
            "/usr/local/lib/python3.7/dist-packages/seaborn/distributions.py:2619: FutureWarning: `distplot` is a deprecated function and will be removed in a future version. Please adapt your code to use either `displot` (a figure-level function with similar flexibility) or `histplot` (an axes-level function for histograms).\n",
            "  warnings.warn(msg, FutureWarning)\n",
            "/usr/local/lib/python3.7/dist-packages/seaborn/distributions.py:2619: FutureWarning: `distplot` is a deprecated function and will be removed in a future version. Please adapt your code to use either `displot` (a figure-level function with similar flexibility) or `histplot` (an axes-level function for histograms).\n",
            "  warnings.warn(msg, FutureWarning)\n",
            "/usr/local/lib/python3.7/dist-packages/seaborn/distributions.py:2619: FutureWarning: `distplot` is a deprecated function and will be removed in a future version. Please adapt your code to use either `displot` (a figure-level function with similar flexibility) or `histplot` (an axes-level function for histograms).\n",
            "  warnings.warn(msg, FutureWarning)\n"
          ]
        },
        {
          "output_type": "display_data",
          "data": {
            "text/plain": [
              "<Figure size 1440x2160 with 5 Axes>"
            ],
            "image/png": "[encoded data removed]"
          },
          "metadata": {
            "needs_background": "light"
          }
        }
      ]
    },
    {
      "cell_type": "code",
      "metadata": {
        "colab": {
          "base_uri": "https://localhost:8080/",
          "height": 1000
        },
        "id": "jh2upokQn9Za",
        "outputId": "eced8090-b5f9-4995-a999-894f41bd0156"
      },
      "source": [
        "#Dealing with Outliers\n",
        "plt.figure(figsize=(20,30))\n",
        "for i in range(len(numerical_feature)):\n",
        "  plt.subplot(7,4 , i+1)\n",
        "  sns.boxplot(df[numerical_feature[i]] , orient='v')\n",
        "  q1 = df[numerical_feature[i]].quantile(0.25)\n",
        "  q3 = df[numerical_feature[i]].quantile(0.75)\n",
        "  IQR = q3 - q1\n",
        "  ub = q3 + (1.5*IQR)\n",
        "  lb = q1 - (1.5*IQR)\n",
        "  outlier_count = df[(df[numerical_feature[i]] > ub) | (df[numerical_feature[i]] < lb)][numerical_feature[i]].count()\n",
        "  plt.title('outliers couunt='+str(outlier_count) , fontweight = 'bold')\n",
        "  plt.tight_layout()"
      ],
      "execution_count": 21,
      "outputs": [
        {
          "output_type": "stream",
          "name": "stderr",
          "text": [
            "/usr/local/lib/python3.7/dist-packages/seaborn/_decorators.py:43: FutureWarning: Pass the following variable as a keyword arg: x. From version 0.12, the only valid positional argument will be `data`, and passing other arguments without an explicit keyword will result in an error or misinterpretation.\n",
            "  FutureWarning\n",
            "/usr/local/lib/python3.7/dist-packages/seaborn/_core.py:1326: UserWarning: Vertical orientation ignored with only `x` specified.\n",
            "  warnings.warn(single_var_warning.format(\"Vertical\", \"x\"))\n",
            "/usr/local/lib/python3.7/dist-packages/seaborn/_decorators.py:43: FutureWarning: Pass the following variable as a keyword arg: x. From version 0.12, the only valid positional argument will be `data`, and passing other arguments without an explicit keyword will result in an error or misinterpretation.\n",
            "  FutureWarning\n",
            "/usr/local/lib/python3.7/dist-packages/seaborn/_core.py:1326: UserWarning: Vertical orientation ignored with only `x` specified.\n",
            "  warnings.warn(single_var_warning.format(\"Vertical\", \"x\"))\n",
            "/usr/local/lib/python3.7/dist-packages/seaborn/_decorators.py:43: FutureWarning: Pass the following variable as a keyword arg: x. From version 0.12, the only valid positional argument will be `data`, and passing other arguments without an explicit keyword will result in an error or misinterpretation.\n",
            "  FutureWarning\n",
            "/usr/local/lib/python3.7/dist-packages/seaborn/_core.py:1326: UserWarning: Vertical orientation ignored with only `x` specified.\n",
            "  warnings.warn(single_var_warning.format(\"Vertical\", \"x\"))\n",
            "/usr/local/lib/python3.7/dist-packages/seaborn/_decorators.py:43: FutureWarning: Pass the following variable as a keyword arg: x. From version 0.12, the only valid positional argument will be `data`, and passing other arguments without an explicit keyword will result in an error or misinterpretation.\n",
            "  FutureWarning\n",
            "/usr/local/lib/python3.7/dist-packages/seaborn/_core.py:1326: UserWarning: Vertical orientation ignored with only `x` specified.\n",
            "  warnings.warn(single_var_warning.format(\"Vertical\", \"x\"))\n",
            "/usr/local/lib/python3.7/dist-packages/seaborn/_decorators.py:43: FutureWarning: Pass the following variable as a keyword arg: x. From version 0.12, the only valid positional argument will be `data`, and passing other arguments without an explicit keyword will result in an error or misinterpretation.\n",
            "  FutureWarning\n",
            "/usr/local/lib/python3.7/dist-packages/seaborn/_core.py:1326: UserWarning: Vertical orientation ignored with only `x` specified.\n",
            "  warnings.warn(single_var_warning.format(\"Vertical\", \"x\"))\n"
          ]
        },
        {
          "output_type": "display_data",
          "data": {
            "text/plain": [
              "<Figure size 1440x2160 with 5 Axes>"
            ],
            "image/png": "[encoded data removed]"
          },
          "metadata": {
            "needs_background": "light"
          }
        }
      ]
    },
    {
      "cell_type": "code",
      "metadata": {
        "id": "mSm1koVXuJ9B",
        "colab": {
          "base_uri": "https://localhost:8080/"
        },
        "outputId": "2eb239e6-6f9f-4aaa-dae9-c6ea92f5bb47"
      },
      "source": [
        "categorical_feature\n"
      ],
      "execution_count": 22,
      "outputs": [
        {
          "output_type": "execute_result",
          "data": {
            "text/plain": [
              "Index(['Item_Fat_Content', 'Item_Type', 'Outlet_Size', 'Outlet_Location_Type',\n",
              "       'Outlet_Type'],\n",
              "      dtype='object')"
            ]
          },
          "metadata": {},
          "execution_count": 22
        }
      ]
    },
    {
      "cell_type": "code",
      "metadata": {
        "colab": {
          "base_uri": "https://localhost:8080/"
        },
        "id": "i-Axf7lFyKwU",
        "outputId": "5952818e-330d-4565-b5b7-94a0923116c1"
      },
      "source": [
        "numerical_feature"
      ],
      "execution_count": 23,
      "outputs": [
        {
          "output_type": "execute_result",
          "data": {
            "text/plain": [
              "Index(['Item_Weight', 'Item_Visibility', 'Item_MRP',\n",
              "       'Outlet_Establishment_Year', 'Item_Outlet_Sales'],\n",
              "      dtype='object')"
            ]
          },
          "metadata": {},
          "execution_count": 23
        }
      ]
    },
    {
      "cell_type": "code",
      "metadata": {
        "colab": {
          "base_uri": "https://localhost:8080/"
        },
        "id": "qLOuYYkg1U7R",
        "outputId": "11dedc78-fff2-40b3-ffa0-b2373de1303d"
      },
      "source": [
        "df[categorical_feature[1]].value_counts(normalize = True).index.to_list()"
      ],
      "execution_count": 24,
      "outputs": [
        {
          "output_type": "execute_result",
          "data": {
            "text/plain": [
              "['Fruits and Vegetables',\n",
              " 'Snack Foods',\n",
              " 'Household',\n",
              " 'Frozen Foods',\n",
              " 'Dairy',\n",
              " 'Canned',\n",
              " 'Baking Goods',\n",
              " 'Health and Hygiene',\n",
              " 'Soft Drinks',\n",
              " 'Meat',\n",
              " 'Breads',\n",
              " 'Hard Drinks',\n",
              " 'Others',\n",
              " 'Starchy Foods',\n",
              " 'Breakfast',\n",
              " 'Seafood']"
            ]
          },
          "metadata": {},
          "execution_count": 24
        }
      ]
    },
    {
      "cell_type": "code",
      "metadata": {
        "colab": {
          "base_uri": "https://localhost:8080/",
          "height": 609
        },
        "id": "vFR6xEleyEOv",
        "outputId": "1f5bd94c-5b0f-410a-d776-bcf2df5f56be"
      },
      "source": [
        "print('Item_Identifier:')\n",
        "plt.figure(figsize=(10,10))\n",
        "Labels = df[categorical_feature[1]].value_counts(normalize = True).index.to_list()\n",
        "proportions = df[categorical_feature[1]].value_counts(normalize = True).to_list()\n",
        "colors=['gold','yellowgreen','lightcoral','lightskyblue']\n",
        "\n",
        "plt.pie(proportions,labels=Labels,colors=colors,autopct='%1.1f%%',shadow=True,)\n",
        "plt.axis('equal')\n",
        "plt.show()"
      ],
      "execution_count": 25,
      "outputs": [
        {
          "output_type": "stream",
          "name": "stdout",
          "text": [
            "Item_Identifier:\n"
          ]
        },
        {
          "output_type": "display_data",
          "data": {
            "text/plain": [
              "<Figure size 720x720 with 1 Axes>"
            ],
            "image/png": "[encoded data removed]"
          },
          "metadata": {}
        }
      ]
    },
    {
      "cell_type": "markdown",
      "source": [
        "conclusion:\n",
        "1. Low fat product visible more than any product. approximat 59.7% visibility.\n",
        "2. 2nd highly visible product is kind of regular\n",
        "3. and remaining 3 reg , LF , low fat are 1.3% , 1.4% & 3.7% visible respectivily."
      ],
      "metadata": {
        "id": "9ncRgJxeXEqb"
      }
    },
    {
      "cell_type": "code",
      "metadata": {
        "colab": {
          "base_uri": "https://localhost:8080/"
        },
        "id": "6eV5KG153M_P",
        "outputId": "b004a2cc-3990-4187-b96f-222cfa285644"
      },
      "source": [
        "df[categorical_feature[0]].value_counts()"
      ],
      "execution_count": 26,
      "outputs": [
        {
          "output_type": "execute_result",
          "data": {
            "text/plain": [
              "Low Fat    5089\n",
              "Regular    2889\n",
              "LF          316\n",
              "reg         117\n",
              "low fat     112\n",
              "Name: Item_Fat_Content, dtype: int64"
            ]
          },
          "metadata": {},
          "execution_count": 26
        }
      ]
    },
    {
      "cell_type": "code",
      "metadata": {
        "colab": {
          "base_uri": "https://localhost:8080/"
        },
        "id": "OPbJZLrO5Gi5",
        "outputId": "aa0c5e78-e087-416b-ea14-496b07c80895"
      },
      "source": [
        "df[categorical_feature[2]].value_counts(normalize = True).to_list()"
      ],
      "execution_count": 27,
      "outputs": [
        {
          "output_type": "execute_result",
          "data": {
            "text/plain": [
              "[0.45689514150171767, 0.3906428921969573, 0.15246196630132505]"
            ]
          },
          "metadata": {},
          "execution_count": 27
        }
      ]
    },
    {
      "cell_type": "code",
      "metadata": {
        "colab": {
          "base_uri": "https://localhost:8080/",
          "height": 597
        },
        "id": "QoOd8gfk4WJf",
        "outputId": "47203ea6-89d4-4ea0-f4ec-f4b59f3c331e"
      },
      "source": [
        "print('Item_Type')\n",
        "plt.figure(figsize=(10,10))\n",
        "Labels = df[categorical_feature[2]].value_counts(normalize = True).index.to_list()\n",
        "proportions = df[categorical_feature[2]].value_counts(normalize = True).to_list()\n",
        "colors=['blue' , 'red' , 'grey' , 'yellow' , 'green' , 'lightgreen' , 'orange' , 'lightblue' , 'pink' ,'violet']\n",
        "\n",
        "plt.pie(proportions,labels=Labels,colors=colors,autopct='%1.1f%%',shadow=True,)\n",
        "plt.axis('equal')\n",
        "plt.show()"
      ],
      "execution_count": 28,
      "outputs": [
        {
          "output_type": "stream",
          "name": "stdout",
          "text": [
            "Item_Type\n"
          ]
        },
        {
          "output_type": "display_data",
          "data": {
            "text/plain": [
              "<Figure size 720x720 with 1 Axes>"
            ],
            "image/png": "[encoded data removed]"
          },
          "metadata": {}
        }
      ]
    },
    {
      "cell_type": "markdown",
      "source": [
        "conclusion:\n",
        "1. total item type are 16 out this 4 category are cover almost 50% of the total product\n",
        "2. and remaining 50% are coverd by 12 category."
      ],
      "metadata": {
        "id": "cx8GAsv2Yio3"
      }
    },
    {
      "cell_type": "code",
      "metadata": {
        "colab": {
          "base_uri": "https://localhost:8080/"
        },
        "id": "Qz-kKIGMgAS_",
        "outputId": "2a65feeb-ff21-4cab-c6b3-a2634696e2c6"
      },
      "source": [
        "df[categorical_feature[3]].value_counts()"
      ],
      "execution_count": 29,
      "outputs": [
        {
          "output_type": "execute_result",
          "data": {
            "text/plain": [
              "Tier 3    3350\n",
              "Tier 2    2785\n",
              "Tier 1    2388\n",
              "Name: Outlet_Location_Type, dtype: int64"
            ]
          },
          "metadata": {},
          "execution_count": 29
        }
      ]
    },
    {
      "cell_type": "code",
      "metadata": {
        "id": "9l6-24-47DsJ",
        "colab": {
          "base_uri": "https://localhost:8080/",
          "height": 729
        },
        "outputId": "050fe51f-af12-4646-b5ae-57ea21447f87"
      },
      "source": [
        "plt.figure(figsize = (10,10))\n",
        "X = df[categorical_feature[3]].value_counts(normalize =  True).index.to_list()\n",
        "Y = df[categorical_feature[3]].value_counts(normalize = True).to_list()\n",
        "color = ['blue' , 'red' , 'grey' , 'yellow' , 'green' , 'lightgreen' , 'orange' , 'lightblue' , 'pink' ,'violet']\n",
        "plt.pie(Y , labels = X , colors=color , autopct='%1.1f%%' , shadow=True)\n",
        "plt.axis('equal')\n",
        "plt.tight_layout()"
      ],
      "execution_count": 30,
      "outputs": [
        {
          "output_type": "display_data",
          "data": {
            "text/plain": [
              "<Figure size 720x720 with 1 Axes>"
            ],
            "image/png": "[encoded data removed]"
          },
          "metadata": {}
        }
      ]
    },
    {
      "cell_type": "code",
      "metadata": {
        "colab": {
          "base_uri": "https://localhost:8080/"
        },
        "id": "SBhPYzYVj4d8",
        "outputId": "caf2bf27-9cf8-4370-f056-bffdeb9fd381"
      },
      "source": [
        "numerical_feature"
      ],
      "execution_count": 31,
      "outputs": [
        {
          "output_type": "execute_result",
          "data": {
            "text/plain": [
              "Index(['Item_Weight', 'Item_Visibility', 'Item_MRP',\n",
              "       'Outlet_Establishment_Year', 'Item_Outlet_Sales'],\n",
              "      dtype='object')"
            ]
          },
          "metadata": {},
          "execution_count": 31
        }
      ]
    },
    {
      "cell_type": "markdown",
      "source": [
        "## Bivariate Distribution"
      ],
      "metadata": {
        "id": "OFMYkrzXNpUM"
      }
    },
    {
      "cell_type": "code",
      "metadata": {
        "colab": {
          "base_uri": "https://localhost:8080/",
          "height": 459
        },
        "id": "XNDndJzbnwsi",
        "outputId": "3a9019d4-5f19-415c-cff8-cb6107bcfe96"
      },
      "source": [
        "sns.jointplot(y = 'Item_Weight' , x = 'Item_Outlet_Sales' , data = df)"
      ],
      "execution_count": 32,
      "outputs": [
        {
          "output_type": "execute_result",
          "data": {
            "text/plain": [
              "<seaborn.axisgrid.JointGrid at 0x7f2202744910>"
            ]
          },
          "metadata": {},
          "execution_count": 32
        },
        {
          "output_type": "display_data",
          "data": {
            "text/plain": [
              "<Figure size 432x432 with 3 Axes>"
            ],
            "image/png": "[encoded data removed]"
          },
          "metadata": {
            "needs_background": "light"
          }
        }
      ]
    },
    {
      "cell_type": "markdown",
      "source": [
        "conclusion:\n",
        "1. No matter product weight if price is less then sold are more."
      ],
      "metadata": {
        "id": "qQioJ8SoZT25"
      }
    },
    {
      "cell_type": "code",
      "metadata": {
        "colab": {
          "base_uri": "https://localhost:8080/",
          "height": 459
        },
        "id": "_beB3SY-n9Z2",
        "outputId": "3efbd31c-ef4c-4b34-9083-4d49fbdade26"
      },
      "source": [
        "sns.jointplot(x = 'Item_Outlet_Sales' , y  = 'Item_Visibility' , data = df)"
      ],
      "execution_count": 33,
      "outputs": [
        {
          "output_type": "execute_result",
          "data": {
            "text/plain": [
              "<seaborn.axisgrid.JointGrid at 0x7f22092fef10>"
            ]
          },
          "metadata": {},
          "execution_count": 33
        },
        {
          "output_type": "display_data",
          "data": {
            "text/plain": [
              "<Figure size 432x432 with 3 Axes>"
            ],
            "image/png": "[encoded data removed]"
          },
          "metadata": {
            "needs_background": "light"
          }
        }
      ]
    },
    {
      "cell_type": "markdown",
      "source": [
        "conclusion:\n",
        "1. visibility are creat matter if product is visible more then chance to sold are more."
      ],
      "metadata": {
        "id": "VEKw4iuoZ_i8"
      }
    },
    {
      "cell_type": "code",
      "metadata": {
        "colab": {
          "base_uri": "https://localhost:8080/",
          "height": 459
        },
        "id": "fkLQRkF9oNw4",
        "outputId": "dfe1a8e2-8d77-492e-ec7e-8da872974b10"
      },
      "source": [
        "sns.jointplot(y = 'Outlet_Establishment_Year' , x = 'Item_Outlet_Sales' , data = df)"
      ],
      "execution_count": 34,
      "outputs": [
        {
          "output_type": "execute_result",
          "data": {
            "text/plain": [
              "<seaborn.axisgrid.JointGrid at 0x7f220293c0d0>"
            ]
          },
          "metadata": {},
          "execution_count": 34
        },
        {
          "output_type": "display_data",
          "data": {
            "text/plain": [
              "<Figure size 432x432 with 3 Axes>"
            ],
            "image/png": "[encoded data removed]"
          },
          "metadata": {
            "needs_background": "light"
          }
        }
      ]
    },
    {
      "cell_type": "code",
      "metadata": {
        "colab": {
          "base_uri": "https://localhost:8080/",
          "height": 298
        },
        "id": "5hNfuXq7owoK",
        "outputId": "c54da63f-d107-49e6-bb60-61abc0d97169"
      },
      "source": [
        "df.plot(kind = 'scatter' , y = 'Item_Outlet_Sales' , x = 'Item_MRP' )"
      ],
      "execution_count": 35,
      "outputs": [
        {
          "output_type": "execute_result",
          "data": {
            "text/plain": [
              "<matplotlib.axes._subplots.AxesSubplot at 0x7f22092cc750>"
            ]
          },
          "metadata": {},
          "execution_count": 35
        },
        {
          "output_type": "display_data",
          "data": {
            "text/plain": [
              "<Figure size 432x288 with 1 Axes>"
            ],
            "image/png": "[encoded data removed]"
          },
          "metadata": {
            "needs_background": "light"
          }
        }
      ]
    },
    {
      "cell_type": "code",
      "metadata": {
        "colab": {
          "base_uri": "https://localhost:8080/",
          "height": 410
        },
        "id": "5Y5sWAEcqI-t",
        "outputId": "ca938caf-5edf-419c-f0ac-9dd21a67096b"
      },
      "source": [
        "sns.heatmap(df.corr(method='pearson') , annot = True , cmap = 'YlGnBu' , mask = np.triu(df.corr() , k=1))"
      ],
      "execution_count": 36,
      "outputs": [
        {
          "output_type": "execute_result",
          "data": {
            "text/plain": [
              "<matplotlib.axes._subplots.AxesSubplot at 0x7f22043d9fd0>"
            ]
          },
          "metadata": {},
          "execution_count": 36
        },
        {
          "output_type": "display_data",
          "data": {
            "text/plain": [
              "<Figure size 432x288 with 2 Axes>"
            ],
            "image/png": "[encoded data removed]"
          },
          "metadata": {
            "needs_background": "light"
          }
        }
      ]
    },
    {
      "cell_type": "code",
      "metadata": {
        "id": "TuCY6ebqqx8_"
      },
      "source": [
        ""
      ],
      "execution_count": 75,
      "outputs": []
    },
    {
      "cell_type": "code",
      "metadata": {
        "colab": {
          "base_uri": "https://localhost:8080/"
        },
        "id": "rruojqgxtAk7",
        "outputId": "f2c7f514-95cb-403a-9dc9-5e74c915deeb"
      },
      "source": [
        "df['Item_Outlet_Sales'].value_counts()"
      ],
      "execution_count": 37,
      "outputs": [
        {
          "output_type": "execute_result",
          "data": {
            "text/plain": [
              "958.7520     17\n",
              "1342.2528    16\n",
              "703.0848     15\n",
              "1845.5976    15\n",
              "1278.3360    14\n",
              "             ..\n",
              "4124.6310     1\n",
              "6622.7126     1\n",
              "1614.5650     1\n",
              "5602.7070     1\n",
              "2778.3834     1\n",
              "Name: Item_Outlet_Sales, Length: 3493, dtype: int64"
            ]
          },
          "metadata": {},
          "execution_count": 37
        }
      ]
    },
    {
      "cell_type": "code",
      "metadata": {
        "id": "KhIvkgTntL6h"
      },
      "source": [
        "for i in df.columns:\n",
        "    if(df[i].dtype!=type(object)):\n",
        "        q1=df[i].quantile(0.25)\n",
        "        q3=df[i].quantile(0.75)\n",
        "        IQR=q3-q1\n",
        "        ub=q3+(1.5*IQR)\n",
        "        lb=q1-(1.5*IQR)\n",
        "        for j in range(0,len(df[i])):\n",
        "            if(df[i][j]>ub):\n",
        "                df[i].replace(df[i][j],ub,inplace=True)\n",
        "            elif(df[i][j]<lb):\n",
        "                df[i].replace(df[i][j],lb,inplace=True)"
      ],
      "execution_count": 38,
      "outputs": []
    },
    {
      "cell_type": "code",
      "metadata": {
        "id": "dSln2udTxXXa"
      },
      "source": [
        ""
      ],
      "execution_count": 38,
      "outputs": []
    },
    {
      "cell_type": "code",
      "metadata": {
        "colab": {
          "base_uri": "https://localhost:8080/"
        },
        "id": "ZAuJjnqAtklA",
        "outputId": "6917daca-5f4d-4440-a892-411b1f3bfde1"
      },
      "source": [
        "for i in df.columns:\n",
        "    if(df[i].dtype!=type(object)):\n",
        "        q1=df[i].quantile(0.25)\n",
        "        q3=df[i].quantile(0.75)\n",
        "        IQR=q3-q1\n",
        "        ub=q3+(1.5*IQR)\n",
        "        lb=q1-(1.5*IQR)\n",
        "        out_ub=df[df[i]>ub][i]\n",
        "        out_lb=df[df[i]<lb][i]\n",
        "        print(\"no of outliers in\",i,\"is\",len(out_ub)+len(out_lb))"
      ],
      "execution_count": 39,
      "outputs": [
        {
          "output_type": "stream",
          "name": "stdout",
          "text": [
            "no of outliers in Item_Weight is 0\n",
            "no of outliers in Item_Visibility is 0\n",
            "no of outliers in Item_MRP is 0\n",
            "no of outliers in Outlet_Establishment_Year is 0\n",
            "no of outliers in Item_Outlet_Sales is 0\n"
          ]
        }
      ]
    },
    {
      "cell_type": "code",
      "metadata": {
        "id": "j-nlFeef1BQm",
        "colab": {
          "base_uri": "https://localhost:8080/"
        },
        "outputId": "2c50520f-6c01-449c-b528-0c8fa463d5c5"
      },
      "source": [
        "df.isnull().sum()"
      ],
      "execution_count": 40,
      "outputs": [
        {
          "output_type": "execute_result",
          "data": {
            "text/plain": [
              "Item_Weight                  1463\n",
              "Item_Fat_Content                0\n",
              "Item_Visibility                 0\n",
              "Item_Type                       0\n",
              "Item_MRP                        0\n",
              "Outlet_Establishment_Year       0\n",
              "Outlet_Size                  2410\n",
              "Outlet_Location_Type            0\n",
              "Outlet_Type                     0\n",
              "Item_Outlet_Sales               0\n",
              "dtype: int64"
            ]
          },
          "metadata": {},
          "execution_count": 40
        }
      ]
    },
    {
      "cell_type": "code",
      "metadata": {
        "id": "_QAkltGu2UrQ"
      },
      "source": [
        "df['Item_Weight'] = df['Item_Weight'].fillna(df['Item_Weight'].mean())\n",
        "df['Outlet_Size'] = df['Outlet_Size'].fillna(df['Outlet_Size'].mode()[0])"
      ],
      "execution_count": 43,
      "outputs": []
    },
    {
      "cell_type": "code",
      "metadata": {
        "colab": {
          "base_uri": "https://localhost:8080/"
        },
        "id": "3nwfhUJA2gNi",
        "outputId": "4530b35e-a406-4b0e-aeda-0c780bc7f792"
      },
      "source": [
        "df.isnull().sum()"
      ],
      "execution_count": 46,
      "outputs": [
        {
          "output_type": "execute_result",
          "data": {
            "text/plain": [
              "Item_Weight                  0\n",
              "Item_Fat_Content             0\n",
              "Item_Visibility              0\n",
              "Item_Type                    0\n",
              "Item_MRP                     0\n",
              "Outlet_Establishment_Year    0\n",
              "Outlet_Size                  0\n",
              "Outlet_Location_Type         0\n",
              "Outlet_Type                  0\n",
              "Item_Outlet_Sales            0\n",
              "dtype: int64"
            ]
          },
          "metadata": {},
          "execution_count": 46
        }
      ]
    },
    {
      "cell_type": "code",
      "metadata": {
        "id": "I_CFQJhOvfo0",
        "colab": {
          "base_uri": "https://localhost:8080/",
          "height": 660
        },
        "outputId": "98d0d58d-d12e-4f6b-858a-c450877b3d62"
      },
      "source": [
        "import statsmodels.api as sm\n",
        "X = df.drop(['Item_Fat_Content', 'Item_Type','Outlet_Size', 'Outlet_Location_Type', 'Outlet_Type'] ,  axis = 1)\n",
        "Y  = df['Item_Outlet_Sales']\n",
        "X = sm.add_constant(X)\n",
        "model = sm.OLS(Y , X).fit()\n",
        "model.summary()"
      ],
      "execution_count": 47,
      "outputs": [
        {
          "output_type": "stream",
          "name": "stderr",
          "text": [
            "/usr/local/lib/python3.7/dist-packages/statsmodels/tools/_testing.py:19: FutureWarning: pandas.util.testing is deprecated. Use the functions in the public API at pandas.testing instead.\n",
            "  import pandas.util.testing as tm\n",
            "/usr/local/lib/python3.7/dist-packages/statsmodels/tsa/tsatools.py:117: FutureWarning: In a future version of pandas all arguments of concat except for the argument 'objs' will be keyword-only\n",
            "  x = pd.concat(x[::order], 1)\n"
          ]
        },
        {
          "output_type": "execute_result",
          "data": {
            "text/plain": [
              "<class 'statsmodels.iolib.summary.Summary'>\n",
              "\"\"\"\n",
              "                            OLS Regression Results                            \n",
              "==============================================================================\n",
              "Dep. Variable:      Item_Outlet_Sales   R-squared:                       1.000\n",
              "Model:                            OLS   Adj. R-squared:                  1.000\n",
              "Method:                 Least Squares   F-statistic:                 5.793e+31\n",
              "Date:                Thu, 07 Apr 2022   Prob (F-statistic):               0.00\n",
              "Time:                        06:49:58   Log-Likelihood:             2.0486e+05\n",
              "No. Observations:                8523   AIC:                        -4.097e+05\n",
              "Df Residuals:                    8517   BIC:                        -4.097e+05\n",
              "Df Model:                           5                                         \n",
              "Covariance Type:            nonrobust                                         \n",
              "=============================================================================================\n",
              "                                coef    std err          t      P>|t|      [0.025      0.975]\n",
              "---------------------------------------------------------------------------------------------\n",
              "const                      1.529e-11   2.29e-11      0.668      0.504   -2.96e-11    6.02e-11\n",
              "Item_Weight                 -1.3e-13   2.26e-14     -5.753      0.000   -1.74e-13   -8.57e-14\n",
              "Item_Visibility           -8.287e-13   1.98e-12     -0.418      0.676   -4.71e-12    3.06e-12\n",
              "Item_MRP                   1.481e-14   1.88e-15      7.870      0.000    1.11e-14    1.85e-14\n",
              "Outlet_Establishment_Year -4.254e-15   1.14e-14     -0.372      0.710   -2.67e-14    1.82e-14\n",
              "Item_Outlet_Sales             1.0000   7.27e-17   1.38e+16      0.000       1.000       1.000\n",
              "==============================================================================\n",
              "Omnibus:                      453.823   Durbin-Watson:                   0.095\n",
              "Prob(Omnibus):                  0.000   Jarque-Bera (JB):              529.747\n",
              "Skew:                          -0.610   Prob(JB):                    9.26e-116\n",
              "Kurtosis:                       2.969   Cond. No.                     7.68e+05\n",
              "==============================================================================\n",
              "\n",
              "Warnings:\n",
              "[1] Standard Errors assume that the covariance matrix of the errors is correctly specified.\n",
              "[2] The condition number is large, 7.68e+05. This might indicate that there are\n",
              "strong multicollinearity or other numerical problems.\n",
              "\"\"\""
            ],
            "text/html": [
              "<table class=\"simpletable\">\n",
              "<caption>OLS Regression Results</caption>\n",
              "<tr>\n",
              "  <th>Dep. Variable:</th>    <td>Item_Outlet_Sales</td> <th>  R-squared:         </th>  <td>   1.000</td> \n",
              "</tr>\n",
              "<tr>\n",
              "  <th>Model:</th>                   <td>OLS</td>        <th>  Adj. R-squared:    </th>  <td>   1.000</td> \n",
              "</tr>\n",
              "<tr>\n",
              "  <th>Method:</th>             <td>Least Squares</td>   <th>  F-statistic:       </th>  <td>5.793e+31</td>\n",
              "</tr>\n",
              "<tr>\n",
              "  <th>Date:</th>             <td>Thu, 07 Apr 2022</td>  <th>  Prob (F-statistic):</th>   <td>  0.00</td>  \n",
              "</tr>\n",
              "<tr>\n",
              "  <th>Time:</th>                 <td>06:49:58</td>      <th>  Log-Likelihood:    </th> <td>2.0486e+05</td>\n",
              "</tr>\n",
              "<tr>\n",
              "  <th>No. Observations:</th>      <td>  8523</td>       <th>  AIC:               </th> <td>-4.097e+05</td>\n",
              "</tr>\n",
              "<tr>\n",
              "  <th>Df Residuals:</th>          <td>  8517</td>       <th>  BIC:               </th> <td>-4.097e+05</td>\n",
              "</tr>\n",
              "<tr>\n",
              "  <th>Df Model:</th>              <td>     5</td>       <th>                     </th>      <td> </td>    \n",
              "</tr>\n",
              "<tr>\n",
              "  <th>Covariance Type:</th>      <td>nonrobust</td>     <th>                     </th>      <td> </td>    \n",
              "</tr>\n",
              "</table>\n",
              "<table class=\"simpletable\">\n",
              "<tr>\n",
              "              <td></td>                 <th>coef</th>     <th>std err</th>      <th>t</th>      <th>P>|t|</th>  <th>[0.025</th>    <th>0.975]</th>  \n",
              "</tr>\n",
              "<tr>\n",
              "  <th>const</th>                     <td> 1.529e-11</td> <td> 2.29e-11</td> <td>    0.668</td> <td> 0.504</td> <td>-2.96e-11</td> <td> 6.02e-11</td>\n",
              "</tr>\n",
              "<tr>\n",
              "  <th>Item_Weight</th>               <td>  -1.3e-13</td> <td> 2.26e-14</td> <td>   -5.753</td> <td> 0.000</td> <td>-1.74e-13</td> <td>-8.57e-14</td>\n",
              "</tr>\n",
              "<tr>\n",
              "  <th>Item_Visibility</th>           <td>-8.287e-13</td> <td> 1.98e-12</td> <td>   -0.418</td> <td> 0.676</td> <td>-4.71e-12</td> <td> 3.06e-12</td>\n",
              "</tr>\n",
              "<tr>\n",
              "  <th>Item_MRP</th>                  <td> 1.481e-14</td> <td> 1.88e-15</td> <td>    7.870</td> <td> 0.000</td> <td> 1.11e-14</td> <td> 1.85e-14</td>\n",
              "</tr>\n",
              "<tr>\n",
              "  <th>Outlet_Establishment_Year</th> <td>-4.254e-15</td> <td> 1.14e-14</td> <td>   -0.372</td> <td> 0.710</td> <td>-2.67e-14</td> <td> 1.82e-14</td>\n",
              "</tr>\n",
              "<tr>\n",
              "  <th>Item_Outlet_Sales</th>         <td>    1.0000</td> <td> 7.27e-17</td> <td> 1.38e+16</td> <td> 0.000</td> <td>    1.000</td> <td>    1.000</td>\n",
              "</tr>\n",
              "</table>\n",
              "<table class=\"simpletable\">\n",
              "<tr>\n",
              "  <th>Omnibus:</th>       <td>453.823</td> <th>  Durbin-Watson:     </th> <td>   0.095</td> \n",
              "</tr>\n",
              "<tr>\n",
              "  <th>Prob(Omnibus):</th> <td> 0.000</td>  <th>  Jarque-Bera (JB):  </th> <td> 529.747</td> \n",
              "</tr>\n",
              "<tr>\n",
              "  <th>Skew:</th>          <td>-0.610</td>  <th>  Prob(JB):          </th> <td>9.26e-116</td>\n",
              "</tr>\n",
              "<tr>\n",
              "  <th>Kurtosis:</th>      <td> 2.969</td>  <th>  Cond. No.          </th> <td>7.68e+05</td> \n",
              "</tr>\n",
              "</table><br/><br/>Warnings:<br/>[1] Standard Errors assume that the covariance matrix of the errors is correctly specified.<br/>[2] The condition number is large, 7.68e+05. This might indicate that there are<br/>strong multicollinearity or other numerical problems."
            ]
          },
          "metadata": {},
          "execution_count": 47
        }
      ]
    },
    {
      "cell_type": "code",
      "metadata": {
        "id": "zKFTAkvC3pgE"
      },
      "source": [
        ""
      ],
      "execution_count": 82,
      "outputs": []
    },
    {
      "cell_type": "markdown",
      "source": [
        "## Feature Engineering"
      ],
      "metadata": {
        "id": "ohnyAauhOjq4"
      }
    },
    {
      "cell_type": "code",
      "metadata": {
        "colab": {
          "base_uri": "https://localhost:8080/"
        },
        "id": "hQ92-RRdCHZu",
        "outputId": "9ccd1bd0-9861-4086-ad7c-7a8ef8edbcad"
      },
      "source": [
        "categorical_feature"
      ],
      "execution_count": 48,
      "outputs": [
        {
          "output_type": "execute_result",
          "data": {
            "text/plain": [
              "Index(['Item_Fat_Content', 'Item_Type', 'Outlet_Size', 'Outlet_Location_Type',\n",
              "       'Outlet_Type'],\n",
              "      dtype='object')"
            ]
          },
          "metadata": {},
          "execution_count": 48
        }
      ]
    },
    {
      "cell_type": "code",
      "metadata": {
        "colab": {
          "base_uri": "https://localhost:8080/"
        },
        "id": "iIRd3BZWGsN9",
        "outputId": "fbc63bb4-9053-4a79-f9ff-ecaf067b17de"
      },
      "source": [
        "df[categorical_feature[0]].value_counts()"
      ],
      "execution_count": 49,
      "outputs": [
        {
          "output_type": "execute_result",
          "data": {
            "text/plain": [
              "Low Fat    5089\n",
              "Regular    2889\n",
              "LF          316\n",
              "reg         117\n",
              "low fat     112\n",
              "Name: Item_Fat_Content, dtype: int64"
            ]
          },
          "metadata": {},
          "execution_count": 49
        }
      ]
    },
    {
      "cell_type": "code",
      "metadata": {
        "colab": {
          "base_uri": "https://localhost:8080/",
          "height": 424
        },
        "id": "q89ihfP9Gzxb",
        "outputId": "bcf0c1c4-3c5f-489f-c62c-6646935148a9"
      },
      "source": [
        "Item_Fat_Content = pd.get_dummies(df[categorical_feature[0]] , drop_first=True)\n",
        "Item_Fat_Content"
      ],
      "execution_count": 50,
      "outputs": [
        {
          "output_type": "execute_result",
          "data": {
            "text/plain": [
              "      Low Fat  Regular  low fat  reg\n",
              "0           1        0        0    0\n",
              "1           0        1        0    0\n",
              "2           1        0        0    0\n",
              "3           0        1        0    0\n",
              "4           1        0        0    0\n",
              "...       ...      ...      ...  ...\n",
              "8518        1        0        0    0\n",
              "8519        0        1        0    0\n",
              "8520        1        0        0    0\n",
              "8521        0        1        0    0\n",
              "8522        1        0        0    0\n",
              "\n",
              "[8523 rows x 4 columns]"
            ],
            "text/html": [
              "\n",
              "  <div id=\"df-d2de60d5-9562-4237-b1a7-3357d189459d\">\n",
              "    <div class=\"colab-df-container\">\n",
              "      <div>\n",
              "<style scoped>\n",
              "    .dataframe tbody tr th:only-of-type {\n",
              "        vertical-align: middle;\n",
              "    }\n",
              "\n",
              "    .dataframe tbody tr th {\n",
              "        vertical-align: top;\n",
              "    }\n",
              "\n",
              "    .dataframe thead th {\n",
              "        text-align: right;\n",
              "    }\n",
              "</style>\n",
              "<table border=\"1\" class=\"dataframe\">\n",
              "  <thead>\n",
              "    <tr style=\"text-align: right;\">\n",
              "      <th></th>\n",
              "      <th>Low Fat</th>\n",
              "      <th>Regular</th>\n",
              "      <th>low fat</th>\n",
              "      <th>reg</th>\n",
              "    </tr>\n",
              "  </thead>\n",
              "  <tbody>\n",
              "    <tr>\n",
              "      <th>0</th>\n",
              "      <td>1</td>\n",
              "      <td>0</td>\n",
              "      <td>0</td>\n",
              "      <td>0</td>\n",
              "    </tr>\n",
              "    <tr>\n",
              "      <th>1</th>\n",
              "      <td>0</td>\n",
              "      <td>1</td>\n",
              "      <td>0</td>\n",
              "      <td>0</td>\n",
              "    </tr>\n",
              "    <tr>\n",
              "      <th>2</th>\n",
              "      <td>1</td>\n",
              "      <td>0</td>\n",
              "      <td>0</td>\n",
              "      <td>0</td>\n",
              "    </tr>\n",
              "    <tr>\n",
              "      <th>3</th>\n",
              "      <td>0</td>\n",
              "      <td>1</td>\n",
              "      <td>0</td>\n",
              "      <td>0</td>\n",
              "    </tr>\n",
              "    <tr>\n",
              "      <th>4</th>\n",
              "      <td>1</td>\n",
              "      <td>0</td>\n",
              "      <td>0</td>\n",
              "      <td>0</td>\n",
              "    </tr>\n",
              "    <tr>\n",
              "      <th>...</th>\n",
              "      <td>...</td>\n",
              "      <td>...</td>\n",
              "      <td>...</td>\n",
              "      <td>...</td>\n",
              "    </tr>\n",
              "    <tr>\n",
              "      <th>8518</th>\n",
              "      <td>1</td>\n",
              "      <td>0</td>\n",
              "      <td>0</td>\n",
              "      <td>0</td>\n",
              "    </tr>\n",
              "    <tr>\n",
              "      <th>8519</th>\n",
              "      <td>0</td>\n",
              "      <td>1</td>\n",
              "      <td>0</td>\n",
              "      <td>0</td>\n",
              "    </tr>\n",
              "    <tr>\n",
              "      <th>8520</th>\n",
              "      <td>1</td>\n",
              "      <td>0</td>\n",
              "      <td>0</td>\n",
              "      <td>0</td>\n",
              "    </tr>\n",
              "    <tr>\n",
              "      <th>8521</th>\n",
              "      <td>0</td>\n",
              "      <td>1</td>\n",
              "      <td>0</td>\n",
              "      <td>0</td>\n",
              "    </tr>\n",
              "    <tr>\n",
              "      <th>8522</th>\n",
              "      <td>1</td>\n",
              "      <td>0</td>\n",
              "      <td>0</td>\n",
              "      <td>0</td>\n",
              "    </tr>\n",
              "  </tbody>\n",
              "</table>\n",
              "<p>8523 rows × 4 columns</p>\n",
              "</div>\n",
              "      <button class=\"colab-df-convert\" onclick=\"convertToInteractive('df-d2de60d5-9562-4237-b1a7-3357d189459d')\"\n",
              "              title=\"Convert this dataframe to an interactive table.\"\n",
              "              style=\"display:none;\">\n",
              "        \n",
              "  <svg xmlns=\"http://www.w3.org/2000/svg\" height=\"24px\"viewBox=\"0 0 24 24\"\n",
              "       width=\"24px\">\n",
              "    <path d=\"M0 0h24v24H0V0z\" fill=\"none\"/>\n",
              "    <path d=\"M18.56 5.44l.94 2.06.94-2.06 2.06-.94-2.06-.94-.94-2.06-.94 2.06-2.06.94zm-11 1L8.5 8.5l.94-2.06 2.06-.94-2.06-.94L8.5 2.5l-.94 2.06-2.06.94zm10 10l.94 2.06.94-2.06 2.06-.94-2.06-.94-.94-2.06-.94 2.06-2.06.94z\"/><path d=\"M17.41 7.96l-1.37-1.37c-.4-.4-.92-.59-1.43-.59-.52 0-1.04.2-1.43.59L10.3 9.45l-7.72 7.72c-.78.78-.78 2.05 0 2.83L4 21.41c.39.39.9.59 1.41.59.51 0 1.02-.2 1.41-.59l7.78-7.78 2.81-2.81c.8-.78.8-2.07 0-2.86zM5.41 20L4 18.59l7.72-7.72 1.47 1.35L5.41 20z\"/>\n",
              "  </svg>\n",
              "      </button>\n",
              "      \n",
              "  <style>\n",
              "    .colab-df-container {\n",
              "      display:flex;\n",
              "      flex-wrap:wrap;\n",
              "      gap: 12px;\n",
              "    }\n",
              "\n",
              "    .colab-df-convert {\n",
              "      background-color: #E8F0FE;\n",
              "      border: none;\n",
              "      border-radius: 50%;\n",
              "      cursor: pointer;\n",
              "      display: none;\n",
              "      fill: #1967D2;\n",
              "      height: 32px;\n",
              "      padding: 0 0 0 0;\n",
              "      width: 32px;\n",
              "    }\n",
              "\n",
              "    .colab-df-convert:hover {\n",
              "      background-color: #E2EBFA;\n",
              "      box-shadow: 0px 1px 2px rgba(60, 64, 67, 0.3), 0px 1px 3px 1px rgba(60, 64, 67, 0.15);\n",
              "      fill: #174EA6;\n",
              "    }\n",
              "\n",
              "    [theme=dark] .colab-df-convert {\n",
              "      background-color: #3B4455;\n",
              "      fill: #D2E3FC;\n",
              "    }\n",
              "\n",
              "    [theme=dark] .colab-df-convert:hover {\n",
              "      background-color: #434B5C;\n",
              "      box-shadow: 0px 1px 3px 1px rgba(0, 0, 0, 0.15);\n",
              "      filter: drop-shadow(0px 1px 2px rgba(0, 0, 0, 0.3));\n",
              "      fill: #FFFFFF;\n",
              "    }\n",
              "  </style>\n",
              "\n",
              "      <script>\n",
              "        const buttonEl =\n",
              "          document.querySelector('#df-d2de60d5-9562-4237-b1a7-3357d189459d button.colab-df-convert');\n",
              "        buttonEl.style.display =\n",
              "          google.colab.kernel.accessAllowed ? 'block' : 'none';\n",
              "\n",
              "        async function convertToInteractive(key) {\n",
              "          const element = document.querySelector('#df-d2de60d5-9562-4237-b1a7-3357d189459d');\n",
              "          const dataTable =\n",
              "            await google.colab.kernel.invokeFunction('convertToInteractive',\n",
              "                                                     [key], {});\n",
              "          if (!dataTable) return;\n",
              "\n",
              "          const docLinkHtml = 'Like what you see? Visit the ' +\n",
              "            '<a target=\"_blank\" href=https://colab.research.google.com/notebooks/data_table.ipynb>data table notebook</a>'\n",
              "            + ' to learn more about interactive tables.';\n",
              "          element.innerHTML = '';\n",
              "          dataTable['output_type'] = 'display_data';\n",
              "          await google.colab.output.renderOutput(dataTable, element);\n",
              "          const docLink = document.createElement('div');\n",
              "          docLink.innerHTML = docLinkHtml;\n",
              "          element.appendChild(docLink);\n",
              "        }\n",
              "      </script>\n",
              "    </div>\n",
              "  </div>\n",
              "  "
            ]
          },
          "metadata": {},
          "execution_count": 50
        }
      ]
    },
    {
      "cell_type": "code",
      "metadata": {
        "id": "dGRhQFWFIPM1"
      },
      "source": [
        ""
      ],
      "execution_count": 49,
      "outputs": []
    },
    {
      "cell_type": "code",
      "metadata": {
        "colab": {
          "base_uri": "https://localhost:8080/"
        },
        "id": "RYZyG7J2HU_U",
        "outputId": "1ef56a5f-e572-4e26-bd8b-54ff6e44b432"
      },
      "source": [
        "df[categorical_feature[1]].value_counts()"
      ],
      "execution_count": 51,
      "outputs": [
        {
          "output_type": "execute_result",
          "data": {
            "text/plain": [
              "Fruits and Vegetables    1232\n",
              "Snack Foods              1200\n",
              "Household                 910\n",
              "Frozen Foods              856\n",
              "Dairy                     682\n",
              "Canned                    649\n",
              "Baking Goods              648\n",
              "Health and Hygiene        520\n",
              "Soft Drinks               445\n",
              "Meat                      425\n",
              "Breads                    251\n",
              "Hard Drinks               214\n",
              "Others                    169\n",
              "Starchy Foods             148\n",
              "Breakfast                 110\n",
              "Seafood                    64\n",
              "Name: Item_Type, dtype: int64"
            ]
          },
          "metadata": {},
          "execution_count": 51
        }
      ]
    },
    {
      "cell_type": "code",
      "metadata": {
        "colab": {
          "base_uri": "https://localhost:8080/",
          "height": 502
        },
        "id": "MLEY5PP7STHu",
        "outputId": "bd990631-1abe-44ed-a4f8-dda3460b676e"
      },
      "source": [
        "Item_type = pd.get_dummies(df[categorical_feature[1]] , drop_first=True)\n",
        "Item_type"
      ],
      "execution_count": 52,
      "outputs": [
        {
          "output_type": "execute_result",
          "data": {
            "text/plain": [
              "      Breads  Breakfast  Canned  Dairy  Frozen Foods  Fruits and Vegetables  \\\n",
              "0          0          0       0      1             0                      0   \n",
              "1          0          0       0      0             0                      0   \n",
              "2          0          0       0      0             0                      0   \n",
              "3          0          0       0      0             0                      1   \n",
              "4          0          0       0      0             0                      0   \n",
              "...      ...        ...     ...    ...           ...                    ...   \n",
              "8518       0          0       0      0             0                      0   \n",
              "8519       0          0       0      0             0                      0   \n",
              "8520       0          0       0      0             0                      0   \n",
              "8521       0          0       0      0             0                      0   \n",
              "8522       0          0       0      0             0                      0   \n",
              "\n",
              "      Hard Drinks  Health and Hygiene  Household  Meat  Others  Seafood  \\\n",
              "0               0                   0          0     0       0        0   \n",
              "1               0                   0          0     0       0        0   \n",
              "2               0                   0          0     1       0        0   \n",
              "3               0                   0          0     0       0        0   \n",
              "4               0                   0          1     0       0        0   \n",
              "...           ...                 ...        ...   ...     ...      ...   \n",
              "8518            0                   0          0     0       0        0   \n",
              "8519            0                   0          0     0       0        0   \n",
              "8520            0                   1          0     0       0        0   \n",
              "8521            0                   0          0     0       0        0   \n",
              "8522            0                   0          0     0       0        0   \n",
              "\n",
              "      Snack Foods  Soft Drinks  Starchy Foods  \n",
              "0               0            0              0  \n",
              "1               0            1              0  \n",
              "2               0            0              0  \n",
              "3               0            0              0  \n",
              "4               0            0              0  \n",
              "...           ...          ...            ...  \n",
              "8518            1            0              0  \n",
              "8519            0            0              0  \n",
              "8520            0            0              0  \n",
              "8521            1            0              0  \n",
              "8522            0            1              0  \n",
              "\n",
              "[8523 rows x 15 columns]"
            ],
            "text/html": [
              "\n",
              "  <div id=\"df-de544355-6430-4c8a-bfd8-e86b6f7245f0\">\n",
              "    <div class=\"colab-df-container\">\n",
              "      <div>\n",
              "<style scoped>\n",
              "    .dataframe tbody tr th:only-of-type {\n",
              "        vertical-align: middle;\n",
              "    }\n",
              "\n",
              "    .dataframe tbody tr th {\n",
              "        vertical-align: top;\n",
              "    }\n",
              "\n",
              "    .dataframe thead th {\n",
              "        text-align: right;\n",
              "    }\n",
              "</style>\n",
              "<table border=\"1\" class=\"dataframe\">\n",
              "  <thead>\n",
              "    <tr style=\"text-align: right;\">\n",
              "      <th></th>\n",
              "      <th>Breads</th>\n",
              "      <th>Breakfast</th>\n",
              "      <th>Canned</th>\n",
              "      <th>Dairy</th>\n",
              "      <th>Frozen Foods</th>\n",
              "      <th>Fruits and Vegetables</th>\n",
              "      <th>Hard Drinks</th>\n",
              "      <th>Health and Hygiene</th>\n",
              "      <th>Household</th>\n",
              "      <th>Meat</th>\n",
              "      <th>Others</th>\n",
              "      <th>Seafood</th>\n",
              "      <th>Snack Foods</th>\n",
              "      <th>Soft Drinks</th>\n",
              "      <th>Starchy Foods</th>\n",
              "    </tr>\n",
              "  </thead>\n",
              "  <tbody>\n",
              "    <tr>\n",
              "      <th>0</th>\n",
              "      <td>0</td>\n",
              "      <td>0</td>\n",
              "      <td>0</td>\n",
              "      <td>1</td>\n",
              "      <td>0</td>\n",
              "      <td>0</td>\n",
              "      <td>0</td>\n",
              "      <td>0</td>\n",
              "      <td>0</td>\n",
              "      <td>0</td>\n",
              "      <td>0</td>\n",
              "      <td>0</td>\n",
              "      <td>0</td>\n",
              "      <td>0</td>\n",
              "      <td>0</td>\n",
              "    </tr>\n",
              "    <tr>\n",
              "      <th>1</th>\n",
              "      <td>0</td>\n",
              "      <td>0</td>\n",
              "      <td>0</td>\n",
              "      <td>0</td>\n",
              "      <td>0</td>\n",
              "      <td>0</td>\n",
              "      <td>0</td>\n",
              "      <td>0</td>\n",
              "      <td>0</td>\n",
              "      <td>0</td>\n",
              "      <td>0</td>\n",
              "      <td>0</td>\n",
              "      <td>0</td>\n",
              "      <td>1</td>\n",
              "      <td>0</td>\n",
              "    </tr>\n",
              "    <tr>\n",
              "      <th>2</th>\n",
              "      <td>0</td>\n",
              "      <td>0</td>\n",
              "      <td>0</td>\n",
              "      <td>0</td>\n",
              "      <td>0</td>\n",
              "      <td>0</td>\n",
              "      <td>0</td>\n",
              "      <td>0</td>\n",
              "      <td>0</td>\n",
              "      <td>1</td>\n",
              "      <td>0</td>\n",
              "      <td>0</td>\n",
              "      <td>0</td>\n",
              "      <td>0</td>\n",
              "      <td>0</td>\n",
              "    </tr>\n",
              "    <tr>\n",
              "      <th>3</th>\n",
              "      <td>0</td>\n",
              "      <td>0</td>\n",
              "      <td>0</td>\n",
              "      <td>0</td>\n",
              "      <td>0</td>\n",
              "      <td>1</td>\n",
              "      <td>0</td>\n",
              "      <td>0</td>\n",
              "      <td>0</td>\n",
              "      <td>0</td>\n",
              "      <td>0</td>\n",
              "      <td>0</td>\n",
              "      <td>0</td>\n",
              "      <td>0</td>\n",
              "      <td>0</td>\n",
              "    </tr>\n",
              "    <tr>\n",
              "      <th>4</th>\n",
              "      <td>0</td>\n",
              "      <td>0</td>\n",
              "      <td>0</td>\n",
              "      <td>0</td>\n",
              "      <td>0</td>\n",
              "      <td>0</td>\n",
              "      <td>0</td>\n",
              "      <td>0</td>\n",
              "      <td>1</td>\n",
              "      <td>0</td>\n",
              "      <td>0</td>\n",
              "      <td>0</td>\n",
              "      <td>0</td>\n",
              "      <td>0</td>\n",
              "      <td>0</td>\n",
              "    </tr>\n",
              "    <tr>\n",
              "      <th>...</th>\n",
              "      <td>...</td>\n",
              "      <td>...</td>\n",
              "      <td>...</td>\n",
              "      <td>...</td>\n",
              "      <td>...</td>\n",
              "      <td>...</td>\n",
              "      <td>...</td>\n",
              "      <td>...</td>\n",
              "      <td>...</td>\n",
              "      <td>...</td>\n",
              "      <td>...</td>\n",
              "      <td>...</td>\n",
              "      <td>...</td>\n",
              "      <td>...</td>\n",
              "      <td>...</td>\n",
              "    </tr>\n",
              "    <tr>\n",
              "      <th>8518</th>\n",
              "      <td>0</td>\n",
              "      <td>0</td>\n",
              "      <td>0</td>\n",
              "      <td>0</td>\n",
              "      <td>0</td>\n",
              "      <td>0</td>\n",
              "      <td>0</td>\n",
              "      <td>0</td>\n",
              "      <td>0</td>\n",
              "      <td>0</td>\n",
              "      <td>0</td>\n",
              "      <td>0</td>\n",
              "      <td>1</td>\n",
              "      <td>0</td>\n",
              "      <td>0</td>\n",
              "    </tr>\n",
              "    <tr>\n",
              "      <th>8519</th>\n",
              "      <td>0</td>\n",
              "      <td>0</td>\n",
              "      <td>0</td>\n",
              "      <td>0</td>\n",
              "      <td>0</td>\n",
              "      <td>0</td>\n",
              "      <td>0</td>\n",
              "      <td>0</td>\n",
              "      <td>0</td>\n",
              "      <td>0</td>\n",
              "      <td>0</td>\n",
              "      <td>0</td>\n",
              "      <td>0</td>\n",
              "      <td>0</td>\n",
              "      <td>0</td>\n",
              "    </tr>\n",
              "    <tr>\n",
              "      <th>8520</th>\n",
              "      <td>0</td>\n",
              "      <td>0</td>\n",
              "      <td>0</td>\n",
              "      <td>0</td>\n",
              "      <td>0</td>\n",
              "      <td>0</td>\n",
              "      <td>0</td>\n",
              "      <td>1</td>\n",
              "      <td>0</td>\n",
              "      <td>0</td>\n",
              "      <td>0</td>\n",
              "      <td>0</td>\n",
              "      <td>0</td>\n",
              "      <td>0</td>\n",
              "      <td>0</td>\n",
              "    </tr>\n",
              "    <tr>\n",
              "      <th>8521</th>\n",
              "      <td>0</td>\n",
              "      <td>0</td>\n",
              "      <td>0</td>\n",
              "      <td>0</td>\n",
              "      <td>0</td>\n",
              "      <td>0</td>\n",
              "      <td>0</td>\n",
              "      <td>0</td>\n",
              "      <td>0</td>\n",
              "      <td>0</td>\n",
              "      <td>0</td>\n",
              "      <td>0</td>\n",
              "      <td>1</td>\n",
              "      <td>0</td>\n",
              "      <td>0</td>\n",
              "    </tr>\n",
              "    <tr>\n",
              "      <th>8522</th>\n",
              "      <td>0</td>\n",
              "      <td>0</td>\n",
              "      <td>0</td>\n",
              "      <td>0</td>\n",
              "      <td>0</td>\n",
              "      <td>0</td>\n",
              "      <td>0</td>\n",
              "      <td>0</td>\n",
              "      <td>0</td>\n",
              "      <td>0</td>\n",
              "      <td>0</td>\n",
              "      <td>0</td>\n",
              "      <td>0</td>\n",
              "      <td>1</td>\n",
              "      <td>0</td>\n",
              "    </tr>\n",
              "  </tbody>\n",
              "</table>\n",
              "<p>8523 rows × 15 columns</p>\n",
              "</div>\n",
              "      <button class=\"colab-df-convert\" onclick=\"convertToInteractive('df-de544355-6430-4c8a-bfd8-e86b6f7245f0')\"\n",
              "              title=\"Convert this dataframe to an interactive table.\"\n",
              "              style=\"display:none;\">\n",
              "        \n",
              "  <svg xmlns=\"http://www.w3.org/2000/svg\" height=\"24px\"viewBox=\"0 0 24 24\"\n",
              "       width=\"24px\">\n",
              "    <path d=\"M0 0h24v24H0V0z\" fill=\"none\"/>\n",
              "    <path d=\"M18.56 5.44l.94 2.06.94-2.06 2.06-.94-2.06-.94-.94-2.06-.94 2.06-2.06.94zm-11 1L8.5 8.5l.94-2.06 2.06-.94-2.06-.94L8.5 2.5l-.94 2.06-2.06.94zm10 10l.94 2.06.94-2.06 2.06-.94-2.06-.94-.94-2.06-.94 2.06-2.06.94z\"/><path d=\"M17.41 7.96l-1.37-1.37c-.4-.4-.92-.59-1.43-.59-.52 0-1.04.2-1.43.59L10.3 9.45l-7.72 7.72c-.78.78-.78 2.05 0 2.83L4 21.41c.39.39.9.59 1.41.59.51 0 1.02-.2 1.41-.59l7.78-7.78 2.81-2.81c.8-.78.8-2.07 0-2.86zM5.41 20L4 18.59l7.72-7.72 1.47 1.35L5.41 20z\"/>\n",
              "  </svg>\n",
              "      </button>\n",
              "      \n",
              "  <style>\n",
              "    .colab-df-container {\n",
              "      display:flex;\n",
              "      flex-wrap:wrap;\n",
              "      gap: 12px;\n",
              "    }\n",
              "\n",
              "    .colab-df-convert {\n",
              "      background-color: #E8F0FE;\n",
              "      border: none;\n",
              "      border-radius: 50%;\n",
              "      cursor: pointer;\n",
              "      display: none;\n",
              "      fill: #1967D2;\n",
              "      height: 32px;\n",
              "      padding: 0 0 0 0;\n",
              "      width: 32px;\n",
              "    }\n",
              "\n",
              "    .colab-df-convert:hover {\n",
              "      background-color: #E2EBFA;\n",
              "      box-shadow: 0px 1px 2px rgba(60, 64, 67, 0.3), 0px 1px 3px 1px rgba(60, 64, 67, 0.15);\n",
              "      fill: #174EA6;\n",
              "    }\n",
              "\n",
              "    [theme=dark] .colab-df-convert {\n",
              "      background-color: #3B4455;\n",
              "      fill: #D2E3FC;\n",
              "    }\n",
              "\n",
              "    [theme=dark] .colab-df-convert:hover {\n",
              "      background-color: #434B5C;\n",
              "      box-shadow: 0px 1px 3px 1px rgba(0, 0, 0, 0.15);\n",
              "      filter: drop-shadow(0px 1px 2px rgba(0, 0, 0, 0.3));\n",
              "      fill: #FFFFFF;\n",
              "    }\n",
              "  </style>\n",
              "\n",
              "      <script>\n",
              "        const buttonEl =\n",
              "          document.querySelector('#df-de544355-6430-4c8a-bfd8-e86b6f7245f0 button.colab-df-convert');\n",
              "        buttonEl.style.display =\n",
              "          google.colab.kernel.accessAllowed ? 'block' : 'none';\n",
              "\n",
              "        async function convertToInteractive(key) {\n",
              "          const element = document.querySelector('#df-de544355-6430-4c8a-bfd8-e86b6f7245f0');\n",
              "          const dataTable =\n",
              "            await google.colab.kernel.invokeFunction('convertToInteractive',\n",
              "                                                     [key], {});\n",
              "          if (!dataTable) return;\n",
              "\n",
              "          const docLinkHtml = 'Like what you see? Visit the ' +\n",
              "            '<a target=\"_blank\" href=https://colab.research.google.com/notebooks/data_table.ipynb>data table notebook</a>'\n",
              "            + ' to learn more about interactive tables.';\n",
              "          element.innerHTML = '';\n",
              "          dataTable['output_type'] = 'display_data';\n",
              "          await google.colab.output.renderOutput(dataTable, element);\n",
              "          const docLink = document.createElement('div');\n",
              "          docLink.innerHTML = docLinkHtml;\n",
              "          element.appendChild(docLink);\n",
              "        }\n",
              "      </script>\n",
              "    </div>\n",
              "  </div>\n",
              "  "
            ]
          },
          "metadata": {},
          "execution_count": 52
        }
      ]
    },
    {
      "cell_type": "code",
      "metadata": {
        "colab": {
          "base_uri": "https://localhost:8080/"
        },
        "id": "noNk1ZtSS5iW",
        "outputId": "7a815bf0-3835-4fac-de2b-1a043045f643"
      },
      "source": [
        "categorical_feature"
      ],
      "execution_count": 53,
      "outputs": [
        {
          "output_type": "execute_result",
          "data": {
            "text/plain": [
              "Index(['Item_Fat_Content', 'Item_Type', 'Outlet_Size', 'Outlet_Location_Type',\n",
              "       'Outlet_Type'],\n",
              "      dtype='object')"
            ]
          },
          "metadata": {},
          "execution_count": 53
        }
      ]
    },
    {
      "cell_type": "code",
      "metadata": {
        "colab": {
          "base_uri": "https://localhost:8080/"
        },
        "id": "Bek1Z4wtMaSZ",
        "outputId": "f2342d7e-b265-4904-a8d1-1a8b9c8da7b4"
      },
      "source": [
        "df[categorical_feature[2]].value_counts()"
      ],
      "execution_count": 54,
      "outputs": [
        {
          "output_type": "execute_result",
          "data": {
            "text/plain": [
              "Medium    5203\n",
              "Small     2388\n",
              "High       932\n",
              "Name: Outlet_Size, dtype: int64"
            ]
          },
          "metadata": {},
          "execution_count": 54
        }
      ]
    },
    {
      "cell_type": "code",
      "source": [
        "Outlet_size = pd.get_dummies(df[categorical_feature[2]] , drop_first=True)\n",
        "Outlet_size"
      ],
      "metadata": {
        "colab": {
          "base_uri": "https://localhost:8080/",
          "height": 424
        },
        "id": "qZmRh9mVkN7H",
        "outputId": "5554a6e3-f9a6-467d-9f10-26c6e43aabc9"
      },
      "execution_count": 55,
      "outputs": [
        {
          "output_type": "execute_result",
          "data": {
            "text/plain": [
              "      Medium  Small\n",
              "0          1      0\n",
              "1          1      0\n",
              "2          1      0\n",
              "3          1      0\n",
              "4          0      0\n",
              "...      ...    ...\n",
              "8518       0      0\n",
              "8519       1      0\n",
              "8520       0      1\n",
              "8521       1      0\n",
              "8522       0      1\n",
              "\n",
              "[8523 rows x 2 columns]"
            ],
            "text/html": [
              "\n",
              "  <div id=\"df-4f6785d7-6d9d-4d7b-b389-e5ef55683cd1\">\n",
              "    <div class=\"colab-df-container\">\n",
              "      <div>\n",
              "<style scoped>\n",
              "    .dataframe tbody tr th:only-of-type {\n",
              "        vertical-align: middle;\n",
              "    }\n",
              "\n",
              "    .dataframe tbody tr th {\n",
              "        vertical-align: top;\n",
              "    }\n",
              "\n",
              "    .dataframe thead th {\n",
              "        text-align: right;\n",
              "    }\n",
              "</style>\n",
              "<table border=\"1\" class=\"dataframe\">\n",
              "  <thead>\n",
              "    <tr style=\"text-align: right;\">\n",
              "      <th></th>\n",
              "      <th>Medium</th>\n",
              "      <th>Small</th>\n",
              "    </tr>\n",
              "  </thead>\n",
              "  <tbody>\n",
              "    <tr>\n",
              "      <th>0</th>\n",
              "      <td>1</td>\n",
              "      <td>0</td>\n",
              "    </tr>\n",
              "    <tr>\n",
              "      <th>1</th>\n",
              "      <td>1</td>\n",
              "      <td>0</td>\n",
              "    </tr>\n",
              "    <tr>\n",
              "      <th>2</th>\n",
              "      <td>1</td>\n",
              "      <td>0</td>\n",
              "    </tr>\n",
              "    <tr>\n",
              "      <th>3</th>\n",
              "      <td>1</td>\n",
              "      <td>0</td>\n",
              "    </tr>\n",
              "    <tr>\n",
              "      <th>4</th>\n",
              "      <td>0</td>\n",
              "      <td>0</td>\n",
              "    </tr>\n",
              "    <tr>\n",
              "      <th>...</th>\n",
              "      <td>...</td>\n",
              "      <td>...</td>\n",
              "    </tr>\n",
              "    <tr>\n",
              "      <th>8518</th>\n",
              "      <td>0</td>\n",
              "      <td>0</td>\n",
              "    </tr>\n",
              "    <tr>\n",
              "      <th>8519</th>\n",
              "      <td>1</td>\n",
              "      <td>0</td>\n",
              "    </tr>\n",
              "    <tr>\n",
              "      <th>8520</th>\n",
              "      <td>0</td>\n",
              "      <td>1</td>\n",
              "    </tr>\n",
              "    <tr>\n",
              "      <th>8521</th>\n",
              "      <td>1</td>\n",
              "      <td>0</td>\n",
              "    </tr>\n",
              "    <tr>\n",
              "      <th>8522</th>\n",
              "      <td>0</td>\n",
              "      <td>1</td>\n",
              "    </tr>\n",
              "  </tbody>\n",
              "</table>\n",
              "<p>8523 rows × 2 columns</p>\n",
              "</div>\n",
              "      <button class=\"colab-df-convert\" onclick=\"convertToInteractive('df-4f6785d7-6d9d-4d7b-b389-e5ef55683cd1')\"\n",
              "              title=\"Convert this dataframe to an interactive table.\"\n",
              "              style=\"display:none;\">\n",
              "        \n",
              "  <svg xmlns=\"http://www.w3.org/2000/svg\" height=\"24px\"viewBox=\"0 0 24 24\"\n",
              "       width=\"24px\">\n",
              "    <path d=\"M0 0h24v24H0V0z\" fill=\"none\"/>\n",
              "    <path d=\"M18.56 5.44l.94 2.06.94-2.06 2.06-.94-2.06-.94-.94-2.06-.94 2.06-2.06.94zm-11 1L8.5 8.5l.94-2.06 2.06-.94-2.06-.94L8.5 2.5l-.94 2.06-2.06.94zm10 10l.94 2.06.94-2.06 2.06-.94-2.06-.94-.94-2.06-.94 2.06-2.06.94z\"/><path d=\"M17.41 7.96l-1.37-1.37c-.4-.4-.92-.59-1.43-.59-.52 0-1.04.2-1.43.59L10.3 9.45l-7.72 7.72c-.78.78-.78 2.05 0 2.83L4 21.41c.39.39.9.59 1.41.59.51 0 1.02-.2 1.41-.59l7.78-7.78 2.81-2.81c.8-.78.8-2.07 0-2.86zM5.41 20L4 18.59l7.72-7.72 1.47 1.35L5.41 20z\"/>\n",
              "  </svg>\n",
              "      </button>\n",
              "      \n",
              "  <style>\n",
              "    .colab-df-container {\n",
              "      display:flex;\n",
              "      flex-wrap:wrap;\n",
              "      gap: 12px;\n",
              "    }\n",
              "\n",
              "    .colab-df-convert {\n",
              "      background-color: #E8F0FE;\n",
              "      border: none;\n",
              "      border-radius: 50%;\n",
              "      cursor: pointer;\n",
              "      display: none;\n",
              "      fill: #1967D2;\n",
              "      height: 32px;\n",
              "      padding: 0 0 0 0;\n",
              "      width: 32px;\n",
              "    }\n",
              "\n",
              "    .colab-df-convert:hover {\n",
              "      background-color: #E2EBFA;\n",
              "      box-shadow: 0px 1px 2px rgba(60, 64, 67, 0.3), 0px 1px 3px 1px rgba(60, 64, 67, 0.15);\n",
              "      fill: #174EA6;\n",
              "    }\n",
              "\n",
              "    [theme=dark] .colab-df-convert {\n",
              "      background-color: #3B4455;\n",
              "      fill: #D2E3FC;\n",
              "    }\n",
              "\n",
              "    [theme=dark] .colab-df-convert:hover {\n",
              "      background-color: #434B5C;\n",
              "      box-shadow: 0px 1px 3px 1px rgba(0, 0, 0, 0.15);\n",
              "      filter: drop-shadow(0px 1px 2px rgba(0, 0, 0, 0.3));\n",
              "      fill: #FFFFFF;\n",
              "    }\n",
              "  </style>\n",
              "\n",
              "      <script>\n",
              "        const buttonEl =\n",
              "          document.querySelector('#df-4f6785d7-6d9d-4d7b-b389-e5ef55683cd1 button.colab-df-convert');\n",
              "        buttonEl.style.display =\n",
              "          google.colab.kernel.accessAllowed ? 'block' : 'none';\n",
              "\n",
              "        async function convertToInteractive(key) {\n",
              "          const element = document.querySelector('#df-4f6785d7-6d9d-4d7b-b389-e5ef55683cd1');\n",
              "          const dataTable =\n",
              "            await google.colab.kernel.invokeFunction('convertToInteractive',\n",
              "                                                     [key], {});\n",
              "          if (!dataTable) return;\n",
              "\n",
              "          const docLinkHtml = 'Like what you see? Visit the ' +\n",
              "            '<a target=\"_blank\" href=https://colab.research.google.com/notebooks/data_table.ipynb>data table notebook</a>'\n",
              "            + ' to learn more about interactive tables.';\n",
              "          element.innerHTML = '';\n",
              "          dataTable['output_type'] = 'display_data';\n",
              "          await google.colab.output.renderOutput(dataTable, element);\n",
              "          const docLink = document.createElement('div');\n",
              "          docLink.innerHTML = docLinkHtml;\n",
              "          element.appendChild(docLink);\n",
              "        }\n",
              "      </script>\n",
              "    </div>\n",
              "  </div>\n",
              "  "
            ]
          },
          "metadata": {},
          "execution_count": 55
        }
      ]
    },
    {
      "cell_type": "code",
      "metadata": {
        "colab": {
          "base_uri": "https://localhost:8080/"
        },
        "id": "oLOwVTf7VowP",
        "outputId": "7de5b404-febe-489c-fcc0-10e4cba9b6aa"
      },
      "source": [
        "df[categorical_feature[3]].value_counts()"
      ],
      "execution_count": 57,
      "outputs": [
        {
          "output_type": "execute_result",
          "data": {
            "text/plain": [
              "Tier 3    3350\n",
              "Tier 2    2785\n",
              "Tier 1    2388\n",
              "Name: Outlet_Location_Type, dtype: int64"
            ]
          },
          "metadata": {},
          "execution_count": 57
        }
      ]
    },
    {
      "cell_type": "code",
      "metadata": {
        "colab": {
          "base_uri": "https://localhost:8080/",
          "height": 424
        },
        "id": "5O-5mrpfV-QH",
        "outputId": "fa06a562-6811-409e-f8fe-4d0e4e0d77b3"
      },
      "source": [
        "Outlet_Location_Type = pd.get_dummies(df[categorical_feature[3]] , drop_first=True)\n",
        "Outlet_Location_Type"
      ],
      "execution_count": 58,
      "outputs": [
        {
          "output_type": "execute_result",
          "data": {
            "text/plain": [
              "      Tier 2  Tier 3\n",
              "0          0       0\n",
              "1          0       1\n",
              "2          0       0\n",
              "3          0       1\n",
              "4          0       1\n",
              "...      ...     ...\n",
              "8518       0       1\n",
              "8519       1       0\n",
              "8520       1       0\n",
              "8521       0       1\n",
              "8522       0       0\n",
              "\n",
              "[8523 rows x 2 columns]"
            ],
            "text/html": [
              "\n",
              "  <div id=\"df-5d838778-5ffd-4fcc-abbc-65beef740d08\">\n",
              "    <div class=\"colab-df-container\">\n",
              "      <div>\n",
              "<style scoped>\n",
              "    .dataframe tbody tr th:only-of-type {\n",
              "        vertical-align: middle;\n",
              "    }\n",
              "\n",
              "    .dataframe tbody tr th {\n",
              "        vertical-align: top;\n",
              "    }\n",
              "\n",
              "    .dataframe thead th {\n",
              "        text-align: right;\n",
              "    }\n",
              "</style>\n",
              "<table border=\"1\" class=\"dataframe\">\n",
              "  <thead>\n",
              "    <tr style=\"text-align: right;\">\n",
              "      <th></th>\n",
              "      <th>Tier 2</th>\n",
              "      <th>Tier 3</th>\n",
              "    </tr>\n",
              "  </thead>\n",
              "  <tbody>\n",
              "    <tr>\n",
              "      <th>0</th>\n",
              "      <td>0</td>\n",
              "      <td>0</td>\n",
              "    </tr>\n",
              "    <tr>\n",
              "      <th>1</th>\n",
              "      <td>0</td>\n",
              "      <td>1</td>\n",
              "    </tr>\n",
              "    <tr>\n",
              "      <th>2</th>\n",
              "      <td>0</td>\n",
              "      <td>0</td>\n",
              "    </tr>\n",
              "    <tr>\n",
              "      <th>3</th>\n",
              "      <td>0</td>\n",
              "      <td>1</td>\n",
              "    </tr>\n",
              "    <tr>\n",
              "      <th>4</th>\n",
              "      <td>0</td>\n",
              "      <td>1</td>\n",
              "    </tr>\n",
              "    <tr>\n",
              "      <th>...</th>\n",
              "      <td>...</td>\n",
              "      <td>...</td>\n",
              "    </tr>\n",
              "    <tr>\n",
              "      <th>8518</th>\n",
              "      <td>0</td>\n",
              "      <td>1</td>\n",
              "    </tr>\n",
              "    <tr>\n",
              "      <th>8519</th>\n",
              "      <td>1</td>\n",
              "      <td>0</td>\n",
              "    </tr>\n",
              "    <tr>\n",
              "      <th>8520</th>\n",
              "      <td>1</td>\n",
              "      <td>0</td>\n",
              "    </tr>\n",
              "    <tr>\n",
              "      <th>8521</th>\n",
              "      <td>0</td>\n",
              "      <td>1</td>\n",
              "    </tr>\n",
              "    <tr>\n",
              "      <th>8522</th>\n",
              "      <td>0</td>\n",
              "      <td>0</td>\n",
              "    </tr>\n",
              "  </tbody>\n",
              "</table>\n",
              "<p>8523 rows × 2 columns</p>\n",
              "</div>\n",
              "      <button class=\"colab-df-convert\" onclick=\"convertToInteractive('df-5d838778-5ffd-4fcc-abbc-65beef740d08')\"\n",
              "              title=\"Convert this dataframe to an interactive table.\"\n",
              "              style=\"display:none;\">\n",
              "        \n",
              "  <svg xmlns=\"http://www.w3.org/2000/svg\" height=\"24px\"viewBox=\"0 0 24 24\"\n",
              "       width=\"24px\">\n",
              "    <path d=\"M0 0h24v24H0V0z\" fill=\"none\"/>\n",
              "    <path d=\"M18.56 5.44l.94 2.06.94-2.06 2.06-.94-2.06-.94-.94-2.06-.94 2.06-2.06.94zm-11 1L8.5 8.5l.94-2.06 2.06-.94-2.06-.94L8.5 2.5l-.94 2.06-2.06.94zm10 10l.94 2.06.94-2.06 2.06-.94-2.06-.94-.94-2.06-.94 2.06-2.06.94z\"/><path d=\"M17.41 7.96l-1.37-1.37c-.4-.4-.92-.59-1.43-.59-.52 0-1.04.2-1.43.59L10.3 9.45l-7.72 7.72c-.78.78-.78 2.05 0 2.83L4 21.41c.39.39.9.59 1.41.59.51 0 1.02-.2 1.41-.59l7.78-7.78 2.81-2.81c.8-.78.8-2.07 0-2.86zM5.41 20L4 18.59l7.72-7.72 1.47 1.35L5.41 20z\"/>\n",
              "  </svg>\n",
              "      </button>\n",
              "      \n",
              "  <style>\n",
              "    .colab-df-container {\n",
              "      display:flex;\n",
              "      flex-wrap:wrap;\n",
              "      gap: 12px;\n",
              "    }\n",
              "\n",
              "    .colab-df-convert {\n",
              "      background-color: #E8F0FE;\n",
              "      border: none;\n",
              "      border-radius: 50%;\n",
              "      cursor: pointer;\n",
              "      display: none;\n",
              "      fill: #1967D2;\n",
              "      height: 32px;\n",
              "      padding: 0 0 0 0;\n",
              "      width: 32px;\n",
              "    }\n",
              "\n",
              "    .colab-df-convert:hover {\n",
              "      background-color: #E2EBFA;\n",
              "      box-shadow: 0px 1px 2px rgba(60, 64, 67, 0.3), 0px 1px 3px 1px rgba(60, 64, 67, 0.15);\n",
              "      fill: #174EA6;\n",
              "    }\n",
              "\n",
              "    [theme=dark] .colab-df-convert {\n",
              "      background-color: #3B4455;\n",
              "      fill: #D2E3FC;\n",
              "    }\n",
              "\n",
              "    [theme=dark] .colab-df-convert:hover {\n",
              "      background-color: #434B5C;\n",
              "      box-shadow: 0px 1px 3px 1px rgba(0, 0, 0, 0.15);\n",
              "      filter: drop-shadow(0px 1px 2px rgba(0, 0, 0, 0.3));\n",
              "      fill: #FFFFFF;\n",
              "    }\n",
              "  </style>\n",
              "\n",
              "      <script>\n",
              "        const buttonEl =\n",
              "          document.querySelector('#df-5d838778-5ffd-4fcc-abbc-65beef740d08 button.colab-df-convert');\n",
              "        buttonEl.style.display =\n",
              "          google.colab.kernel.accessAllowed ? 'block' : 'none';\n",
              "\n",
              "        async function convertToInteractive(key) {\n",
              "          const element = document.querySelector('#df-5d838778-5ffd-4fcc-abbc-65beef740d08');\n",
              "          const dataTable =\n",
              "            await google.colab.kernel.invokeFunction('convertToInteractive',\n",
              "                                                     [key], {});\n",
              "          if (!dataTable) return;\n",
              "\n",
              "          const docLinkHtml = 'Like what you see? Visit the ' +\n",
              "            '<a target=\"_blank\" href=https://colab.research.google.com/notebooks/data_table.ipynb>data table notebook</a>'\n",
              "            + ' to learn more about interactive tables.';\n",
              "          element.innerHTML = '';\n",
              "          dataTable['output_type'] = 'display_data';\n",
              "          await google.colab.output.renderOutput(dataTable, element);\n",
              "          const docLink = document.createElement('div');\n",
              "          docLink.innerHTML = docLinkHtml;\n",
              "          element.appendChild(docLink);\n",
              "        }\n",
              "      </script>\n",
              "    </div>\n",
              "  </div>\n",
              "  "
            ]
          },
          "metadata": {},
          "execution_count": 58
        }
      ]
    },
    {
      "cell_type": "code",
      "metadata": {
        "id": "_nDwTN9KWeb-",
        "colab": {
          "base_uri": "https://localhost:8080/"
        },
        "outputId": "578f3d55-1dc2-4496-97f2-234b8fecf998"
      },
      "source": [
        "df[categorical_feature[4]].value_counts()"
      ],
      "execution_count": 59,
      "outputs": [
        {
          "output_type": "execute_result",
          "data": {
            "text/plain": [
              "Supermarket Type1    5577\n",
              "Grocery Store        1083\n",
              "Supermarket Type3     935\n",
              "Supermarket Type2     928\n",
              "Name: Outlet_Type, dtype: int64"
            ]
          },
          "metadata": {},
          "execution_count": 59
        }
      ]
    },
    {
      "cell_type": "code",
      "metadata": {
        "colab": {
          "base_uri": "https://localhost:8080/",
          "height": 424
        },
        "id": "nyqEXxxW6u3G",
        "outputId": "e99210af-29e5-4b58-d54b-2c7234e2c5d7"
      },
      "source": [
        "Outlet_Type = pd.get_dummies(df[categorical_feature[4]] , drop_first=True)\n",
        "Outlet_Type"
      ],
      "execution_count": 60,
      "outputs": [
        {
          "output_type": "execute_result",
          "data": {
            "text/plain": [
              "      Supermarket Type1  Supermarket Type2  Supermarket Type3\n",
              "0                     1                  0                  0\n",
              "1                     0                  1                  0\n",
              "2                     1                  0                  0\n",
              "3                     0                  0                  0\n",
              "4                     1                  0                  0\n",
              "...                 ...                ...                ...\n",
              "8518                  1                  0                  0\n",
              "8519                  1                  0                  0\n",
              "8520                  1                  0                  0\n",
              "8521                  0                  1                  0\n",
              "8522                  1                  0                  0\n",
              "\n",
              "[8523 rows x 3 columns]"
            ],
            "text/html": [
              "\n",
              "  <div id=\"df-569eb94e-9e68-4856-8060-407525eb6d2e\">\n",
              "    <div class=\"colab-df-container\">\n",
              "      <div>\n",
              "<style scoped>\n",
              "    .dataframe tbody tr th:only-of-type {\n",
              "        vertical-align: middle;\n",
              "    }\n",
              "\n",
              "    .dataframe tbody tr th {\n",
              "        vertical-align: top;\n",
              "    }\n",
              "\n",
              "    .dataframe thead th {\n",
              "        text-align: right;\n",
              "    }\n",
              "</style>\n",
              "<table border=\"1\" class=\"dataframe\">\n",
              "  <thead>\n",
              "    <tr style=\"text-align: right;\">\n",
              "      <th></th>\n",
              "      <th>Supermarket Type1</th>\n",
              "      <th>Supermarket Type2</th>\n",
              "      <th>Supermarket Type3</th>\n",
              "    </tr>\n",
              "  </thead>\n",
              "  <tbody>\n",
              "    <tr>\n",
              "      <th>0</th>\n",
              "      <td>1</td>\n",
              "      <td>0</td>\n",
              "      <td>0</td>\n",
              "    </tr>\n",
              "    <tr>\n",
              "      <th>1</th>\n",
              "      <td>0</td>\n",
              "      <td>1</td>\n",
              "      <td>0</td>\n",
              "    </tr>\n",
              "    <tr>\n",
              "      <th>2</th>\n",
              "      <td>1</td>\n",
              "      <td>0</td>\n",
              "      <td>0</td>\n",
              "    </tr>\n",
              "    <tr>\n",
              "      <th>3</th>\n",
              "      <td>0</td>\n",
              "      <td>0</td>\n",
              "      <td>0</td>\n",
              "    </tr>\n",
              "    <tr>\n",
              "      <th>4</th>\n",
              "      <td>1</td>\n",
              "      <td>0</td>\n",
              "      <td>0</td>\n",
              "    </tr>\n",
              "    <tr>\n",
              "      <th>...</th>\n",
              "      <td>...</td>\n",
              "      <td>...</td>\n",
              "      <td>...</td>\n",
              "    </tr>\n",
              "    <tr>\n",
              "      <th>8518</th>\n",
              "      <td>1</td>\n",
              "      <td>0</td>\n",
              "      <td>0</td>\n",
              "    </tr>\n",
              "    <tr>\n",
              "      <th>8519</th>\n",
              "      <td>1</td>\n",
              "      <td>0</td>\n",
              "      <td>0</td>\n",
              "    </tr>\n",
              "    <tr>\n",
              "      <th>8520</th>\n",
              "      <td>1</td>\n",
              "      <td>0</td>\n",
              "      <td>0</td>\n",
              "    </tr>\n",
              "    <tr>\n",
              "      <th>8521</th>\n",
              "      <td>0</td>\n",
              "      <td>1</td>\n",
              "      <td>0</td>\n",
              "    </tr>\n",
              "    <tr>\n",
              "      <th>8522</th>\n",
              "      <td>1</td>\n",
              "      <td>0</td>\n",
              "      <td>0</td>\n",
              "    </tr>\n",
              "  </tbody>\n",
              "</table>\n",
              "<p>8523 rows × 3 columns</p>\n",
              "</div>\n",
              "      <button class=\"colab-df-convert\" onclick=\"convertToInteractive('df-569eb94e-9e68-4856-8060-407525eb6d2e')\"\n",
              "              title=\"Convert this dataframe to an interactive table.\"\n",
              "              style=\"display:none;\">\n",
              "        \n",
              "  <svg xmlns=\"http://www.w3.org/2000/svg\" height=\"24px\"viewBox=\"0 0 24 24\"\n",
              "       width=\"24px\">\n",
              "    <path d=\"M0 0h24v24H0V0z\" fill=\"none\"/>\n",
              "    <path d=\"M18.56 5.44l.94 2.06.94-2.06 2.06-.94-2.06-.94-.94-2.06-.94 2.06-2.06.94zm-11 1L8.5 8.5l.94-2.06 2.06-.94-2.06-.94L8.5 2.5l-.94 2.06-2.06.94zm10 10l.94 2.06.94-2.06 2.06-.94-2.06-.94-.94-2.06-.94 2.06-2.06.94z\"/><path d=\"M17.41 7.96l-1.37-1.37c-.4-.4-.92-.59-1.43-.59-.52 0-1.04.2-1.43.59L10.3 9.45l-7.72 7.72c-.78.78-.78 2.05 0 2.83L4 21.41c.39.39.9.59 1.41.59.51 0 1.02-.2 1.41-.59l7.78-7.78 2.81-2.81c.8-.78.8-2.07 0-2.86zM5.41 20L4 18.59l7.72-7.72 1.47 1.35L5.41 20z\"/>\n",
              "  </svg>\n",
              "      </button>\n",
              "      \n",
              "  <style>\n",
              "    .colab-df-container {\n",
              "      display:flex;\n",
              "      flex-wrap:wrap;\n",
              "      gap: 12px;\n",
              "    }\n",
              "\n",
              "    .colab-df-convert {\n",
              "      background-color: #E8F0FE;\n",
              "      border: none;\n",
              "      border-radius: 50%;\n",
              "      cursor: pointer;\n",
              "      display: none;\n",
              "      fill: #1967D2;\n",
              "      height: 32px;\n",
              "      padding: 0 0 0 0;\n",
              "      width: 32px;\n",
              "    }\n",
              "\n",
              "    .colab-df-convert:hover {\n",
              "      background-color: #E2EBFA;\n",
              "      box-shadow: 0px 1px 2px rgba(60, 64, 67, 0.3), 0px 1px 3px 1px rgba(60, 64, 67, 0.15);\n",
              "      fill: #174EA6;\n",
              "    }\n",
              "\n",
              "    [theme=dark] .colab-df-convert {\n",
              "      background-color: #3B4455;\n",
              "      fill: #D2E3FC;\n",
              "    }\n",
              "\n",
              "    [theme=dark] .colab-df-convert:hover {\n",
              "      background-color: #434B5C;\n",
              "      box-shadow: 0px 1px 3px 1px rgba(0, 0, 0, 0.15);\n",
              "      filter: drop-shadow(0px 1px 2px rgba(0, 0, 0, 0.3));\n",
              "      fill: #FFFFFF;\n",
              "    }\n",
              "  </style>\n",
              "\n",
              "      <script>\n",
              "        const buttonEl =\n",
              "          document.querySelector('#df-569eb94e-9e68-4856-8060-407525eb6d2e button.colab-df-convert');\n",
              "        buttonEl.style.display =\n",
              "          google.colab.kernel.accessAllowed ? 'block' : 'none';\n",
              "\n",
              "        async function convertToInteractive(key) {\n",
              "          const element = document.querySelector('#df-569eb94e-9e68-4856-8060-407525eb6d2e');\n",
              "          const dataTable =\n",
              "            await google.colab.kernel.invokeFunction('convertToInteractive',\n",
              "                                                     [key], {});\n",
              "          if (!dataTable) return;\n",
              "\n",
              "          const docLinkHtml = 'Like what you see? Visit the ' +\n",
              "            '<a target=\"_blank\" href=https://colab.research.google.com/notebooks/data_table.ipynb>data table notebook</a>'\n",
              "            + ' to learn more about interactive tables.';\n",
              "          element.innerHTML = '';\n",
              "          dataTable['output_type'] = 'display_data';\n",
              "          await google.colab.output.renderOutput(dataTable, element);\n",
              "          const docLink = document.createElement('div');\n",
              "          docLink.innerHTML = docLinkHtml;\n",
              "          element.appendChild(docLink);\n",
              "        }\n",
              "      </script>\n",
              "    </div>\n",
              "  </div>\n",
              "  "
            ]
          },
          "metadata": {},
          "execution_count": 60
        }
      ]
    },
    {
      "cell_type": "code",
      "metadata": {
        "colab": {
          "base_uri": "https://localhost:8080/"
        },
        "id": "WAATfH6a-5ta",
        "outputId": "18cb2ed7-a10c-4eab-a081-7ae3fd90a7a1"
      },
      "source": [
        "numerical_feature"
      ],
      "execution_count": 61,
      "outputs": [
        {
          "output_type": "execute_result",
          "data": {
            "text/plain": [
              "Index(['Item_Weight', 'Item_Visibility', 'Item_MRP',\n",
              "       'Outlet_Establishment_Year', 'Item_Outlet_Sales'],\n",
              "      dtype='object')"
            ]
          },
          "metadata": {},
          "execution_count": 61
        }
      ]
    },
    {
      "cell_type": "code",
      "metadata": {
        "colab": {
          "base_uri": "https://localhost:8080/",
          "height": 424
        },
        "id": "k6FteOrW-D6m",
        "outputId": "9a84e25c-f238-400e-a211-ceffe50ce320"
      },
      "source": [
        "num_feature = df.reindex(columns = ['Item_MRP', 'Item_Outlet_Sales', 'Item_Weight', 'Item_Visibility'])\n",
        "num_feature"
      ],
      "execution_count": 62,
      "outputs": [
        {
          "output_type": "execute_result",
          "data": {
            "text/plain": [
              "      Item_MRP  Item_Outlet_Sales  Item_Weight  Item_Visibility\n",
              "0     249.8092          3735.1380        9.300         0.016047\n",
              "1      48.2692           443.4228        5.920         0.019278\n",
              "2     141.6180          2097.2700       17.500         0.016760\n",
              "3     182.0950           732.3800       19.200         0.000000\n",
              "4      53.8614           994.7052        8.930         0.000000\n",
              "...        ...                ...          ...              ...\n",
              "8518  214.5218          2778.3834        6.865         0.056783\n",
              "8519  108.1570           549.2850        8.380         0.046982\n",
              "8520   85.1224          1193.1136       10.600         0.035186\n",
              "8521  103.1332          1845.5976        7.210         0.145221\n",
              "8522   75.4670           765.6700       14.800         0.044878\n",
              "\n",
              "[8523 rows x 4 columns]"
            ],
            "text/html": [
              "\n",
              "  <div id=\"df-81607043-8e17-4548-9c07-9e3ac4feff74\">\n",
              "    <div class=\"colab-df-container\">\n",
              "      <div>\n",
              "<style scoped>\n",
              "    .dataframe tbody tr th:only-of-type {\n",
              "        vertical-align: middle;\n",
              "    }\n",
              "\n",
              "    .dataframe tbody tr th {\n",
              "        vertical-align: top;\n",
              "    }\n",
              "\n",
              "    .dataframe thead th {\n",
              "        text-align: right;\n",
              "    }\n",
              "</style>\n",
              "<table border=\"1\" class=\"dataframe\">\n",
              "  <thead>\n",
              "    <tr style=\"text-align: right;\">\n",
              "      <th></th>\n",
              "      <th>Item_MRP</th>\n",
              "      <th>Item_Outlet_Sales</th>\n",
              "      <th>Item_Weight</th>\n",
              "      <th>Item_Visibility</th>\n",
              "    </tr>\n",
              "  </thead>\n",
              "  <tbody>\n",
              "    <tr>\n",
              "      <th>0</th>\n",
              "      <td>249.8092</td>\n",
              "      <td>3735.1380</td>\n",
              "      <td>9.300</td>\n",
              "      <td>0.016047</td>\n",
              "    </tr>\n",
              "    <tr>\n",
              "      <th>1</th>\n",
              "      <td>48.2692</td>\n",
              "      <td>443.4228</td>\n",
              "      <td>5.920</td>\n",
              "      <td>0.019278</td>\n",
              "    </tr>\n",
              "    <tr>\n",
              "      <th>2</th>\n",
              "      <td>141.6180</td>\n",
              "      <td>2097.2700</td>\n",
              "      <td>17.500</td>\n",
              "      <td>0.016760</td>\n",
              "    </tr>\n",
              "    <tr>\n",
              "      <th>3</th>\n",
              "      <td>182.0950</td>\n",
              "      <td>732.3800</td>\n",
              "      <td>19.200</td>\n",
              "      <td>0.000000</td>\n",
              "    </tr>\n",
              "    <tr>\n",
              "      <th>4</th>\n",
              "      <td>53.8614</td>\n",
              "      <td>994.7052</td>\n",
              "      <td>8.930</td>\n",
              "      <td>0.000000</td>\n",
              "    </tr>\n",
              "    <tr>\n",
              "      <th>...</th>\n",
              "      <td>...</td>\n",
              "      <td>...</td>\n",
              "      <td>...</td>\n",
              "      <td>...</td>\n",
              "    </tr>\n",
              "    <tr>\n",
              "      <th>8518</th>\n",
              "      <td>214.5218</td>\n",
              "      <td>2778.3834</td>\n",
              "      <td>6.865</td>\n",
              "      <td>0.056783</td>\n",
              "    </tr>\n",
              "    <tr>\n",
              "      <th>8519</th>\n",
              "      <td>108.1570</td>\n",
              "      <td>549.2850</td>\n",
              "      <td>8.380</td>\n",
              "      <td>0.046982</td>\n",
              "    </tr>\n",
              "    <tr>\n",
              "      <th>8520</th>\n",
              "      <td>85.1224</td>\n",
              "      <td>1193.1136</td>\n",
              "      <td>10.600</td>\n",
              "      <td>0.035186</td>\n",
              "    </tr>\n",
              "    <tr>\n",
              "      <th>8521</th>\n",
              "      <td>103.1332</td>\n",
              "      <td>1845.5976</td>\n",
              "      <td>7.210</td>\n",
              "      <td>0.145221</td>\n",
              "    </tr>\n",
              "    <tr>\n",
              "      <th>8522</th>\n",
              "      <td>75.4670</td>\n",
              "      <td>765.6700</td>\n",
              "      <td>14.800</td>\n",
              "      <td>0.044878</td>\n",
              "    </tr>\n",
              "  </tbody>\n",
              "</table>\n",
              "<p>8523 rows × 4 columns</p>\n",
              "</div>\n",
              "      <button class=\"colab-df-convert\" onclick=\"convertToInteractive('df-81607043-8e17-4548-9c07-9e3ac4feff74')\"\n",
              "              title=\"Convert this dataframe to an interactive table.\"\n",
              "              style=\"display:none;\">\n",
              "        \n",
              "  <svg xmlns=\"http://www.w3.org/2000/svg\" height=\"24px\"viewBox=\"0 0 24 24\"\n",
              "       width=\"24px\">\n",
              "    <path d=\"M0 0h24v24H0V0z\" fill=\"none\"/>\n",
              "    <path d=\"M18.56 5.44l.94 2.06.94-2.06 2.06-.94-2.06-.94-.94-2.06-.94 2.06-2.06.94zm-11 1L8.5 8.5l.94-2.06 2.06-.94-2.06-.94L8.5 2.5l-.94 2.06-2.06.94zm10 10l.94 2.06.94-2.06 2.06-.94-2.06-.94-.94-2.06-.94 2.06-2.06.94z\"/><path d=\"M17.41 7.96l-1.37-1.37c-.4-.4-.92-.59-1.43-.59-.52 0-1.04.2-1.43.59L10.3 9.45l-7.72 7.72c-.78.78-.78 2.05 0 2.83L4 21.41c.39.39.9.59 1.41.59.51 0 1.02-.2 1.41-.59l7.78-7.78 2.81-2.81c.8-.78.8-2.07 0-2.86zM5.41 20L4 18.59l7.72-7.72 1.47 1.35L5.41 20z\"/>\n",
              "  </svg>\n",
              "      </button>\n",
              "      \n",
              "  <style>\n",
              "    .colab-df-container {\n",
              "      display:flex;\n",
              "      flex-wrap:wrap;\n",
              "      gap: 12px;\n",
              "    }\n",
              "\n",
              "    .colab-df-convert {\n",
              "      background-color: #E8F0FE;\n",
              "      border: none;\n",
              "      border-radius: 50%;\n",
              "      cursor: pointer;\n",
              "      display: none;\n",
              "      fill: #1967D2;\n",
              "      height: 32px;\n",
              "      padding: 0 0 0 0;\n",
              "      width: 32px;\n",
              "    }\n",
              "\n",
              "    .colab-df-convert:hover {\n",
              "      background-color: #E2EBFA;\n",
              "      box-shadow: 0px 1px 2px rgba(60, 64, 67, 0.3), 0px 1px 3px 1px rgba(60, 64, 67, 0.15);\n",
              "      fill: #174EA6;\n",
              "    }\n",
              "\n",
              "    [theme=dark] .colab-df-convert {\n",
              "      background-color: #3B4455;\n",
              "      fill: #D2E3FC;\n",
              "    }\n",
              "\n",
              "    [theme=dark] .colab-df-convert:hover {\n",
              "      background-color: #434B5C;\n",
              "      box-shadow: 0px 1px 3px 1px rgba(0, 0, 0, 0.15);\n",
              "      filter: drop-shadow(0px 1px 2px rgba(0, 0, 0, 0.3));\n",
              "      fill: #FFFFFF;\n",
              "    }\n",
              "  </style>\n",
              "\n",
              "      <script>\n",
              "        const buttonEl =\n",
              "          document.querySelector('#df-81607043-8e17-4548-9c07-9e3ac4feff74 button.colab-df-convert');\n",
              "        buttonEl.style.display =\n",
              "          google.colab.kernel.accessAllowed ? 'block' : 'none';\n",
              "\n",
              "        async function convertToInteractive(key) {\n",
              "          const element = document.querySelector('#df-81607043-8e17-4548-9c07-9e3ac4feff74');\n",
              "          const dataTable =\n",
              "            await google.colab.kernel.invokeFunction('convertToInteractive',\n",
              "                                                     [key], {});\n",
              "          if (!dataTable) return;\n",
              "\n",
              "          const docLinkHtml = 'Like what you see? Visit the ' +\n",
              "            '<a target=\"_blank\" href=https://colab.research.google.com/notebooks/data_table.ipynb>data table notebook</a>'\n",
              "            + ' to learn more about interactive tables.';\n",
              "          element.innerHTML = '';\n",
              "          dataTable['output_type'] = 'display_data';\n",
              "          await google.colab.output.renderOutput(dataTable, element);\n",
              "          const docLink = document.createElement('div');\n",
              "          docLink.innerHTML = docLinkHtml;\n",
              "          element.appendChild(docLink);\n",
              "        }\n",
              "      </script>\n",
              "    </div>\n",
              "  </div>\n",
              "  "
            ]
          },
          "metadata": {},
          "execution_count": 62
        }
      ]
    },
    {
      "cell_type": "code",
      "metadata": {
        "colab": {
          "base_uri": "https://localhost:8080/",
          "height": 505
        },
        "id": "P2DjkPh58S3k",
        "outputId": "ae62dd50-4205-4f97-e1f3-f4586dbcf208"
      },
      "source": [
        "data = pd.concat([Item_Fat_Content , Item_type , Outlet_size , Outlet_Location_Type , Outlet_Type , df[numerical_feature]] , axis = 1)\n",
        "data"
      ],
      "execution_count": 63,
      "outputs": [
        {
          "output_type": "execute_result",
          "data": {
            "text/plain": [
              "      Low Fat  Regular  low fat  reg  Breads  Breakfast  Canned  Dairy  \\\n",
              "0           1        0        0    0       0          0       0      1   \n",
              "1           0        1        0    0       0          0       0      0   \n",
              "2           1        0        0    0       0          0       0      0   \n",
              "3           0        1        0    0       0          0       0      0   \n",
              "4           1        0        0    0       0          0       0      0   \n",
              "...       ...      ...      ...  ...     ...        ...     ...    ...   \n",
              "8518        1        0        0    0       0          0       0      0   \n",
              "8519        0        1        0    0       0          0       0      0   \n",
              "8520        1        0        0    0       0          0       0      0   \n",
              "8521        0        1        0    0       0          0       0      0   \n",
              "8522        1        0        0    0       0          0       0      0   \n",
              "\n",
              "      Frozen Foods  Fruits and Vegetables  ...  Tier 2  Tier 3  \\\n",
              "0                0                      0  ...       0       0   \n",
              "1                0                      0  ...       0       1   \n",
              "2                0                      0  ...       0       0   \n",
              "3                0                      1  ...       0       1   \n",
              "4                0                      0  ...       0       1   \n",
              "...            ...                    ...  ...     ...     ...   \n",
              "8518             0                      0  ...       0       1   \n",
              "8519             0                      0  ...       1       0   \n",
              "8520             0                      0  ...       1       0   \n",
              "8521             0                      0  ...       0       1   \n",
              "8522             0                      0  ...       0       0   \n",
              "\n",
              "      Supermarket Type1  Supermarket Type2  Supermarket Type3  Item_Weight  \\\n",
              "0                     1                  0                  0        9.300   \n",
              "1                     0                  1                  0        5.920   \n",
              "2                     1                  0                  0       17.500   \n",
              "3                     0                  0                  0       19.200   \n",
              "4                     1                  0                  0        8.930   \n",
              "...                 ...                ...                ...          ...   \n",
              "8518                  1                  0                  0        6.865   \n",
              "8519                  1                  0                  0        8.380   \n",
              "8520                  1                  0                  0       10.600   \n",
              "8521                  0                  1                  0        7.210   \n",
              "8522                  1                  0                  0       14.800   \n",
              "\n",
              "      Item_Visibility  Item_MRP  Outlet_Establishment_Year  Item_Outlet_Sales  \n",
              "0            0.016047  249.8092                       1999          3735.1380  \n",
              "1            0.019278   48.2692                       2009           443.4228  \n",
              "2            0.016760  141.6180                       1999          2097.2700  \n",
              "3            0.000000  182.0950                       1998           732.3800  \n",
              "4            0.000000   53.8614                       1987           994.7052  \n",
              "...               ...       ...                        ...                ...  \n",
              "8518         0.056783  214.5218                       1987          2778.3834  \n",
              "8519         0.046982  108.1570                       2002           549.2850  \n",
              "8520         0.035186   85.1224                       2004          1193.1136  \n",
              "8521         0.145221  103.1332                       2009          1845.5976  \n",
              "8522         0.044878   75.4670                       1997           765.6700  \n",
              "\n",
              "[8523 rows x 31 columns]"
            ],
            "text/html": [
              "\n",
              "  <div id=\"df-10c19c39-770e-4b59-883b-7d46f9b3d0a4\">\n",
              "    <div class=\"colab-df-container\">\n",
              "      <div>\n",
              "<style scoped>\n",
              "    .dataframe tbody tr th:only-of-type {\n",
              "        vertical-align: middle;\n",
              "    }\n",
              "\n",
              "    .dataframe tbody tr th {\n",
              "        vertical-align: top;\n",
              "    }\n",
              "\n",
              "    .dataframe thead th {\n",
              "        text-align: right;\n",
              "    }\n",
              "</style>\n",
              "<table border=\"1\" class=\"dataframe\">\n",
              "  <thead>\n",
              "    <tr style=\"text-align: right;\">\n",
              "      <th></th>\n",
              "      <th>Low Fat</th>\n",
              "      <th>Regular</th>\n",
              "      <th>low fat</th>\n",
              "      <th>reg</th>\n",
              "      <th>Breads</th>\n",
              "      <th>Breakfast</th>\n",
              "      <th>Canned</th>\n",
              "      <th>Dairy</th>\n",
              "      <th>Frozen Foods</th>\n",
              "      <th>Fruits and Vegetables</th>\n",
              "      <th>...</th>\n",
              "      <th>Tier 2</th>\n",
              "      <th>Tier 3</th>\n",
              "      <th>Supermarket Type1</th>\n",
              "      <th>Supermarket Type2</th>\n",
              "      <th>Supermarket Type3</th>\n",
              "      <th>Item_Weight</th>\n",
              "      <th>Item_Visibility</th>\n",
              "      <th>Item_MRP</th>\n",
              "      <th>Outlet_Establishment_Year</th>\n",
              "      <th>Item_Outlet_Sales</th>\n",
              "    </tr>\n",
              "  </thead>\n",
              "  <tbody>\n",
              "    <tr>\n",
              "      <th>0</th>\n",
              "      <td>1</td>\n",
              "      <td>0</td>\n",
              "      <td>0</td>\n",
              "      <td>0</td>\n",
              "      <td>0</td>\n",
              "      <td>0</td>\n",
              "      <td>0</td>\n",
              "      <td>1</td>\n",
              "      <td>0</td>\n",
              "      <td>0</td>\n",
              "      <td>...</td>\n",
              "      <td>0</td>\n",
              "      <td>0</td>\n",
              "      <td>1</td>\n",
              "      <td>0</td>\n",
              "      <td>0</td>\n",
              "      <td>9.300</td>\n",
              "      <td>0.016047</td>\n",
              "      <td>249.8092</td>\n",
              "      <td>1999</td>\n",
              "      <td>3735.1380</td>\n",
              "    </tr>\n",
              "    <tr>\n",
              "      <th>1</th>\n",
              "      <td>0</td>\n",
              "      <td>1</td>\n",
              "      <td>0</td>\n",
              "      <td>0</td>\n",
              "      <td>0</td>\n",
              "      <td>0</td>\n",
              "      <td>0</td>\n",
              "      <td>0</td>\n",
              "      <td>0</td>\n",
              "      <td>0</td>\n",
              "      <td>...</td>\n",
              "      <td>0</td>\n",
              "      <td>1</td>\n",
              "      <td>0</td>\n",
              "      <td>1</td>\n",
              "      <td>0</td>\n",
              "      <td>5.920</td>\n",
              "      <td>0.019278</td>\n",
              "      <td>48.2692</td>\n",
              "      <td>2009</td>\n",
              "      <td>443.4228</td>\n",
              "    </tr>\n",
              "    <tr>\n",
              "      <th>2</th>\n",
              "      <td>1</td>\n",
              "      <td>0</td>\n",
              "      <td>0</td>\n",
              "      <td>0</td>\n",
              "      <td>0</td>\n",
              "      <td>0</td>\n",
              "      <td>0</td>\n",
              "      <td>0</td>\n",
              "      <td>0</td>\n",
              "      <td>0</td>\n",
              "      <td>...</td>\n",
              "      <td>0</td>\n",
              "      <td>0</td>\n",
              "      <td>1</td>\n",
              "      <td>0</td>\n",
              "      <td>0</td>\n",
              "      <td>17.500</td>\n",
              "      <td>0.016760</td>\n",
              "      <td>141.6180</td>\n",
              "      <td>1999</td>\n",
              "      <td>2097.2700</td>\n",
              "    </tr>\n",
              "    <tr>\n",
              "      <th>3</th>\n",
              "      <td>0</td>\n",
              "      <td>1</td>\n",
              "      <td>0</td>\n",
              "      <td>0</td>\n",
              "      <td>0</td>\n",
              "      <td>0</td>\n",
              "      <td>0</td>\n",
              "      <td>0</td>\n",
              "      <td>0</td>\n",
              "      <td>1</td>\n",
              "      <td>...</td>\n",
              "      <td>0</td>\n",
              "      <td>1</td>\n",
              "      <td>0</td>\n",
              "      <td>0</td>\n",
              "      <td>0</td>\n",
              "      <td>19.200</td>\n",
              "      <td>0.000000</td>\n",
              "      <td>182.0950</td>\n",
              "      <td>1998</td>\n",
              "      <td>732.3800</td>\n",
              "    </tr>\n",
              "    <tr>\n",
              "      <th>4</th>\n",
              "      <td>1</td>\n",
              "      <td>0</td>\n",
              "      <td>0</td>\n",
              "      <td>0</td>\n",
              "      <td>0</td>\n",
              "      <td>0</td>\n",
              "      <td>0</td>\n",
              "      <td>0</td>\n",
              "      <td>0</td>\n",
              "      <td>0</td>\n",
              "      <td>...</td>\n",
              "      <td>0</td>\n",
              "      <td>1</td>\n",
              "      <td>1</td>\n",
              "      <td>0</td>\n",
              "      <td>0</td>\n",
              "      <td>8.930</td>\n",
              "      <td>0.000000</td>\n",
              "      <td>53.8614</td>\n",
              "      <td>1987</td>\n",
              "      <td>994.7052</td>\n",
              "    </tr>\n",
              "    <tr>\n",
              "      <th>...</th>\n",
              "      <td>...</td>\n",
              "      <td>...</td>\n",
              "      <td>...</td>\n",
              "      <td>...</td>\n",
              "      <td>...</td>\n",
              "      <td>...</td>\n",
              "      <td>...</td>\n",
              "      <td>...</td>\n",
              "      <td>...</td>\n",
              "      <td>...</td>\n",
              "      <td>...</td>\n",
              "      <td>...</td>\n",
              "      <td>...</td>\n",
              "      <td>...</td>\n",
              "      <td>...</td>\n",
              "      <td>...</td>\n",
              "      <td>...</td>\n",
              "      <td>...</td>\n",
              "      <td>...</td>\n",
              "      <td>...</td>\n",
              "      <td>...</td>\n",
              "    </tr>\n",
              "    <tr>\n",
              "      <th>8518</th>\n",
              "      <td>1</td>\n",
              "      <td>0</td>\n",
              "      <td>0</td>\n",
              "      <td>0</td>\n",
              "      <td>0</td>\n",
              "      <td>0</td>\n",
              "      <td>0</td>\n",
              "      <td>0</td>\n",
              "      <td>0</td>\n",
              "      <td>0</td>\n",
              "      <td>...</td>\n",
              "      <td>0</td>\n",
              "      <td>1</td>\n",
              "      <td>1</td>\n",
              "      <td>0</td>\n",
              "      <td>0</td>\n",
              "      <td>6.865</td>\n",
              "      <td>0.056783</td>\n",
              "      <td>214.5218</td>\n",
              "      <td>1987</td>\n",
              "      <td>2778.3834</td>\n",
              "    </tr>\n",
              "    <tr>\n",
              "      <th>8519</th>\n",
              "      <td>0</td>\n",
              "      <td>1</td>\n",
              "      <td>0</td>\n",
              "      <td>0</td>\n",
              "      <td>0</td>\n",
              "      <td>0</td>\n",
              "      <td>0</td>\n",
              "      <td>0</td>\n",
              "      <td>0</td>\n",
              "      <td>0</td>\n",
              "      <td>...</td>\n",
              "      <td>1</td>\n",
              "      <td>0</td>\n",
              "      <td>1</td>\n",
              "      <td>0</td>\n",
              "      <td>0</td>\n",
              "      <td>8.380</td>\n",
              "      <td>0.046982</td>\n",
              "      <td>108.1570</td>\n",
              "      <td>2002</td>\n",
              "      <td>549.2850</td>\n",
              "    </tr>\n",
              "    <tr>\n",
              "      <th>8520</th>\n",
              "      <td>1</td>\n",
              "      <td>0</td>\n",
              "      <td>0</td>\n",
              "      <td>0</td>\n",
              "      <td>0</td>\n",
              "      <td>0</td>\n",
              "      <td>0</td>\n",
              "      <td>0</td>\n",
              "      <td>0</td>\n",
              "      <td>0</td>\n",
              "      <td>...</td>\n",
              "      <td>1</td>\n",
              "      <td>0</td>\n",
              "      <td>1</td>\n",
              "      <td>0</td>\n",
              "      <td>0</td>\n",
              "      <td>10.600</td>\n",
              "      <td>0.035186</td>\n",
              "      <td>85.1224</td>\n",
              "      <td>2004</td>\n",
              "      <td>1193.1136</td>\n",
              "    </tr>\n",
              "    <tr>\n",
              "      <th>8521</th>\n",
              "      <td>0</td>\n",
              "      <td>1</td>\n",
              "      <td>0</td>\n",
              "      <td>0</td>\n",
              "      <td>0</td>\n",
              "      <td>0</td>\n",
              "      <td>0</td>\n",
              "      <td>0</td>\n",
              "      <td>0</td>\n",
              "      <td>0</td>\n",
              "      <td>...</td>\n",
              "      <td>0</td>\n",
              "      <td>1</td>\n",
              "      <td>0</td>\n",
              "      <td>1</td>\n",
              "      <td>0</td>\n",
              "      <td>7.210</td>\n",
              "      <td>0.145221</td>\n",
              "      <td>103.1332</td>\n",
              "      <td>2009</td>\n",
              "      <td>1845.5976</td>\n",
              "    </tr>\n",
              "    <tr>\n",
              "      <th>8522</th>\n",
              "      <td>1</td>\n",
              "      <td>0</td>\n",
              "      <td>0</td>\n",
              "      <td>0</td>\n",
              "      <td>0</td>\n",
              "      <td>0</td>\n",
              "      <td>0</td>\n",
              "      <td>0</td>\n",
              "      <td>0</td>\n",
              "      <td>0</td>\n",
              "      <td>...</td>\n",
              "      <td>0</td>\n",
              "      <td>0</td>\n",
              "      <td>1</td>\n",
              "      <td>0</td>\n",
              "      <td>0</td>\n",
              "      <td>14.800</td>\n",
              "      <td>0.044878</td>\n",
              "      <td>75.4670</td>\n",
              "      <td>1997</td>\n",
              "      <td>765.6700</td>\n",
              "    </tr>\n",
              "  </tbody>\n",
              "</table>\n",
              "<p>8523 rows × 31 columns</p>\n",
              "</div>\n",
              "      <button class=\"colab-df-convert\" onclick=\"convertToInteractive('df-10c19c39-770e-4b59-883b-7d46f9b3d0a4')\"\n",
              "              title=\"Convert this dataframe to an interactive table.\"\n",
              "              style=\"display:none;\">\n",
              "        \n",
              "  <svg xmlns=\"http://www.w3.org/2000/svg\" height=\"24px\"viewBox=\"0 0 24 24\"\n",
              "       width=\"24px\">\n",
              "    <path d=\"M0 0h24v24H0V0z\" fill=\"none\"/>\n",
              "    <path d=\"M18.56 5.44l.94 2.06.94-2.06 2.06-.94-2.06-.94-.94-2.06-.94 2.06-2.06.94zm-11 1L8.5 8.5l.94-2.06 2.06-.94-2.06-.94L8.5 2.5l-.94 2.06-2.06.94zm10 10l.94 2.06.94-2.06 2.06-.94-2.06-.94-.94-2.06-.94 2.06-2.06.94z\"/><path d=\"M17.41 7.96l-1.37-1.37c-.4-.4-.92-.59-1.43-.59-.52 0-1.04.2-1.43.59L10.3 9.45l-7.72 7.72c-.78.78-.78 2.05 0 2.83L4 21.41c.39.39.9.59 1.41.59.51 0 1.02-.2 1.41-.59l7.78-7.78 2.81-2.81c.8-.78.8-2.07 0-2.86zM5.41 20L4 18.59l7.72-7.72 1.47 1.35L5.41 20z\"/>\n",
              "  </svg>\n",
              "      </button>\n",
              "      \n",
              "  <style>\n",
              "    .colab-df-container {\n",
              "      display:flex;\n",
              "      flex-wrap:wrap;\n",
              "      gap: 12px;\n",
              "    }\n",
              "\n",
              "    .colab-df-convert {\n",
              "      background-color: #E8F0FE;\n",
              "      border: none;\n",
              "      border-radius: 50%;\n",
              "      cursor: pointer;\n",
              "      display: none;\n",
              "      fill: #1967D2;\n",
              "      height: 32px;\n",
              "      padding: 0 0 0 0;\n",
              "      width: 32px;\n",
              "    }\n",
              "\n",
              "    .colab-df-convert:hover {\n",
              "      background-color: #E2EBFA;\n",
              "      box-shadow: 0px 1px 2px rgba(60, 64, 67, 0.3), 0px 1px 3px 1px rgba(60, 64, 67, 0.15);\n",
              "      fill: #174EA6;\n",
              "    }\n",
              "\n",
              "    [theme=dark] .colab-df-convert {\n",
              "      background-color: #3B4455;\n",
              "      fill: #D2E3FC;\n",
              "    }\n",
              "\n",
              "    [theme=dark] .colab-df-convert:hover {\n",
              "      background-color: #434B5C;\n",
              "      box-shadow: 0px 1px 3px 1px rgba(0, 0, 0, 0.15);\n",
              "      filter: drop-shadow(0px 1px 2px rgba(0, 0, 0, 0.3));\n",
              "      fill: #FFFFFF;\n",
              "    }\n",
              "  </style>\n",
              "\n",
              "      <script>\n",
              "        const buttonEl =\n",
              "          document.querySelector('#df-10c19c39-770e-4b59-883b-7d46f9b3d0a4 button.colab-df-convert');\n",
              "        buttonEl.style.display =\n",
              "          google.colab.kernel.accessAllowed ? 'block' : 'none';\n",
              "\n",
              "        async function convertToInteractive(key) {\n",
              "          const element = document.querySelector('#df-10c19c39-770e-4b59-883b-7d46f9b3d0a4');\n",
              "          const dataTable =\n",
              "            await google.colab.kernel.invokeFunction('convertToInteractive',\n",
              "                                                     [key], {});\n",
              "          if (!dataTable) return;\n",
              "\n",
              "          const docLinkHtml = 'Like what you see? Visit the ' +\n",
              "            '<a target=\"_blank\" href=https://colab.research.google.com/notebooks/data_table.ipynb>data table notebook</a>'\n",
              "            + ' to learn more about interactive tables.';\n",
              "          element.innerHTML = '';\n",
              "          dataTable['output_type'] = 'display_data';\n",
              "          await google.colab.output.renderOutput(dataTable, element);\n",
              "          const docLink = document.createElement('div');\n",
              "          docLink.innerHTML = docLinkHtml;\n",
              "          element.appendChild(docLink);\n",
              "        }\n",
              "      </script>\n",
              "    </div>\n",
              "  </div>\n",
              "  "
            ]
          },
          "metadata": {},
          "execution_count": 63
        }
      ]
    },
    {
      "cell_type": "markdown",
      "source": [
        "## Test Data"
      ],
      "metadata": {
        "id": "ms62AIbuO1WD"
      }
    },
    {
      "cell_type": "code",
      "source": [
        "from google.colab import files\n",
        "upload = files.upload()"
      ],
      "metadata": {
        "colab": {
          "resources": {
            "http://localhost:8080/nbextensions/google.colab/files.js": {
              "data": "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",
              "ok": true,
              "headers": [
                [
                  "content-type",
                  "application/javascript"
                ]
              ],
              "status": 200,
              "status_text": ""
            }
          },
          "base_uri": "https://localhost:8080/",
          "height": 73
        },
        "id": "VnckVqGtn0GH",
        "outputId": "3b89c7d9-249d-4d3b-ca70-55d2a986b6d2"
      },
      "execution_count": 62,
      "outputs": [
        {
          "output_type": "display_data",
          "data": {
            "text/plain": [
              "<IPython.core.display.HTML object>"
            ],
            "text/html": [
              "\n",
              "     <input type=\"file\" id=\"files-46c5bf22-bc9b-4b45-ad3e-8caa5bc1f518\" name=\"files[]\" multiple disabled\n",
              "        style=\"border:none\" />\n",
              "     <output id=\"result-46c5bf22-bc9b-4b45-ad3e-8caa5bc1f518\">\n",
              "      Upload widget is only available when the cell has been executed in the\n",
              "      current browser session. Please rerun this cell to enable.\n",
              "      </output>\n",
              "      <script src=\"/nbextensions/google.colab/files.js\"></script> "
            ]
          },
          "metadata": {}
        },
        {
          "output_type": "stream",
          "name": "stdout",
          "text": [
            "Saving BigMart_test.csv to BigMart_test.csv\n"
          ]
        }
      ]
    },
    {
      "cell_type": "code",
      "source": [
        "import pandas as pd\n",
        "import numpy as np"
      ],
      "metadata": {
        "id": "2BYTvmmbFCbR"
      },
      "execution_count": 7,
      "outputs": []
    },
    {
      "cell_type": "code",
      "source": [
        "df_test = pd.read_csv('BigMart_test.csv')\n",
        "df_test.head()"
      ],
      "metadata": {
        "colab": {
          "base_uri": "https://localhost:8080/",
          "height": 356
        },
        "id": "yGkYpq5Z-sD_",
        "outputId": "cb11162c-2328-44f2-8267-33f59b4210e6"
      },
      "execution_count": 64,
      "outputs": [
        {
          "output_type": "execute_result",
          "data": {
            "text/plain": [
              "  Item_Identifier  Item_Weight Item_Fat_Content  Item_Visibility    Item_Type  \\\n",
              "0           FDW58       20.750          Low Fat         0.007565  Snack Foods   \n",
              "1           FDW14        8.300              reg         0.038428        Dairy   \n",
              "2           NCN55       14.600          Low Fat         0.099575       Others   \n",
              "3           FDQ58        7.315          Low Fat         0.015388  Snack Foods   \n",
              "4           FDY38          NaN          Regular         0.118599        Dairy   \n",
              "\n",
              "   Item_MRP Outlet_Identifier  Outlet_Establishment_Year Outlet_Size  \\\n",
              "0  107.8622            OUT049                       1999      Medium   \n",
              "1   87.3198            OUT017                       2007         NaN   \n",
              "2  241.7538            OUT010                       1998         NaN   \n",
              "3  155.0340            OUT017                       2007         NaN   \n",
              "4  234.2300            OUT027                       1985      Medium   \n",
              "\n",
              "  Outlet_Location_Type        Outlet_Type  \n",
              "0               Tier 1  Supermarket Type1  \n",
              "1               Tier 2  Supermarket Type1  \n",
              "2               Tier 3      Grocery Store  \n",
              "3               Tier 2  Supermarket Type1  \n",
              "4               Tier 3  Supermarket Type3  "
            ],
            "text/html": [
              "\n",
              "  <div id=\"df-0dadf8f3-88f0-40fa-a94f-ea822724f9fe\">\n",
              "    <div class=\"colab-df-container\">\n",
              "      <div>\n",
              "<style scoped>\n",
              "    .dataframe tbody tr th:only-of-type {\n",
              "        vertical-align: middle;\n",
              "    }\n",
              "\n",
              "    .dataframe tbody tr th {\n",
              "        vertical-align: top;\n",
              "    }\n",
              "\n",
              "    .dataframe thead th {\n",
              "        text-align: right;\n",
              "    }\n",
              "</style>\n",
              "<table border=\"1\" class=\"dataframe\">\n",
              "  <thead>\n",
              "    <tr style=\"text-align: right;\">\n",
              "      <th></th>\n",
              "      <th>Item_Identifier</th>\n",
              "      <th>Item_Weight</th>\n",
              "      <th>Item_Fat_Content</th>\n",
              "      <th>Item_Visibility</th>\n",
              "      <th>Item_Type</th>\n",
              "      <th>Item_MRP</th>\n",
              "      <th>Outlet_Identifier</th>\n",
              "      <th>Outlet_Establishment_Year</th>\n",
              "      <th>Outlet_Size</th>\n",
              "      <th>Outlet_Location_Type</th>\n",
              "      <th>Outlet_Type</th>\n",
              "    </tr>\n",
              "  </thead>\n",
              "  <tbody>\n",
              "    <tr>\n",
              "      <th>0</th>\n",
              "      <td>FDW58</td>\n",
              "      <td>20.750</td>\n",
              "      <td>Low Fat</td>\n",
              "      <td>0.007565</td>\n",
              "      <td>Snack Foods</td>\n",
              "      <td>107.8622</td>\n",
              "      <td>OUT049</td>\n",
              "      <td>1999</td>\n",
              "      <td>Medium</td>\n",
              "      <td>Tier 1</td>\n",
              "      <td>Supermarket Type1</td>\n",
              "    </tr>\n",
              "    <tr>\n",
              "      <th>1</th>\n",
              "      <td>FDW14</td>\n",
              "      <td>8.300</td>\n",
              "      <td>reg</td>\n",
              "      <td>0.038428</td>\n",
              "      <td>Dairy</td>\n",
              "      <td>87.3198</td>\n",
              "      <td>OUT017</td>\n",
              "      <td>2007</td>\n",
              "      <td>NaN</td>\n",
              "      <td>Tier 2</td>\n",
              "      <td>Supermarket Type1</td>\n",
              "    </tr>\n",
              "    <tr>\n",
              "      <th>2</th>\n",
              "      <td>NCN55</td>\n",
              "      <td>14.600</td>\n",
              "      <td>Low Fat</td>\n",
              "      <td>0.099575</td>\n",
              "      <td>Others</td>\n",
              "      <td>241.7538</td>\n",
              "      <td>OUT010</td>\n",
              "      <td>1998</td>\n",
              "      <td>NaN</td>\n",
              "      <td>Tier 3</td>\n",
              "      <td>Grocery Store</td>\n",
              "    </tr>\n",
              "    <tr>\n",
              "      <th>3</th>\n",
              "      <td>FDQ58</td>\n",
              "      <td>7.315</td>\n",
              "      <td>Low Fat</td>\n",
              "      <td>0.015388</td>\n",
              "      <td>Snack Foods</td>\n",
              "      <td>155.0340</td>\n",
              "      <td>OUT017</td>\n",
              "      <td>2007</td>\n",
              "      <td>NaN</td>\n",
              "      <td>Tier 2</td>\n",
              "      <td>Supermarket Type1</td>\n",
              "    </tr>\n",
              "    <tr>\n",
              "      <th>4</th>\n",
              "      <td>FDY38</td>\n",
              "      <td>NaN</td>\n",
              "      <td>Regular</td>\n",
              "      <td>0.118599</td>\n",
              "      <td>Dairy</td>\n",
              "      <td>234.2300</td>\n",
              "      <td>OUT027</td>\n",
              "      <td>1985</td>\n",
              "      <td>Medium</td>\n",
              "      <td>Tier 3</td>\n",
              "      <td>Supermarket Type3</td>\n",
              "    </tr>\n",
              "  </tbody>\n",
              "</table>\n",
              "</div>\n",
              "      <button class=\"colab-df-convert\" onclick=\"convertToInteractive('df-0dadf8f3-88f0-40fa-a94f-ea822724f9fe')\"\n",
              "              title=\"Convert this dataframe to an interactive table.\"\n",
              "              style=\"display:none;\">\n",
              "        \n",
              "  <svg xmlns=\"http://www.w3.org/2000/svg\" height=\"24px\"viewBox=\"0 0 24 24\"\n",
              "       width=\"24px\">\n",
              "    <path d=\"M0 0h24v24H0V0z\" fill=\"none\"/>\n",
              "    <path d=\"M18.56 5.44l.94 2.06.94-2.06 2.06-.94-2.06-.94-.94-2.06-.94 2.06-2.06.94zm-11 1L8.5 8.5l.94-2.06 2.06-.94-2.06-.94L8.5 2.5l-.94 2.06-2.06.94zm10 10l.94 2.06.94-2.06 2.06-.94-2.06-.94-.94-2.06-.94 2.06-2.06.94z\"/><path d=\"M17.41 7.96l-1.37-1.37c-.4-.4-.92-.59-1.43-.59-.52 0-1.04.2-1.43.59L10.3 9.45l-7.72 7.72c-.78.78-.78 2.05 0 2.83L4 21.41c.39.39.9.59 1.41.59.51 0 1.02-.2 1.41-.59l7.78-7.78 2.81-2.81c.8-.78.8-2.07 0-2.86zM5.41 20L4 18.59l7.72-7.72 1.47 1.35L5.41 20z\"/>\n",
              "  </svg>\n",
              "      </button>\n",
              "      \n",
              "  <style>\n",
              "    .colab-df-container {\n",
              "      display:flex;\n",
              "      flex-wrap:wrap;\n",
              "      gap: 12px;\n",
              "    }\n",
              "\n",
              "    .colab-df-convert {\n",
              "      background-color: #E8F0FE;\n",
              "      border: none;\n",
              "      border-radius: 50%;\n",
              "      cursor: pointer;\n",
              "      display: none;\n",
              "      fill: #1967D2;\n",
              "      height: 32px;\n",
              "      padding: 0 0 0 0;\n",
              "      width: 32px;\n",
              "    }\n",
              "\n",
              "    .colab-df-convert:hover {\n",
              "      background-color: #E2EBFA;\n",
              "      box-shadow: 0px 1px 2px rgba(60, 64, 67, 0.3), 0px 1px 3px 1px rgba(60, 64, 67, 0.15);\n",
              "      fill: #174EA6;\n",
              "    }\n",
              "\n",
              "    [theme=dark] .colab-df-convert {\n",
              "      background-color: #3B4455;\n",
              "      fill: #D2E3FC;\n",
              "    }\n",
              "\n",
              "    [theme=dark] .colab-df-convert:hover {\n",
              "      background-color: #434B5C;\n",
              "      box-shadow: 0px 1px 3px 1px rgba(0, 0, 0, 0.15);\n",
              "      filter: drop-shadow(0px 1px 2px rgba(0, 0, 0, 0.3));\n",
              "      fill: #FFFFFF;\n",
              "    }\n",
              "  </style>\n",
              "\n",
              "      <script>\n",
              "        const buttonEl =\n",
              "          document.querySelector('#df-0dadf8f3-88f0-40fa-a94f-ea822724f9fe button.colab-df-convert');\n",
              "        buttonEl.style.display =\n",
              "          google.colab.kernel.accessAllowed ? 'block' : 'none';\n",
              "\n",
              "        async function convertToInteractive(key) {\n",
              "          const element = document.querySelector('#df-0dadf8f3-88f0-40fa-a94f-ea822724f9fe');\n",
              "          const dataTable =\n",
              "            await google.colab.kernel.invokeFunction('convertToInteractive',\n",
              "                                                     [key], {});\n",
              "          if (!dataTable) return;\n",
              "\n",
              "          const docLinkHtml = 'Like what you see? Visit the ' +\n",
              "            '<a target=\"_blank\" href=https://colab.research.google.com/notebooks/data_table.ipynb>data table notebook</a>'\n",
              "            + ' to learn more about interactive tables.';\n",
              "          element.innerHTML = '';\n",
              "          dataTable['output_type'] = 'display_data';\n",
              "          await google.colab.output.renderOutput(dataTable, element);\n",
              "          const docLink = document.createElement('div');\n",
              "          docLink.innerHTML = docLinkHtml;\n",
              "          element.appendChild(docLink);\n",
              "        }\n",
              "      </script>\n",
              "    </div>\n",
              "  </div>\n",
              "  "
            ]
          },
          "metadata": {},
          "execution_count": 64
        }
      ]
    },
    {
      "cell_type": "code",
      "source": [
        "df1 = df_test.drop(['Item_Identifier' , 'Outlet_Identifier'] , axis = 1)\n",
        "df1.head()"
      ],
      "metadata": {
        "colab": {
          "base_uri": "https://localhost:8080/",
          "height": 336
        },
        "id": "odcakg_3C8Yu",
        "outputId": "88801a80-44ec-4c00-d298-a16a8769196b"
      },
      "execution_count": 65,
      "outputs": [
        {
          "output_type": "execute_result",
          "data": {
            "text/plain": [
              "   Item_Weight Item_Fat_Content  Item_Visibility    Item_Type  Item_MRP  \\\n",
              "0       20.750          Low Fat         0.007565  Snack Foods  107.8622   \n",
              "1        8.300              reg         0.038428        Dairy   87.3198   \n",
              "2       14.600          Low Fat         0.099575       Others  241.7538   \n",
              "3        7.315          Low Fat         0.015388  Snack Foods  155.0340   \n",
              "4          NaN          Regular         0.118599        Dairy  234.2300   \n",
              "\n",
              "   Outlet_Establishment_Year Outlet_Size Outlet_Location_Type  \\\n",
              "0                       1999      Medium               Tier 1   \n",
              "1                       2007         NaN               Tier 2   \n",
              "2                       1998         NaN               Tier 3   \n",
              "3                       2007         NaN               Tier 2   \n",
              "4                       1985      Medium               Tier 3   \n",
              "\n",
              "         Outlet_Type  \n",
              "0  Supermarket Type1  \n",
              "1  Supermarket Type1  \n",
              "2      Grocery Store  \n",
              "3  Supermarket Type1  \n",
              "4  Supermarket Type3  "
            ],
            "text/html": [
              "\n",
              "  <div id=\"df-2b1e264a-72ed-42cd-828f-0a0115214960\">\n",
              "    <div class=\"colab-df-container\">\n",
              "      <div>\n",
              "<style scoped>\n",
              "    .dataframe tbody tr th:only-of-type {\n",
              "        vertical-align: middle;\n",
              "    }\n",
              "\n",
              "    .dataframe tbody tr th {\n",
              "        vertical-align: top;\n",
              "    }\n",
              "\n",
              "    .dataframe thead th {\n",
              "        text-align: right;\n",
              "    }\n",
              "</style>\n",
              "<table border=\"1\" class=\"dataframe\">\n",
              "  <thead>\n",
              "    <tr style=\"text-align: right;\">\n",
              "      <th></th>\n",
              "      <th>Item_Weight</th>\n",
              "      <th>Item_Fat_Content</th>\n",
              "      <th>Item_Visibility</th>\n",
              "      <th>Item_Type</th>\n",
              "      <th>Item_MRP</th>\n",
              "      <th>Outlet_Establishment_Year</th>\n",
              "      <th>Outlet_Size</th>\n",
              "      <th>Outlet_Location_Type</th>\n",
              "      <th>Outlet_Type</th>\n",
              "    </tr>\n",
              "  </thead>\n",
              "  <tbody>\n",
              "    <tr>\n",
              "      <th>0</th>\n",
              "      <td>20.750</td>\n",
              "      <td>Low Fat</td>\n",
              "      <td>0.007565</td>\n",
              "      <td>Snack Foods</td>\n",
              "      <td>107.8622</td>\n",
              "      <td>1999</td>\n",
              "      <td>Medium</td>\n",
              "      <td>Tier 1</td>\n",
              "      <td>Supermarket Type1</td>\n",
              "    </tr>\n",
              "    <tr>\n",
              "      <th>1</th>\n",
              "      <td>8.300</td>\n",
              "      <td>reg</td>\n",
              "      <td>0.038428</td>\n",
              "      <td>Dairy</td>\n",
              "      <td>87.3198</td>\n",
              "      <td>2007</td>\n",
              "      <td>NaN</td>\n",
              "      <td>Tier 2</td>\n",
              "      <td>Supermarket Type1</td>\n",
              "    </tr>\n",
              "    <tr>\n",
              "      <th>2</th>\n",
              "      <td>14.600</td>\n",
              "      <td>Low Fat</td>\n",
              "      <td>0.099575</td>\n",
              "      <td>Others</td>\n",
              "      <td>241.7538</td>\n",
              "      <td>1998</td>\n",
              "      <td>NaN</td>\n",
              "      <td>Tier 3</td>\n",
              "      <td>Grocery Store</td>\n",
              "    </tr>\n",
              "    <tr>\n",
              "      <th>3</th>\n",
              "      <td>7.315</td>\n",
              "      <td>Low Fat</td>\n",
              "      <td>0.015388</td>\n",
              "      <td>Snack Foods</td>\n",
              "      <td>155.0340</td>\n",
              "      <td>2007</td>\n",
              "      <td>NaN</td>\n",
              "      <td>Tier 2</td>\n",
              "      <td>Supermarket Type1</td>\n",
              "    </tr>\n",
              "    <tr>\n",
              "      <th>4</th>\n",
              "      <td>NaN</td>\n",
              "      <td>Regular</td>\n",
              "      <td>0.118599</td>\n",
              "      <td>Dairy</td>\n",
              "      <td>234.2300</td>\n",
              "      <td>1985</td>\n",
              "      <td>Medium</td>\n",
              "      <td>Tier 3</td>\n",
              "      <td>Supermarket Type3</td>\n",
              "    </tr>\n",
              "  </tbody>\n",
              "</table>\n",
              "</div>\n",
              "      <button class=\"colab-df-convert\" onclick=\"convertToInteractive('df-2b1e264a-72ed-42cd-828f-0a0115214960')\"\n",
              "              title=\"Convert this dataframe to an interactive table.\"\n",
              "              style=\"display:none;\">\n",
              "        \n",
              "  <svg xmlns=\"http://www.w3.org/2000/svg\" height=\"24px\"viewBox=\"0 0 24 24\"\n",
              "       width=\"24px\">\n",
              "    <path d=\"M0 0h24v24H0V0z\" fill=\"none\"/>\n",
              "    <path d=\"M18.56 5.44l.94 2.06.94-2.06 2.06-.94-2.06-.94-.94-2.06-.94 2.06-2.06.94zm-11 1L8.5 8.5l.94-2.06 2.06-.94-2.06-.94L8.5 2.5l-.94 2.06-2.06.94zm10 10l.94 2.06.94-2.06 2.06-.94-2.06-.94-.94-2.06-.94 2.06-2.06.94z\"/><path d=\"M17.41 7.96l-1.37-1.37c-.4-.4-.92-.59-1.43-.59-.52 0-1.04.2-1.43.59L10.3 9.45l-7.72 7.72c-.78.78-.78 2.05 0 2.83L4 21.41c.39.39.9.59 1.41.59.51 0 1.02-.2 1.41-.59l7.78-7.78 2.81-2.81c.8-.78.8-2.07 0-2.86zM5.41 20L4 18.59l7.72-7.72 1.47 1.35L5.41 20z\"/>\n",
              "  </svg>\n",
              "      </button>\n",
              "      \n",
              "  <style>\n",
              "    .colab-df-container {\n",
              "      display:flex;\n",
              "      flex-wrap:wrap;\n",
              "      gap: 12px;\n",
              "    }\n",
              "\n",
              "    .colab-df-convert {\n",
              "      background-color: #E8F0FE;\n",
              "      border: none;\n",
              "      border-radius: 50%;\n",
              "      cursor: pointer;\n",
              "      display: none;\n",
              "      fill: #1967D2;\n",
              "      height: 32px;\n",
              "      padding: 0 0 0 0;\n",
              "      width: 32px;\n",
              "    }\n",
              "\n",
              "    .colab-df-convert:hover {\n",
              "      background-color: #E2EBFA;\n",
              "      box-shadow: 0px 1px 2px rgba(60, 64, 67, 0.3), 0px 1px 3px 1px rgba(60, 64, 67, 0.15);\n",
              "      fill: #174EA6;\n",
              "    }\n",
              "\n",
              "    [theme=dark] .colab-df-convert {\n",
              "      background-color: #3B4455;\n",
              "      fill: #D2E3FC;\n",
              "    }\n",
              "\n",
              "    [theme=dark] .colab-df-convert:hover {\n",
              "      background-color: #434B5C;\n",
              "      box-shadow: 0px 1px 3px 1px rgba(0, 0, 0, 0.15);\n",
              "      filter: drop-shadow(0px 1px 2px rgba(0, 0, 0, 0.3));\n",
              "      fill: #FFFFFF;\n",
              "    }\n",
              "  </style>\n",
              "\n",
              "      <script>\n",
              "        const buttonEl =\n",
              "          document.querySelector('#df-2b1e264a-72ed-42cd-828f-0a0115214960 button.colab-df-convert');\n",
              "        buttonEl.style.display =\n",
              "          google.colab.kernel.accessAllowed ? 'block' : 'none';\n",
              "\n",
              "        async function convertToInteractive(key) {\n",
              "          const element = document.querySelector('#df-2b1e264a-72ed-42cd-828f-0a0115214960');\n",
              "          const dataTable =\n",
              "            await google.colab.kernel.invokeFunction('convertToInteractive',\n",
              "                                                     [key], {});\n",
              "          if (!dataTable) return;\n",
              "\n",
              "          const docLinkHtml = 'Like what you see? Visit the ' +\n",
              "            '<a target=\"_blank\" href=https://colab.research.google.com/notebooks/data_table.ipynb>data table notebook</a>'\n",
              "            + ' to learn more about interactive tables.';\n",
              "          element.innerHTML = '';\n",
              "          dataTable['output_type'] = 'display_data';\n",
              "          await google.colab.output.renderOutput(dataTable, element);\n",
              "          const docLink = document.createElement('div');\n",
              "          docLink.innerHTML = docLinkHtml;\n",
              "          element.appendChild(docLink);\n",
              "        }\n",
              "      </script>\n",
              "    </div>\n",
              "  </div>\n",
              "  "
            ]
          },
          "metadata": {},
          "execution_count": 65
        }
      ]
    },
    {
      "cell_type": "code",
      "source": [
        "df1.shape"
      ],
      "metadata": {
        "id": "PrFKpExbPcN5",
        "outputId": "3a5e2c10-4359-4d7a-efb8-b54ebc91af33",
        "colab": {
          "base_uri": "https://localhost:8080/"
        }
      },
      "execution_count": 66,
      "outputs": [
        {
          "output_type": "execute_result",
          "data": {
            "text/plain": [
              "(5681, 9)"
            ]
          },
          "metadata": {},
          "execution_count": 66
        }
      ]
    },
    {
      "cell_type": "code",
      "source": [
        "print(\"Test data Info\")\n",
        "print(\"-\"*75)\n",
        "print(df1.info())\n",
        "\n",
        "print(\"Test data shape\")\n",
        "print(\"-\"*75)\n",
        "print(df1.shape)\n",
        "\n",
        "print('duplucate data:')\n",
        "print(\"-\"*75)\n",
        "print(df1.drop_duplicates())\n",
        "\n",
        "print('missing data:')\n",
        "print(\"-\"*75)\n",
        "feature_na =  [feature for feature in df1.columns if df1[feature].isnull().sum() > 1]\n",
        "for feature in feature_na:\n",
        "  print(\"{} has {} % missing values\".format(feature ,  np.round(df1[feature].isnull().sum()/len(df1)*100 , 2)))\n",
        "\n",
        "\n",
        "#Numerical Feature\n",
        "numerical_feature1 = df1.dtypes[df1.dtypes!='object'].index\n",
        "print('numerical feature:' , len(numerical_feature))\n",
        "\n",
        "categorical_feature1 = df1.dtypes[df1.dtypes=='object'].index\n",
        "print('categorical feature:' , len(categorical_feature))\n",
        "print(\"-\"*75)\n",
        "\n",
        "#Dealing with Outliers\n",
        "for i in df1.columns:\n",
        "    if(df1[i].dtype!=type(object)):\n",
        "        q1=df1[i].quantile(0.25)\n",
        "        q3=df1[i].quantile(0.75)\n",
        "        IQR=q3-q1\n",
        "        ub=q3+(1.5*IQR)\n",
        "        lb=q1-(1.5*IQR)\n",
        "        for j in range(0,len(df1[i])):\n",
        "            if(df1[i][j]>ub):\n",
        "                df1[i].replace(df1[i][j],ub,inplace=True)\n",
        "            elif(df1[i][j]<lb):\n",
        "                df1[i].replace(df1[i][j],lb,inplace=True)\n",
        "\n",
        "print(\"-\"*75)\n",
        "for i in df1.columns:\n",
        "    if(df1[i].dtype!=type(object)):\n",
        "        q1=df1[i].quantile(0.25)\n",
        "        q3=df1[i].quantile(0.75)\n",
        "        IQR=q3-q1\n",
        "        ub=q3+(1.5*IQR)\n",
        "        lb=q1-(1.5*IQR)\n",
        "        out_ub=df1[df_test[i]>ub][i]\n",
        "        out_lb=df1[df_test[i]<lb][i]\n",
        "        print(\"no of outliers in\",i,\"is\",len(out_ub)+len(out_lb))                \n",
        "print(\"-\"*75)\n",
        "\n",
        "\n",
        "df1.fillna(value = 0 , axis = 0 , inplace = True)\n",
        "df1.isnull().sum()\n",
        "print(\"-\"*75)\n",
        "\n",
        "Item_Fat_Content = pd.get_dummies(df1[categorical_feature1[0]] , drop_first=True)\n",
        "Item_type = pd.get_dummies(df1[categorical_feature1[1]] , drop_first=True)\n",
        "Outlet_size = pd.get_dummies(df1[categorical_feature1[2]] , drop_first=True)\n",
        "Outlet_Location_Type = pd.get_dummies(df1[categorical_feature1[3]] , drop_first=True)\n",
        "Outlet_Type = pd.get_dummies(df1[categorical_feature1[4]] , drop_first=True)\n",
        "print(\"-\"*75)\n",
        "\n",
        "data1 = pd.concat([Item_Fat_Content , Item_type , Outlet_size , Outlet_Location_Type , Outlet_Type , df1[numerical_feature1]] , axis = 1)\n",
        "print(data1)\n",
        "print(\"-\"*75)"
      ],
      "metadata": {
        "colab": {
          "base_uri": "https://localhost:8080/"
        },
        "id": "c1Mdf808-sS7",
        "outputId": "2bacdcec-a29a-4da5-8f23-00079d1be9db"
      },
      "execution_count": 67,
      "outputs": [
        {
          "output_type": "stream",
          "name": "stdout",
          "text": [
            "Test data Info\n",
            "---------------------------------------------------------------------------\n",
            "<class 'pandas.core.frame.DataFrame'>\n",
            "RangeIndex: 5681 entries, 0 to 5680\n",
            "Data columns (total 9 columns):\n",
            " #   Column                     Non-Null Count  Dtype  \n",
            "---  ------                     --------------  -----  \n",
            " 0   Item_Weight                4705 non-null   float64\n",
            " 1   Item_Fat_Content           5681 non-null   object \n",
            " 2   Item_Visibility            5681 non-null   float64\n",
            " 3   Item_Type                  5681 non-null   object \n",
            " 4   Item_MRP                   5681 non-null   float64\n",
            " 5   Outlet_Establishment_Year  5681 non-null   int64  \n",
            " 6   Outlet_Size                4075 non-null   object \n",
            " 7   Outlet_Location_Type       5681 non-null   object \n",
            " 8   Outlet_Type                5681 non-null   object \n",
            "dtypes: float64(3), int64(1), object(5)\n",
            "memory usage: 399.6+ KB\n",
            "None\n",
            "Test data shape\n",
            "---------------------------------------------------------------------------\n",
            "(5681, 9)\n",
            "duplucate data:\n",
            "---------------------------------------------------------------------------\n",
            "      Item_Weight Item_Fat_Content  Item_Visibility           Item_Type  \\\n",
            "0          20.750          Low Fat         0.007565         Snack Foods   \n",
            "1           8.300              reg         0.038428               Dairy   \n",
            "2          14.600          Low Fat         0.099575              Others   \n",
            "3           7.315          Low Fat         0.015388         Snack Foods   \n",
            "4             NaN          Regular         0.118599               Dairy   \n",
            "...           ...              ...              ...                 ...   \n",
            "5676       10.500          Regular         0.013496         Snack Foods   \n",
            "5677        7.600          Regular         0.142991       Starchy Foods   \n",
            "5678       10.000          Low Fat         0.073529  Health and Hygiene   \n",
            "5679       15.300          Regular         0.000000              Canned   \n",
            "5680        9.500          Regular         0.104720              Canned   \n",
            "\n",
            "      Item_MRP  Outlet_Establishment_Year Outlet_Size Outlet_Location_Type  \\\n",
            "0     107.8622                       1999      Medium               Tier 1   \n",
            "1      87.3198                       2007         NaN               Tier 2   \n",
            "2     241.7538                       1998         NaN               Tier 3   \n",
            "3     155.0340                       2007         NaN               Tier 2   \n",
            "4     234.2300                       1985      Medium               Tier 3   \n",
            "...        ...                        ...         ...                  ...   \n",
            "5676  141.3154                       1997       Small               Tier 1   \n",
            "5677  169.1448                       2009      Medium               Tier 3   \n",
            "5678  118.7440                       2002         NaN               Tier 2   \n",
            "5679  214.6218                       2007         NaN               Tier 2   \n",
            "5680   79.7960                       2002         NaN               Tier 2   \n",
            "\n",
            "            Outlet_Type  \n",
            "0     Supermarket Type1  \n",
            "1     Supermarket Type1  \n",
            "2         Grocery Store  \n",
            "3     Supermarket Type1  \n",
            "4     Supermarket Type3  \n",
            "...                 ...  \n",
            "5676  Supermarket Type1  \n",
            "5677  Supermarket Type2  \n",
            "5678  Supermarket Type1  \n",
            "5679  Supermarket Type1  \n",
            "5680  Supermarket Type1  \n",
            "\n",
            "[5681 rows x 9 columns]\n",
            "missing data:\n",
            "---------------------------------------------------------------------------\n",
            "Item_Weight has 17.18 % missing values\n",
            "Outlet_Size has 28.27 % missing values\n",
            "numerical feature: 5\n",
            "categorical feature: 5\n",
            "---------------------------------------------------------------------------\n",
            "---------------------------------------------------------------------------\n",
            "no of outliers in Item_Weight is 0\n",
            "no of outliers in Item_Visibility is 113\n",
            "no of outliers in Item_MRP is 0\n",
            "no of outliers in Outlet_Establishment_Year is 0\n",
            "---------------------------------------------------------------------------\n",
            "---------------------------------------------------------------------------\n",
            "---------------------------------------------------------------------------\n",
            "      Low Fat  Regular  low fat  reg  Breads  Breakfast  Canned  Dairy  \\\n",
            "0           1        0        0    0       0          0       0      0   \n",
            "1           0        0        0    1       0          0       0      1   \n",
            "2           1        0        0    0       0          0       0      0   \n",
            "3           1        0        0    0       0          0       0      0   \n",
            "4           0        1        0    0       0          0       0      1   \n",
            "...       ...      ...      ...  ...     ...        ...     ...    ...   \n",
            "5676        0        1        0    0       0          0       0      0   \n",
            "5677        0        1        0    0       0          0       0      0   \n",
            "5678        1        0        0    0       0          0       0      0   \n",
            "5679        0        1        0    0       0          0       1      0   \n",
            "5680        0        1        0    0       0          0       1      0   \n",
            "\n",
            "      Frozen Foods  Fruits and Vegetables  ...  Small  Tier 2  Tier 3  \\\n",
            "0                0                      0  ...      0       0       0   \n",
            "1                0                      0  ...      0       1       0   \n",
            "2                0                      0  ...      0       0       1   \n",
            "3                0                      0  ...      0       1       0   \n",
            "4                0                      0  ...      0       0       1   \n",
            "...            ...                    ...  ...    ...     ...     ...   \n",
            "5676             0                      0  ...      1       0       0   \n",
            "5677             0                      0  ...      0       0       1   \n",
            "5678             0                      0  ...      0       1       0   \n",
            "5679             0                      0  ...      0       1       0   \n",
            "5680             0                      0  ...      0       1       0   \n",
            "\n",
            "      Supermarket Type1  Supermarket Type2  Supermarket Type3  Item_Weight  \\\n",
            "0                     1                  0                  0       20.750   \n",
            "1                     1                  0                  0        8.300   \n",
            "2                     0                  0                  0       14.600   \n",
            "3                     1                  0                  0        7.315   \n",
            "4                     0                  0                  1        0.000   \n",
            "...                 ...                ...                ...          ...   \n",
            "5676                  1                  0                  0       10.500   \n",
            "5677                  0                  1                  0        7.600   \n",
            "5678                  1                  0                  0       10.000   \n",
            "5679                  1                  0                  0       15.300   \n",
            "5680                  1                  0                  0        9.500   \n",
            "\n",
            "      Item_Visibility  Item_MRP  Outlet_Establishment_Year  \n",
            "0            0.007565  107.8622                       1999  \n",
            "1            0.038428   87.3198                       2007  \n",
            "2            0.099575  241.7538                       1998  \n",
            "3            0.015388  155.0340                       2007  \n",
            "4            0.118599  234.2300                       1985  \n",
            "...               ...       ...                        ...  \n",
            "5676         0.013496  141.3154                       1997  \n",
            "5677         0.142991  169.1448                       2009  \n",
            "5678         0.073529  118.7440                       2002  \n",
            "5679         0.000000  214.6218                       2007  \n",
            "5680         0.104720   79.7960                       2002  \n",
            "\n",
            "[5681 rows x 31 columns]\n",
            "---------------------------------------------------------------------------\n"
          ]
        }
      ]
    },
    {
      "cell_type": "markdown",
      "source": [
        "## Scaling data"
      ],
      "metadata": {
        "id": "DjNa4Gg-P3rU"
      }
    },
    {
      "cell_type": "code",
      "metadata": {
        "id": "QHVbll45-dwD"
      },
      "source": [
        "from sklearn.preprocessing import MinMaxScaler\n",
        "scale = MinMaxScaler()\n",
        "X = scale.fit_transform(data.drop('Item_Outlet_Sales' ,  axis = 1))\n",
        "Y = scale.fit_transform(data['Item_Outlet_Sales'].values.reshape(-1,1))"
      ],
      "execution_count": 64,
      "outputs": []
    },
    {
      "cell_type": "code",
      "source": [
        "X"
      ],
      "metadata": {
        "colab": {
          "base_uri": "https://localhost:8080/"
        },
        "id": "0NcYuQifZZAW",
        "outputId": "ec2771c3-27f5-470a-ad86-e69de0c0c4a2"
      },
      "execution_count": 65,
      "outputs": [
        {
          "output_type": "execute_result",
          "data": {
            "text/plain": [
              "array([[1.        , 0.        , 0.        , ..., 0.08188275, 0.92750715,\n",
              "        0.58333333],\n",
              "       [0.        , 1.        , 0.        , ..., 0.09836878, 0.0720684 ,\n",
              "        1.        ],\n",
              "       [1.        , 0.        , 0.        , ..., 0.08551974, 0.46828841,\n",
              "        0.58333333],\n",
              "       ...,\n",
              "       [1.        , 0.        , 0.        , ..., 0.17954101, 0.22849221,\n",
              "        0.79166667],\n",
              "       [0.        , 1.        , 0.        , ..., 0.741001  , 0.30493925,\n",
              "        1.        ],\n",
              "       [1.        , 0.        , 0.        , ..., 0.22899533, 0.18750976,\n",
              "        0.5       ]])"
            ]
          },
          "metadata": {},
          "execution_count": 65
        }
      ]
    },
    {
      "cell_type": "code",
      "source": [
        "Y"
      ],
      "metadata": {
        "colab": {
          "base_uri": "https://localhost:8080/"
        },
        "id": "wL3VYATLZaIP",
        "outputId": "0c971937-13f8-4e73-e389-964c412637e3"
      },
      "execution_count": 66,
      "outputs": [
        {
          "output_type": "execute_result",
          "data": {
            "text/plain": [
              "array([[0.57228141],\n",
              "       [0.06340384],\n",
              "       [0.31907776],\n",
              "       ...,\n",
              "       [0.17930112],\n",
              "       [0.28017086],\n",
              "       [0.11322114]])"
            ]
          },
          "metadata": {},
          "execution_count": 66
        }
      ]
    },
    {
      "cell_type": "code",
      "metadata": {
        "colab": {
          "base_uri": "https://localhost:8080/"
        },
        "id": "2T32MxcfRT_v",
        "outputId": "a1d1d6d5-2630-4048-9020-f4166fbce51e"
      },
      "source": [
        "from sklearn.feature_selection import SelectKBest\n",
        "from sklearn.feature_selection import f_regression\n",
        "bestfeatures = SelectKBest(score_func = f_regression , k=20)\n",
        "fit=bestfeatures.fit(X,Y)\n",
        "df_scores=pd.DataFrame(fit.scores_)\n",
        "df_columns=pd.DataFrame(data.drop('Item_Outlet_Sales',axis=1).columns)\n",
        "#Concat two Data Frames for Better Visulaization\n",
        "featureScores=pd.concat([df_columns,df_scores],axis=1)\n",
        "featureScores.columns=['Specs','Score']\n",
        "print(featureScores)"
      ],
      "execution_count": 67,
      "outputs": [
        {
          "output_type": "stream",
          "name": "stdout",
          "text": [
            "                        Specs        Score\n",
            "0                     Low Fat     1.534888\n",
            "1                     Regular     4.719613\n",
            "2                     low fat     0.421507\n",
            "3                         reg     1.897777\n",
            "4                      Breads     0.081164\n",
            "5                   Breakfast     0.331185\n",
            "6                      Canned     0.714035\n",
            "7                       Dairy     0.174796\n",
            "8                Frozen Foods     0.701176\n",
            "9       Fruits and Vegetables     5.153444\n",
            "10                Hard Drinks     0.076238\n",
            "11         Health and Hygiene     5.486669\n",
            "12                  Household     2.376387\n",
            "13                       Meat     0.061611\n",
            "14                     Others     3.460880\n",
            "15                    Seafood     0.703568\n",
            "16                Snack Foods     4.688011\n",
            "17                Soft Drinks     5.755520\n",
            "18              Starchy Foods     2.176644\n",
            "19                     Medium    43.897831\n",
            "20                      Small    81.243255\n",
            "21                     Tier 2    36.966422\n",
            "22                     Tier 3    12.387919\n",
            "23          Supermarket Type1   134.865413\n",
            "24          Supermarket Type2    10.294644\n",
            "25          Supermarket Type3   838.054970\n",
            "26                Item_Weight     1.303977\n",
            "27            Item_Visibility   125.376654\n",
            "28                   Item_MRP  4199.036156\n",
            "29  Outlet_Establishment_Year    11.765376\n"
          ]
        },
        {
          "output_type": "stream",
          "name": "stderr",
          "text": [
            "/usr/local/lib/python3.7/dist-packages/sklearn/utils/validation.py:993: DataConversionWarning: A column-vector y was passed when a 1d array was expected. Please change the shape of y to (n_samples, ), for example using ravel().\n",
            "  y = column_or_1d(y, warn=True)\n"
          ]
        }
      ]
    },
    {
      "cell_type": "code",
      "metadata": {
        "colab": {
          "base_uri": "https://localhost:8080/"
        },
        "id": "7MRM7oc8SFgV",
        "outputId": "1514bbd8-2147-4d82-c483-c0df03e68c73"
      },
      "source": [
        "imp_feature = featureScores.nlargest(20 , 'Score')['Specs']\n",
        "imp_feature"
      ],
      "execution_count": 68,
      "outputs": [
        {
          "output_type": "execute_result",
          "data": {
            "text/plain": [
              "28                     Item_MRP\n",
              "25            Supermarket Type3\n",
              "23            Supermarket Type1\n",
              "27              Item_Visibility\n",
              "20                        Small\n",
              "19                       Medium\n",
              "21                       Tier 2\n",
              "22                       Tier 3\n",
              "29    Outlet_Establishment_Year\n",
              "24            Supermarket Type2\n",
              "17                  Soft Drinks\n",
              "11           Health and Hygiene\n",
              "9         Fruits and Vegetables\n",
              "1                       Regular\n",
              "16                  Snack Foods\n",
              "14                       Others\n",
              "12                    Household\n",
              "18                Starchy Foods\n",
              "3                           reg\n",
              "0                       Low Fat\n",
              "Name: Specs, dtype: object"
            ]
          },
          "metadata": {},
          "execution_count": 68
        }
      ]
    },
    {
      "cell_type": "code",
      "metadata": {
        "colab": {
          "base_uri": "https://localhost:8080/"
        },
        "id": "zOmPWLwCTmIm",
        "outputId": "4750139c-c828-4795-e674-9693a6db47de"
      },
      "source": [
        "X"
      ],
      "execution_count": 69,
      "outputs": [
        {
          "output_type": "execute_result",
          "data": {
            "text/plain": [
              "array([[1.        , 0.        , 0.        , ..., 0.08188275, 0.92750715,\n",
              "        0.58333333],\n",
              "       [0.        , 1.        , 0.        , ..., 0.09836878, 0.0720684 ,\n",
              "        1.        ],\n",
              "       [1.        , 0.        , 0.        , ..., 0.08551974, 0.46828841,\n",
              "        0.58333333],\n",
              "       ...,\n",
              "       [1.        , 0.        , 0.        , ..., 0.17954101, 0.22849221,\n",
              "        0.79166667],\n",
              "       [0.        , 1.        , 0.        , ..., 0.741001  , 0.30493925,\n",
              "        1.        ],\n",
              "       [1.        , 0.        , 0.        , ..., 0.22899533, 0.18750976,\n",
              "        0.5       ]])"
            ]
          },
          "metadata": {},
          "execution_count": 69
        }
      ]
    },
    {
      "cell_type": "code",
      "metadata": {
        "id": "gqkiegvvS8Gx"
      },
      "source": [
        "X = data[imp_feature]\n",
        "Y = data['Item_Outlet_Sales']\n",
        "from sklearn.preprocessing import MinMaxScaler\n",
        "scaler = MinMaxScaler()\n",
        "X = scaler.fit_transform(X)\n",
        "Y = scaler.fit_transform(data['Item_Outlet_Sales'].values.reshape(-1,1))"
      ],
      "execution_count": 70,
      "outputs": []
    },
    {
      "cell_type": "code",
      "metadata": {
        "colab": {
          "base_uri": "https://localhost:8080/"
        },
        "id": "OzbU_RnHTyiw",
        "outputId": "49a3e0a0-de5b-4aa4-b14d-61983d535921"
      },
      "source": [
        "Y"
      ],
      "execution_count": 71,
      "outputs": [
        {
          "output_type": "execute_result",
          "data": {
            "text/plain": [
              "array([[0.57228141],\n",
              "       [0.06340384],\n",
              "       [0.31907776],\n",
              "       ...,\n",
              "       [0.17930112],\n",
              "       [0.28017086],\n",
              "       [0.11322114]])"
            ]
          },
          "metadata": {},
          "execution_count": 71
        }
      ]
    },
    {
      "cell_type": "code",
      "metadata": {
        "id": "jlI8sCLET3z1"
      },
      "source": [
        "from sklearn.model_selection import train_test_split\n",
        "X_train,X_test,Y_train,Y_test = train_test_split(X , Y , test_size = 0.2 , random_state = 0)"
      ],
      "execution_count": 72,
      "outputs": []
    },
    {
      "cell_type": "code",
      "source": [
        ""
      ],
      "metadata": {
        "id": "7XcbCitoRWkP"
      },
      "execution_count": null,
      "outputs": []
    },
    {
      "cell_type": "markdown",
      "source": [
        "**APPLYING SOME OF THE MOST POWERFUL MACHINE LEARNING ALGORITHUMNS**\n"
      ],
      "metadata": {
        "id": "5kVEFL9bRWyl"
      }
    },
    {
      "cell_type": "markdown",
      "source": [
        "**Linear Regression:**"
      ],
      "metadata": {
        "id": "zLgeSNuGRgmT"
      }
    },
    {
      "cell_type": "code",
      "metadata": {
        "id": "-xLEGfWuUZjv",
        "colab": {
          "base_uri": "https://localhost:8080/"
        },
        "outputId": "da674d98-f1f1-4523-b5a9-53822150d079"
      },
      "source": [
        "from sklearn.linear_model import LinearRegression\n",
        "\n",
        "model_LR = LinearRegression()\n",
        "model_LR.fit(X_train , Y_train)\n",
        "LR_score_train = model_LR.score(X_train , Y_train)\n",
        "print('Train score' , LR_score_train)\n",
        "\n",
        "LR_score_test = model_LR.score(X_test , Y_test)\n",
        "print('Test score' , LR_score_test)\n",
        "\n",
        "pred_LR = model_LR.predict(X_test)\n",
        "\n",
        "from sklearn import metrics\n",
        "\n",
        "print('MAE SCORE:', metrics.mean_absolute_error(Y_test ,  pred_LR))\n",
        "print('MSE SCORE:', metrics.mean_squared_error(Y_test , pred_LR))\n",
        "RMSE_LR = np.sqrt(metrics.mean_squared_error(Y_test , pred_LR))\n",
        "print('RMSE SCORE:' , RMSE_LR)\n",
        "final_results = []\n",
        "dict_LR = {'MODEL': 'Linear Regressionn',\n",
        "           'Train_ACCURACY':LR_score_train,\n",
        "           'Test_ACCURACY': LR_score_test,\n",
        "           'RMSE' : RMSE_LR}\n",
        "final_results.append(dict_LR)          "
      ],
      "execution_count": 111,
      "outputs": [
        {
          "output_type": "stream",
          "name": "stdout",
          "text": [
            "Train score 0.5777159147073654\n",
            "Test score 0.5713866587952451\n",
            "MAE SCORE: 0.12830997220533474\n",
            "MSE SCORE: 0.027801981613237225\n",
            "RMSE SCORE: 0.16673926236263978\n"
          ]
        }
      ]
    },
    {
      "cell_type": "markdown",
      "source": [
        "**Ridge Regression:**"
      ],
      "metadata": {
        "id": "a-VRa4heRjC6"
      }
    },
    {
      "cell_type": "code",
      "metadata": {
        "colab": {
          "base_uri": "https://localhost:8080/"
        },
        "id": "WZIhP3l6k8J_",
        "outputId": "25da8fac-8575-4bf7-e68c-abb44da9c893"
      },
      "source": [
        "from sklearn import linear_model\n",
        "model_LR_Ridge = linear_model.RidgeCV()\n",
        "model_LR_Ridge.fit(X_train , Y_train)\n",
        "\n",
        "LR_Ridge_score_train = model_LR_Ridge.score(X_train , Y_train)\n",
        "print('Train score' , LR_Ridge_score_train)\n",
        "\n",
        "LR_Ridge_score_test = model_LR_Ridge.score(X_test , Y_test)\n",
        "print('Test score' , LR_Ridge_score_test)\n",
        "\n",
        "pred_Ridge = model_LR_Ridge.predict(X_test)\n",
        "\n",
        "from sklearn import metrics\n",
        "\n",
        "print('MAE SCORE:' , metrics.mean_absolute_error(Y_test , pred_Ridge))\n",
        "print('MSE SCORE:' , metrics.mean_squared_error(Y_test , pred_Ridge))\n",
        "RMSE_Ridge = np.sqrt(metrics.mean_squared_error(Y_test , pred_Ridge))\n",
        "print('RMSE SCORE:' , RMSE_Ridge)\n",
        "\n",
        "dict_LR_Ridge = {\n",
        "    'MODEL' : 'Ridge Regression',\n",
        "    'Train_ACCURACY' : LR_Ridge_score_train,\n",
        "    'Test_ACCURACY' : LR_Ridge_score_test,\n",
        "    'RMSE' : RMSE_Ridge\n",
        "}\n",
        "final_results.append(dict_LR_Ridge)"
      ],
      "execution_count": 112,
      "outputs": [
        {
          "output_type": "stream",
          "name": "stdout",
          "text": [
            "Train score 0.5777153790752952\n",
            "Test score 0.5713855893604548\n",
            "MAE SCORE: 0.12830678864876366\n",
            "MSE SCORE: 0.027802050982068095\n",
            "RMSE SCORE: 0.1667394703783963\n"
          ]
        }
      ]
    },
    {
      "cell_type": "markdown",
      "source": [
        "**Lasso Regression:**"
      ],
      "metadata": {
        "id": "zGLSwY0wRpT1"
      }
    },
    {
      "cell_type": "code",
      "metadata": {
        "colab": {
          "base_uri": "https://localhost:8080/"
        },
        "id": "9vezh4V4p-Wc",
        "outputId": "e5903ea1-0d5c-4e98-b902-2cbd0218b965"
      },
      "source": [
        "from sklearn import linear_model\n",
        "model_LR_Lasso = linear_model.LassoCV()\n",
        "model_LR_Lasso.fit(X_train , Y_train)\n",
        "LR_Lasso_score_train = model_LR_Lasso.score(X_train , Y_train)\n",
        "print('Train score' , LR_Lasso_score_train)\n",
        "\n",
        "LR_Lasso_score_test = model_LR_Lasso.score(X_test , Y_test)\n",
        "print('Test score' , LR_Lasso_score_test)\n",
        "\n",
        "pred_Lasso = model_LR_Lasso.predict(X_test)\n",
        "\n",
        "print('MAE SCORE;' , metrics.mean_absolute_error(Y_test , pred_Lasso))\n",
        "print('MSE SCORE:' , metrics.mean_squared_error(Y_test , pred_Lasso))\n",
        "RMSE_Lasso = np.sqrt(metrics.mean_squared_error(Y_test ,  pred_Lasso))\n",
        "print('RMSE SCORE:' , RMSE_Lasso)\n",
        "\n",
        "dict_LR_Lasso = { \n",
        "    'MODEL' : 'Lasso Regression',\n",
        "    'Train_ACCURACY' : LR_Lasso_score_train,\n",
        "    'Test_ACCURACY' : LR_Lasso_score_test,\n",
        "    'RMSE' : RMSE_Lasso\n",
        "\n",
        "}\n",
        "final_results.append(dict_LR_Lasso)"
      ],
      "execution_count": 113,
      "outputs": [
        {
          "output_type": "stream",
          "name": "stderr",
          "text": [
            "/usr/local/lib/python3.7/dist-packages/sklearn/linear_model/_coordinate_descent.py:1571: DataConversionWarning: A column-vector y was passed when a 1d array was expected. Please change the shape of y to (n_samples, ), for example using ravel().\n",
            "  y = column_or_1d(y, warn=True)\n"
          ]
        },
        {
          "output_type": "stream",
          "name": "stdout",
          "text": [
            "Train score 0.5775956565321818\n",
            "Test score 0.5715030496300295\n",
            "MAE SCORE; 0.1282411768054489\n",
            "MSE SCORE: 0.027794431927920544\n",
            "RMSE SCORE: 0.1667166216305997\n"
          ]
        }
      ]
    },
    {
      "cell_type": "markdown",
      "source": [
        "**Decision Tree:**"
      ],
      "metadata": {
        "id": "UKzhJYSnRxJ1"
      }
    },
    {
      "cell_type": "code",
      "metadata": {
        "colab": {
          "base_uri": "https://localhost:8080/"
        },
        "id": "v7ZOj8Xl2vDa",
        "outputId": "3ec72112-e1c0-4851-c2cf-ec7fb2e6e90d"
      },
      "source": [
        "import sklearn.tree as tree\n",
        "model_DT = tree.DecisionTreeRegressor(max_depth = 3)\n",
        "model_DT.fit(X_train , Y_train)\n",
        "\n",
        "DT_score_train = model_DT.score(X_train , Y_train)\n",
        "print('Train score' , DT_score_train)\n",
        "\n",
        "DT_score_test = model_DT.score(X_test ,  Y_test)\n",
        "print('Test score' , DT_score_test)\n",
        "\n",
        "DT_pred = model_DT.predict(X_test)\n",
        "\n",
        "print('MAE SCORE:' , metrics.mean_absolute_error(Y_test , DT_pred))\n",
        "print('MSE SCORE:' , metrics.mean_squared_error(Y_test , DT_pred))\n",
        "RMSE_DT = np.sqrt(metrics.mean_squared_error(Y_test , DT_pred))\n",
        "print('RMSE SCORE:' , RMSE_DT)\n",
        "\n",
        "dict_DT = {\n",
        "    'MODEL' : 'Decsison Tree',\n",
        "    'Train_ACCURACY' : DT_score_train,\n",
        "    'Test_ACCURACY' : DT_score_test,\n",
        "    'RMSE' : RMSE_DT\n",
        "}\n",
        "final_results.append(dict_DT)"
      ],
      "execution_count": 114,
      "outputs": [
        {
          "output_type": "stream",
          "name": "stdout",
          "text": [
            "Train score 0.4745177622974871\n",
            "Test score 0.4609861221617513\n",
            "MAE SCORE: 0.1443861728289178\n",
            "MSE SCORE: 0.034963106558504944\n",
            "RMSE SCORE: 0.1869842414710527\n"
          ]
        }
      ]
    },
    {
      "cell_type": "markdown",
      "source": [
        "**Gradient Boosting Regressor:**"
      ],
      "metadata": {
        "id": "a_fqMgcC1eU4"
      }
    },
    {
      "cell_type": "code",
      "metadata": {
        "id": "dzG9pC3jeJC7",
        "colab": {
          "base_uri": "https://localhost:8080/"
        },
        "outputId": "fe60d8d7-4c9a-40e7-a522-0b0d68dda935"
      },
      "source": [
        "from sklearn.ensemble import GradientBoostingRegressor\n",
        "model_GBR = GradientBoostingRegressor()\n",
        "model_GBR.fit(X_train , Y_train)\n",
        "\n",
        "GBR_score_train = model_GBR.score(X_train , Y_train)\n",
        "print('Train Score' , GBR_score_train)\n",
        "\n",
        "GBR_score_test = model_GBR.score(X_test , Y_test)\n",
        "print('Test score' , GBR_score_test)\n",
        "\n",
        "GBR_pred = model_GBR.predict(X_test)\n",
        "\n",
        "print('MAE SCORE:' , metrics.mean_absolute_error(Y_test , GBR_pred))\n",
        "print('MSE SCORE:' , metrics.mean_squared_error(Y_test , GBR_pred))\n",
        "RMSE_GBR = np.sqrt(metrics.mean_squared_error(Y_test , GBR_pred))\n",
        "print('RMSE SCORE:' , RMSE_GBR)\n",
        "\n",
        "dict_GBR = {\n",
        "    'MODEL' : 'Gradient Boosting Regressor',\n",
        "    'Train_ACCURACY' : GBR_score_train,\n",
        "    'Test_ACCURACY' : GBR_score_test,\n",
        "    'RMSE' : RMSE_GBR\n",
        "}\n",
        "final_results.append(dict_GBR)"
      ],
      "execution_count": 115,
      "outputs": [
        {
          "output_type": "stream",
          "name": "stderr",
          "text": [
            "/usr/local/lib/python3.7/dist-packages/sklearn/ensemble/_gb.py:494: DataConversionWarning: A column-vector y was passed when a 1d array was expected. Please change the shape of y to (n_samples, ), for example using ravel().\n",
            "  y = column_or_1d(y, warn=True)\n"
          ]
        },
        {
          "output_type": "stream",
          "name": "stdout",
          "text": [
            "Train Score 0.641868771237184\n",
            "Test score 0.5938331313213973\n",
            "MAE SCORE: 0.11937158377562027\n",
            "MSE SCORE: 0.02634599236497909\n",
            "RMSE SCORE: 0.16231448599856727\n"
          ]
        }
      ]
    },
    {
      "cell_type": "markdown",
      "source": [
        "**Histogram-Based Gradient Boosting Regressor:**"
      ],
      "metadata": {
        "id": "Xcr2jSCe1iq6"
      }
    },
    {
      "cell_type": "code",
      "metadata": {
        "colab": {
          "base_uri": "https://localhost:8080/"
        },
        "id": "TxF1eG64dA8J",
        "outputId": "53215029-b3a5-4890-e773-eb993d263663"
      },
      "source": [
        "from sklearn.experimental import enable_hist_gradient_boosting\n",
        "from sklearn.ensemble import HistGradientBoostingRegressor\n",
        "\n",
        "model_HBR = HistGradientBoostingRegressor()\n",
        "model_HBR.fit(X_train , Y_train)\n",
        "\n",
        "HBR_score_train = model_HBR.score(X_train , Y_train)\n",
        "print('Train score' , HBR_score_train)\n",
        "\n",
        "HBR_score_test = model_HBR.score(X_test , Y_test)\n",
        "print('Test Score' , HBR_score_test)\n",
        "\n",
        "HBR_pred = model_HBR.predict(X_test)\n",
        "\n",
        "print('MAE SCORE:' , metrics.mean_absolute_error(Y_test , HBR_pred))\n",
        "print('MSE SCORE:' , metrics.mean_squared_error(Y_test , HBR_pred))\n",
        "RMSE_HBR = np.sqrt(metrics.mean_squared_error(Y_test , HBR_pred))\n",
        "print('RMSE SCORE:' , RMSE_HBR)\n",
        "\n",
        "dict_HBR = {\n",
        "    'MODEL' : 'Hist Gradient Bossting Regressor',\n",
        "    'Train_ACCURACY' : HBR_score_train,\n",
        "    'Test_ACCURACY' : HBR_score_test,\n",
        "    'RMSE' : RMSE_HBR\n",
        "}\n",
        "final_results.append(dict_HBR)"
      ],
      "execution_count": 116,
      "outputs": [
        {
          "output_type": "stream",
          "name": "stderr",
          "text": [
            "/usr/local/lib/python3.7/dist-packages/sklearn/utils/validation.py:993: DataConversionWarning: A column-vector y was passed when a 1d array was expected. Please change the shape of y to (n_samples, ), for example using ravel().\n",
            "  y = column_or_1d(y, warn=True)\n"
          ]
        },
        {
          "output_type": "stream",
          "name": "stdout",
          "text": [
            "Train score 0.7132585323659753\n",
            "Test Score 0.5870367666936067\n",
            "MAE SCORE: 0.11811636871512554\n",
            "MSE SCORE: 0.026786838195600175\n",
            "RMSE SCORE: 0.16366685124239477\n"
          ]
        }
      ]
    },
    {
      "cell_type": "markdown",
      "source": [
        "**Gradient Boosting With XGBoost Regressor:**"
      ],
      "metadata": {
        "id": "Ba-nlmQD1mum"
      }
    },
    {
      "cell_type": "code",
      "metadata": {
        "colab": {
          "base_uri": "https://localhost:8080/"
        },
        "id": "lqjdO1e4juV9",
        "outputId": "c91d1fcd-675b-4987-e7d4-cb2ecc9f1706"
      },
      "source": [
        "from xgboost import XGBRegressor\n",
        "model_XGR = XGBRegressor()\n",
        "model_XGR.fit(X_train , Y_train)\n",
        "\n",
        "XGR_score_train = model_XGR.score(X_train , Y_train)\n",
        "print('Train Score' , XGR_score_train)\n",
        "\n",
        "XGR_score_test = model_XGR.score(X_test , Y_test)\n",
        "print('Test score' , XGR_score_test)\n",
        "\n",
        "XGR_pred = model_XGR.predict(X_test)\n",
        "\n",
        "print('MAE SCORE:' , metrics.mean_absolute_error(Y_test , XGR_pred))\n",
        "print('MSE SCORE:' , metrics.mean_squared_error(Y_test , XGR_pred))\n",
        "RMSE_XGR = np.sqrt(metrics.mean_squared_error(Y_test , XGR_pred))\n",
        "print('RMSE SCORE:' , RMSE_XGR)\n",
        "\n",
        "dict_XGR = {\n",
        "    'MODEL' : 'XGBoost Regressor',\n",
        "    'Train_ACCURACY' : XGR_score_train,\n",
        "    'Test_ACCURACY' : XGR_score_test,\n",
        "    'RMSE' : RMSE_XGR\n",
        "\n",
        "}\n",
        "final_results.append(dict_XGR)"
      ],
      "execution_count": 117,
      "outputs": [
        {
          "output_type": "stream",
          "name": "stdout",
          "text": [
            "[07:13:46] WARNING: /workspace/src/objective/regression_obj.cu:152: reg:linear is now deprecated in favor of reg:squarederror.\n",
            "Train Score 0.6402034889642091\n",
            "Test score 0.5931797044137492\n",
            "MAE SCORE: 0.11945717769928343\n",
            "MSE SCORE: 0.026388376866639633\n",
            "RMSE SCORE: 0.16244499643460747\n"
          ]
        }
      ]
    },
    {
      "cell_type": "markdown",
      "source": [
        "**Gradient Boosting With LightGBM Regressor:**"
      ],
      "metadata": {
        "id": "Yq3IfntZ1rYH"
      }
    },
    {
      "cell_type": "code",
      "metadata": {
        "colab": {
          "base_uri": "https://localhost:8080/"
        },
        "id": "ks6OwRIWldus",
        "outputId": "5603ed7c-f173-4c7f-e062-de597a68ef9a"
      },
      "source": [
        "from lightgbm import LGBMRegressor\n",
        "model_LGBM = LGBMRegressor()\n",
        "model_LGBM.fit(X_train , Y_train)\n",
        "\n",
        "LGBM_score_train = model_LGBM.score(X_train , Y_train)\n",
        "print('Train score' , LGBM_score_train)\n",
        "\n",
        "LGBM_score_test = model_LGBM.score(X_test , Y_test)\n",
        "print('Test score' , LGBM_score_test)\n",
        "\n",
        "LGBM_pred = model_LGBM.predict(X_test)\n",
        "\n",
        "print('MAE SCORE' , metrics.mean_absolute_error(Y_test , LGBM_pred))\n",
        "print('MSE SCORE' , metrics.mean_squared_error(Y_test , LGBM_pred))\n",
        "RMSE_LGBM = np.sqrt(metrics.mean_squared_error(Y_test , LGBM_pred))\n",
        "print('RMSE' , RMSE_LGBM)\n",
        "\n",
        "dict_LGBM = {\n",
        "    'MODEL' : 'LGBM Regressor',\n",
        "    'Train_ACCURACY' : LGBM_score_train,\n",
        "    'Test_ACCURACY' : LGBM_score_test,\n",
        "    'RMSE' : RMSE_LGBM \n",
        "}\n",
        "final_results.append(dict_LGBM)"
      ],
      "execution_count": 118,
      "outputs": [
        {
          "output_type": "stream",
          "name": "stdout",
          "text": [
            "Train score 0.7160927108785062\n",
            "Test score 0.583555588983669\n",
            "MAE SCORE 0.11881218837091471\n",
            "MSE SCORE 0.027012644602867057\n",
            "RMSE 0.16435523904903993\n"
          ]
        },
        {
          "output_type": "stream",
          "name": "stderr",
          "text": [
            "/usr/local/lib/python3.7/dist-packages/sklearn/utils/validation.py:993: DataConversionWarning: A column-vector y was passed when a 1d array was expected. Please change the shape of y to (n_samples, ), for example using ravel().\n",
            "  y = column_or_1d(y, warn=True)\n"
          ]
        }
      ]
    },
    {
      "cell_type": "code",
      "metadata": {
        "id": "Eoymnvizovcu",
        "colab": {
          "base_uri": "https://localhost:8080/",
          "height": 300
        },
        "outputId": "1a588b64-b34d-4774-beb0-938177312a21"
      },
      "source": [
        "import pandas as pd\n",
        "df_results = pd.DataFrame(final_results)\n",
        "df_results['ACCURACY'] = ((df_results['Train_ACCURACY']+df_results['Test_ACCURACY'])/2)*100\n",
        "(df_results.sort_values(by=['ACCURACY','RMSE'],ascending=False)\n",
        "    .reset_index(drop=True)\n",
        "    .style.background_gradient(cmap='Greens'))"
      ],
      "execution_count": 119,
      "outputs": [
        {
          "output_type": "execute_result",
          "data": {
            "text/plain": [
              "<pandas.io.formats.style.Styler at 0x7f21e543fe50>"
            ],
            "text/html": [
              "<style type=\"text/css\">\n",
              "#T_b281e_row0_col1 {\n",
              "  background-color: #00481d;\n",
              "  color: #f1f1f1;\n",
              "}\n",
              "#T_b281e_row0_col2 {\n",
              "  background-color: #005522;\n",
              "  color: #f1f1f1;\n",
              "}\n",
              "#T_b281e_row0_col3 {\n",
              "  background-color: #eff9ec;\n",
              "  color: #000000;\n",
              "}\n",
              "#T_b281e_row0_col4, #T_b281e_row1_col1, #T_b281e_row1_col4, #T_b281e_row2_col2, #T_b281e_row7_col3 {\n",
              "  background-color: #00441b;\n",
              "  color: #f1f1f1;\n",
              "}\n",
              "#T_b281e_row1_col2 {\n",
              "  background-color: #005c25;\n",
              "  color: #f1f1f1;\n",
              "}\n",
              "#T_b281e_row1_col3 {\n",
              "  background-color: #ebf7e7;\n",
              "  color: #000000;\n",
              "}\n",
              "#T_b281e_row2_col1 {\n",
              "  background-color: #309950;\n",
              "  color: #f1f1f1;\n",
              "}\n",
              "#T_b281e_row2_col3, #T_b281e_row7_col1, #T_b281e_row7_col2, #T_b281e_row7_col4 {\n",
              "  background-color: #f7fcf5;\n",
              "  color: #000000;\n",
              "}\n",
              "#T_b281e_row2_col4 {\n",
              "  background-color: #0e7936;\n",
              "  color: #f1f1f1;\n",
              "}\n",
              "#T_b281e_row3_col1 {\n",
              "  background-color: #329b51;\n",
              "  color: #f1f1f1;\n",
              "}\n",
              "#T_b281e_row3_col2 {\n",
              "  background-color: #00451c;\n",
              "  color: #f1f1f1;\n",
              "}\n",
              "#T_b281e_row3_col3 {\n",
              "  background-color: #f6fcf4;\n",
              "  color: #000000;\n",
              "}\n",
              "#T_b281e_row3_col4 {\n",
              "  background-color: #107a37;\n",
              "  color: #f1f1f1;\n",
              "}\n",
              "#T_b281e_row4_col1, #T_b281e_row5_col1, #T_b281e_row6_col1 {\n",
              "  background-color: #8ed08b;\n",
              "  color: #000000;\n",
              "}\n",
              "#T_b281e_row4_col2, #T_b281e_row5_col2, #T_b281e_row6_col2 {\n",
              "  background-color: #0c7735;\n",
              "  color: #f1f1f1;\n",
              "}\n",
              "#T_b281e_row4_col3, #T_b281e_row5_col3, #T_b281e_row6_col3 {\n",
              "  background-color: #d9f0d3;\n",
              "  color: #000000;\n",
              "}\n",
              "#T_b281e_row4_col4, #T_b281e_row5_col4, #T_b281e_row6_col4 {\n",
              "  background-color: #52b365;\n",
              "  color: #f1f1f1;\n",
              "}\n",
              "</style>\n",
              "<table id=\"T_b281e_\" class=\"dataframe\">\n",
              "  <thead>\n",
              "    <tr>\n",
              "      <th class=\"blank level0\" >&nbsp;</th>\n",
              "      <th class=\"col_heading level0 col0\" >MODEL</th>\n",
              "      <th class=\"col_heading level0 col1\" >Train_ACCURACY</th>\n",
              "      <th class=\"col_heading level0 col2\" >Test_ACCURACY</th>\n",
              "      <th class=\"col_heading level0 col3\" >RMSE</th>\n",
              "      <th class=\"col_heading level0 col4\" >ACCURACY</th>\n",
              "    </tr>\n",
              "  </thead>\n",
              "  <tbody>\n",
              "    <tr>\n",
              "      <th id=\"T_b281e_level0_row0\" class=\"row_heading level0 row0\" >0</th>\n",
              "      <td id=\"T_b281e_row0_col0\" class=\"data row0 col0\" >Hist Gradient Bossting Regressor</td>\n",
              "      <td id=\"T_b281e_row0_col1\" class=\"data row0 col1\" >0.713259</td>\n",
              "      <td id=\"T_b281e_row0_col2\" class=\"data row0 col2\" >0.587037</td>\n",
              "      <td id=\"T_b281e_row0_col3\" class=\"data row0 col3\" >0.163667</td>\n",
              "      <td id=\"T_b281e_row0_col4\" class=\"data row0 col4\" >65.014765</td>\n",
              "    </tr>\n",
              "    <tr>\n",
              "      <th id=\"T_b281e_level0_row1\" class=\"row_heading level0 row1\" >1</th>\n",
              "      <td id=\"T_b281e_row1_col0\" class=\"data row1 col0\" >LGBM Regressor</td>\n",
              "      <td id=\"T_b281e_row1_col1\" class=\"data row1 col1\" >0.716093</td>\n",
              "      <td id=\"T_b281e_row1_col2\" class=\"data row1 col2\" >0.583556</td>\n",
              "      <td id=\"T_b281e_row1_col3\" class=\"data row1 col3\" >0.164355</td>\n",
              "      <td id=\"T_b281e_row1_col4\" class=\"data row1 col4\" >64.982415</td>\n",
              "    </tr>\n",
              "    <tr>\n",
              "      <th id=\"T_b281e_level0_row2\" class=\"row_heading level0 row2\" >2</th>\n",
              "      <td id=\"T_b281e_row2_col0\" class=\"data row2 col0\" >Gradient Boosting Regressor</td>\n",
              "      <td id=\"T_b281e_row2_col1\" class=\"data row2 col1\" >0.641869</td>\n",
              "      <td id=\"T_b281e_row2_col2\" class=\"data row2 col2\" >0.593833</td>\n",
              "      <td id=\"T_b281e_row2_col3\" class=\"data row2 col3\" >0.162314</td>\n",
              "      <td id=\"T_b281e_row2_col4\" class=\"data row2 col4\" >61.785095</td>\n",
              "    </tr>\n",
              "    <tr>\n",
              "      <th id=\"T_b281e_level0_row3\" class=\"row_heading level0 row3\" >3</th>\n",
              "      <td id=\"T_b281e_row3_col0\" class=\"data row3 col0\" >XGBoost Regressor</td>\n",
              "      <td id=\"T_b281e_row3_col1\" class=\"data row3 col1\" >0.640203</td>\n",
              "      <td id=\"T_b281e_row3_col2\" class=\"data row3 col2\" >0.593180</td>\n",
              "      <td id=\"T_b281e_row3_col3\" class=\"data row3 col3\" >0.162445</td>\n",
              "      <td id=\"T_b281e_row3_col4\" class=\"data row3 col4\" >61.669160</td>\n",
              "    </tr>\n",
              "    <tr>\n",
              "      <th id=\"T_b281e_level0_row4\" class=\"row_heading level0 row4\" >4</th>\n",
              "      <td id=\"T_b281e_row4_col0\" class=\"data row4 col0\" >Linear Regressionn</td>\n",
              "      <td id=\"T_b281e_row4_col1\" class=\"data row4 col1\" >0.577716</td>\n",
              "      <td id=\"T_b281e_row4_col2\" class=\"data row4 col2\" >0.571387</td>\n",
              "      <td id=\"T_b281e_row4_col3\" class=\"data row4 col3\" >0.166739</td>\n",
              "      <td id=\"T_b281e_row4_col4\" class=\"data row4 col4\" >57.455129</td>\n",
              "    </tr>\n",
              "    <tr>\n",
              "      <th id=\"T_b281e_level0_row5\" class=\"row_heading level0 row5\" >5</th>\n",
              "      <td id=\"T_b281e_row5_col0\" class=\"data row5 col0\" >Ridge Regression</td>\n",
              "      <td id=\"T_b281e_row5_col1\" class=\"data row5 col1\" >0.577715</td>\n",
              "      <td id=\"T_b281e_row5_col2\" class=\"data row5 col2\" >0.571386</td>\n",
              "      <td id=\"T_b281e_row5_col3\" class=\"data row5 col3\" >0.166739</td>\n",
              "      <td id=\"T_b281e_row5_col4\" class=\"data row5 col4\" >57.455048</td>\n",
              "    </tr>\n",
              "    <tr>\n",
              "      <th id=\"T_b281e_level0_row6\" class=\"row_heading level0 row6\" >6</th>\n",
              "      <td id=\"T_b281e_row6_col0\" class=\"data row6 col0\" >Lasso Regression</td>\n",
              "      <td id=\"T_b281e_row6_col1\" class=\"data row6 col1\" >0.577596</td>\n",
              "      <td id=\"T_b281e_row6_col2\" class=\"data row6 col2\" >0.571503</td>\n",
              "      <td id=\"T_b281e_row6_col3\" class=\"data row6 col3\" >0.166717</td>\n",
              "      <td id=\"T_b281e_row6_col4\" class=\"data row6 col4\" >57.454935</td>\n",
              "    </tr>\n",
              "    <tr>\n",
              "      <th id=\"T_b281e_level0_row7\" class=\"row_heading level0 row7\" >7</th>\n",
              "      <td id=\"T_b281e_row7_col0\" class=\"data row7 col0\" >Decsison Tree</td>\n",
              "      <td id=\"T_b281e_row7_col1\" class=\"data row7 col1\" >0.474518</td>\n",
              "      <td id=\"T_b281e_row7_col2\" class=\"data row7 col2\" >0.460986</td>\n",
              "      <td id=\"T_b281e_row7_col3\" class=\"data row7 col3\" >0.186984</td>\n",
              "      <td id=\"T_b281e_row7_col4\" class=\"data row7 col4\" >46.775194</td>\n",
              "    </tr>\n",
              "  </tbody>\n",
              "</table>\n"
            ]
          },
          "metadata": {},
          "execution_count": 119
        }
      ]
    },
    {
      "cell_type": "markdown",
      "source": [
        "## Thank you !!"
      ],
      "metadata": {
        "id": "WiJTXltE4edH"
      }
    },
    {
      "cell_type": "code",
      "source": [
        ""
      ],
      "metadata": {
        "id": "UAT0qKu34htF"
      },
      "execution_count": null,
      "outputs": []
    }
  ]
}